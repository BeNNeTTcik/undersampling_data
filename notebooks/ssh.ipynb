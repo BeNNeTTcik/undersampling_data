{
 "cells": [
  {
   "cell_type": "code",
   "execution_count": 4,
   "metadata": {},
   "outputs": [],
   "source": [
    "import pandas as pd\n",
    "import matplotlib.pyplot as plt\n",
    "import seaborn as sns\n",
    "\n",
    "import datacompy\n",
    "import os, sys\n",
    "import numpy as np\n",
    "\n",
    "# narzedzia\n",
    "from sklearn.model_selection import (\n",
    "    train_test_split,\n",
    "    cross_val_score,\n",
    "    cross_val_predict,\n",
    "    learning_curve,\n",
    "    RepeatedStratifiedKFold,\n",
    "    GridSearchCV,\n",
    ")\n",
    "from collections import Counter\n",
    "from sklearn.metrics import classification_report, confusion_matrix, silhouette_score, accuracy_score\n",
    "from sklearn import tree\n",
    "from sklearn.tree import plot_tree\n",
    "from sklearn.preprocessing import StandardScaler, OneHotEncoder, LabelEncoder\n",
    "from scipy import stats\n",
    "\n",
    "# modele\n",
    "from xgboost import XGBClassifier, XGBRFClassifier\n",
    "from sklearn.linear_model import LogisticRegression\n",
    "from sklearn.tree import DecisionTreeClassifier\n",
    "from sklearn.ensemble import RandomForestClassifier\n",
    "\n",
    "# methods\n",
    "from imblearn.under_sampling import ClusterCentroids, NearMiss\n",
    "from scipy.optimize import differential_evolution\n",
    "from sklearn.cluster import KMeans\n",
    "from sklearn.ensemble import IsolationForest\n",
    "from sklearn.neighbors import LocalOutlierFactor\n",
    "from sklearn.inspection import permutation_importance\n",
    "\n",
    "from imblearn.over_sampling import SMOTE, BorderlineSMOTE\n",
    "from ctgan import CTGAN"
   ]
  },
  {
   "cell_type": "markdown",
   "metadata": {},
   "source": [
    "### Oversampling NEW"
   ]
  },
  {
   "cell_type": "code",
   "execution_count": 41,
   "metadata": {},
   "outputs": [
    {
     "name": "stdout",
     "output_type": "stream",
     "text": [
      "Index(['user', 'is_private', 'is_failure', 'is_root', 'is_valid',\n",
      "       'not_valid_count', 'ip_failure', 'ip_success', 'no_failure', 'first',\n",
      "       'td', 'ts', 'target'],\n",
      "      dtype='object')\n",
      "        user  is_private  is_failure  is_root  is_valid  not_valid_count  \\\n",
      "0     kamran           1           1        0         1                0   \n",
      "1     kamran           1           1        0         1                0   \n",
      "2    student           1           0        0         1                0   \n",
      "3     kamran           1           1        0         1                0   \n",
      "4     kamran           1           1        0         1                0   \n",
      "..       ...         ...         ...      ...       ...              ...   \n",
      "278   osamac           1           1        0         1                0   \n",
      "279   osamac           1           1        0         1                0   \n",
      "280   osamac           1           0        0         1                0   \n",
      "281   osamac           1           0        0         1                0   \n",
      "282   osamac           1           0        0         1                0   \n",
      "\n",
      "     ip_failure  ip_success  no_failure  first   td            ts  target  \n",
      "0             1           0           2      1    0  1.544679e+09       0  \n",
      "1             2           0           3      0   18  1.544679e+09       0  \n",
      "2             0           1           0      0  133  1.544679e+09       0  \n",
      "3             1           1           2      0   58  1.544679e+09       0  \n",
      "4             2           1           3      0   29  1.544679e+09       0  \n",
      "..          ...         ...         ...    ...  ...           ...     ...  \n",
      "278           8           0          12      0   21  1.514931e+09       1  \n",
      "279           9           0          13      0   16  1.514931e+09       1  \n",
      "280           0           1           0      0    7  1.514931e+09       0  \n",
      "281           0           1           0      1    0  1.514959e+09       0  \n",
      "282           0           1           0      1    0  1.515000e+09       0  \n",
      "\n",
      "[282 rows x 13 columns]\n",
      "     user  is_private  is_failure  is_root  is_valid  not_valid_count  \\\n",
      "0      24           1           1        0         1                0   \n",
      "1      24           1           1        0         1                0   \n",
      "2      40           1           0        0         1                0   \n",
      "3      24           1           1        0         1                0   \n",
      "4      24           1           1        0         1                0   \n",
      "..    ...         ...         ...      ...       ...              ...   \n",
      "278    30           1           1        0         1                0   \n",
      "279    30           1           1        0         1                0   \n",
      "280    30           1           0        0         1                0   \n",
      "281    30           1           0        0         1                0   \n",
      "282    30           1           0        0         1                0   \n",
      "\n",
      "     ip_failure  ip_success  no_failure  first   td            ts  target  \n",
      "0             1           0           2      1    0  1.544679e+09       0  \n",
      "1             2           0           3      0   18  1.544679e+09       0  \n",
      "2             0           1           0      0  133  1.544679e+09       0  \n",
      "3             1           1           2      0   58  1.544679e+09       0  \n",
      "4             2           1           3      0   29  1.544679e+09       0  \n",
      "..          ...         ...         ...    ...  ...           ...     ...  \n",
      "278           8           0          12      0   21  1.514931e+09       1  \n",
      "279           9           0          13      0   16  1.514931e+09       1  \n",
      "280           0           1           0      0    7  1.514931e+09       0  \n",
      "281           0           1           0      1    0  1.514959e+09       0  \n",
      "282           0           1           0      1    0  1.515000e+09       0  \n",
      "\n",
      "[282 rows x 13 columns]\n",
      "user                 int32\n",
      "is_private           int32\n",
      "is_failure           int32\n",
      "is_root              int32\n",
      "is_valid             int32\n",
      "not_valid_count      int32\n",
      "ip_failure           int32\n",
      "ip_success           int32\n",
      "no_failure           int32\n",
      "first                int32\n",
      "td                   int32\n",
      "ts                 float64\n",
      "target               int32\n",
      "dtype: object\n"
     ]
    }
   ],
   "source": [
    "#read data\n",
    "df = pd.read_csv(\"D:\\\\ml\\\\undersampling_data\\\\data\\\\ssh\\\\SSH.csv\")\n",
    "print(df.columns)\n",
    "df = df.drop_duplicates()\n",
    "print(df)\n",
    "\n",
    "#label encoding\n",
    "labelencoder = LabelEncoder()\n",
    "#label_mapping = dict(zip(labelencoder.classes_, labelencoder.transform(labelencoder.classes_)))\n",
    "column = \"user\"\n",
    "df_encoded = labelencoder.fit_transform(df[column])\n",
    "df_encoded = pd.DataFrame(df_encoded, columns=[column])\n",
    "df_encoded = pd.concat([df_encoded, df.drop(columns=column)], axis=1)\n",
    "df_encoded = df_encoded.drop(index=76)\n",
    "df_encoded.loc[282, \"user\"] = 30\n",
    "\n",
    "\n",
    "columns_to_convert = [col for col in df_encoded.columns if col != \"ts\"]\n",
    "df_encoded[columns_to_convert] = df_encoded[columns_to_convert].astype(int)\n",
    "print(df_encoded)\n",
    "print(df_encoded.dtypes)\n",
    "#standardize data\n",
    "scaler = StandardScaler()\n",
    "df_encoded[\"ts\"] = scaler.fit_transform(df_encoded[[\"ts\"]])\n",
    "\n",
    "#split data\n",
    "y = df_encoded[\"target\"]\n",
    "X = df_encoded.drop(columns=[\"target\"])\n",
    "X_train, X_test, y_train, y_test = train_test_split(X, y, test_size=0.3, stratify=y)\n",
    "\n",
    "#df_train summary X_train, y_train\n",
    "df_train = pd.concat([X_train, y_train], axis=1) \n",
    "df_train['source'] = 'original' \n",
    "df_train.to_csv(\"D:\\\\ml\\\\undersampling_data\\\\data\\\\ssh\\\\new\\\\original_data.csv\")\n",
    "\n",
    "y_test.to_csv(\"D:\\\\ml\\\\undersampling_data\\\\data\\\\ssh\\\\new\\\\test\\\\y_test.csv\")\n",
    "X_test.to_csv(\"D:\\\\ml\\\\undersampling_data\\\\data\\\\ssh\\\\new\\\\test\\\\X_test.csv\")"
   ]
  },
  {
   "cell_type": "code",
   "execution_count": 72,
   "metadata": {},
   "outputs": [
    {
     "name": "stdout",
     "output_type": "stream",
     "text": [
      "Przed Counter({0: 151, 1: 46})\n",
      "Po Counter({0: 151, 1: 151})\n"
     ]
    },
    {
     "data": {
      "text/plain": [
       "<Axes: xlabel='target'>"
      ]
     },
     "execution_count": 72,
     "metadata": {},
     "output_type": "execute_result"
    },
    {
     "data": {
      "image/png": "[encoded data removed]",
      "text/plain": [
       "<Figure size 640x480 with 1 Axes>"
      ]
     },
     "metadata": {},
     "output_type": "display_data"
    }
   ],
   "source": [
    "file_path1 = \"D:\\\\ml\\\\undersampling_data\\\\data\\\\ssh\\\\new\\\\smote_data.csv\"\n",
    "#zamiana jesli istnieje to wczytaj plik jesli nie to stworz\n",
    "con = Counter(y_train)\n",
    "print(\"Przed\", con)\n",
    "smote = SMOTE(random_state=42)\n",
    "X_train_sm, y_train_sm = smote.fit_resample(X_train, y_train)\n",
    "\n",
    "train_data_smote = pd.concat([X_train_sm, y_train_sm], axis=1)          #polaczenie danych wygenerowanych X_train oraz y_train\n",
    "train_data_smote['generated_by_smote'] = ['original' if i < len(df_train) else 'smote' for i in range(len(train_data_smote))]\n",
    "smote_data = train_data_smote[train_data_smote['generated_by_smote'] == 'smote'].drop('generated_by_smote', axis=1)\n",
    "smote_data[\"source\"] = \"smote\"\n",
    "if not os.path.exists(file_path1):\n",
    "    smote_data.to_csv(file_path1, index=False)\n",
    "else:\n",
    "    print(f'Plik istnieje pod ścieżką: {file_path1}')\n",
    "con1 = Counter(y_train_sm)\n",
    "print(\"Po\", con1)\n",
    "pd.Series(y_train_sm).value_counts().plot.bar()"
   ]
  },
  {
   "cell_type": "code",
   "execution_count": 43,
   "metadata": {},
   "outputs": [
    {
     "name": "stdout",
     "output_type": "stream",
     "text": [
      "Przed Counter({0: 151, 1: 46})\n",
      "Po Counter({0: 151, 1: 151})\n",
      "(302, 12) (302,)\n"
     ]
    },
    {
     "data": {
      "image/png": "[encoded data removed]",
      "text/plain": [
       "<Figure size 640x480 with 1 Axes>"
      ]
     },
     "metadata": {},
     "output_type": "display_data"
    }
   ],
   "source": [
    "file_path2 = \"D:\\\\ml\\\\undersampling_data\\\\data\\\\ssh\\\\new\\\\borderline_data.csv\"\n",
    "#generate new data by borderLineSMOTE\n",
    "con3 = Counter(y_train)\n",
    "print(\"Przed\", con3)\n",
    "brdsmote = BorderlineSMOTE(random_state=42)\n",
    "X_train_bsm, y_train_bsm = brdsmote.fit_resample(X_train, y_train)\n",
    "con4 = Counter(y_train_bsm)\n",
    "print(\"Po\", con4)\n",
    "\n",
    "train_data_borderline_smote = pd.concat([X_train_bsm, y_train_bsm], axis=1)          #polaczenie danych wygenerowanych X_train oraz y_train\n",
    "train_data_borderline_smote['generated_by_borderline_smote'] = ['original' if i < len(df_train) else 'brd smote' for i in range(len(train_data_borderline_smote))]\n",
    "boarderline_smote_data = train_data_borderline_smote[train_data_borderline_smote['generated_by_borderline_smote'] == 'brd smote'].drop('generated_by_borderline_smote', axis=1)\n",
    "boarderline_smote_data[\"source\"]=\"borderline smote\"\n",
    "boarderline_smote_data = boarderline_smote_data[boarderline_smote_data['source'] != 'original']\n",
    "if not os.path.exists(file_path2):\n",
    "    boarderline_smote_data.to_csv(file_path2, index=False)\n",
    "else:\n",
    "    print(f'Plik istnieje pod ścieżką: {file_path2}')\n",
    "\n",
    "pd.Series(y_train_bsm).value_counts().plot.bar()\n",
    "print(X_train_bsm.shape, y_train_bsm.shape)"
   ]
  },
  {
   "cell_type": "code",
   "execution_count": null,
   "metadata": {},
   "outputs": [],
   "source": [
    "label_mapping = dict(zip(labelencoder.classes_, labelencoder.transform(labelencoder.classes_)))"
   ]
  },
  {
   "cell_type": "code",
   "execution_count": null,
   "metadata": {},
   "outputs": [
    {
     "name": "stdout",
     "output_type": "stream",
     "text": [
      "Dane wygenerowane:  target\n",
      "1    105\n",
      "Name: count, dtype: int64\n",
      "Before Counter({0: 151, 1: 46})\n",
      "After Counter({0: 151, 1: 151})\n",
      "0      37\n",
      "1      12\n",
      "2      15\n",
      "3       2\n",
      "4      42\n",
      "       ..\n",
      "100    21\n",
      "101    44\n",
      "102    44\n",
      "103    18\n",
      "104     1\n",
      "Name: user, Length: 105, dtype: int32\n"
     ]
    },
    {
     "data": {
      "text/plain": [
       "<Axes: xlabel='target'>"
      ]
     },
     "execution_count": 46,
     "metadata": {},
     "output_type": "execute_result"
    },
    {
     "data": {
      "image/png": "[encoded data removed]",
      "text/plain": [
       "<Figure size 640x480 with 1 Axes>"
      ]
     },
     "metadata": {},
     "output_type": "display_data"
    }
   ],
   "source": [
    "file_path3 = \"D:\\\\ml\\\\undersampling_data\\\\data\\\\ssh\\\\new\\\\GAN_data.csv\"        #sciezka wraz z nazwa pod jaka wygenerowac plik\n",
    "#generate new data by GAN\n",
    "\n",
    "#data preparation\n",
    "indexes_to_remove = y_test.index\n",
    "df_gan = df.drop(index=indexes_to_remove)\n",
    "\n",
    "\n",
    "\n",
    "columns_list = df_gan.columns\n",
    "target_num = df_gan['target'].value_counts()\n",
    "ctgan = CTGAN(epochs=10)        #model\n",
    "\n",
    "if target_num[0] > target_num[1]:\n",
    "    data_y1 = df_gan[df_gan['target']==1]\n",
    "    ctgan.fit(data_y1, columns_list)\n",
    "    sample = abs(target_num[0]-target_num[1])\n",
    "    df_GAN = ctgan.sample(sample)\n",
    "    print('Dane wygenerowane: ', df_GAN['target'].value_counts())\n",
    "    balanced_data = pd.concat([df_gan, df_GAN], ignore_index=False)\n",
    "else:\n",
    "    data_y0 = df_gan[df_gan['target']==0]\n",
    "    ctgan.fit(data_y0, columns_list)\n",
    "    sample = abs(target_num[0]-target_num[1])\n",
    "    df_GAN = ctgan.sample(sample)\n",
    "    print('Dane wygenerowane: ', df_GAN['target'].value_counts())\n",
    "    balanced_data = pd.concat([df_gan, df_GAN], ignore_index=False)\n",
    "\n",
    "\n",
    "\n",
    "#balanced_data = balanced_data.drop(columns=[\"source\"])  \n",
    "y_train_gan = balanced_data[\"target\"]\n",
    "X_train_gan = balanced_data.drop(columns=[\"target\"])\n",
    "con5 = Counter(y_train)\n",
    "print(\"Before\", con5)\n",
    "con6 = Counter(y_train_gan)\n",
    "print(\"After\", con6)\n",
    "gan_data = df_GAN\n",
    "\n",
    "#label encoding + standardize\n",
    "gan_data[\"user\"] = gan_data[\"user\"].map(label_mapping).fillna(-1).astype(int)\n",
    "column = \"user\"\n",
    "gan_data[\"ts\"] = scaler.fit_transform(gan_data[[\"ts\"]])\n",
    "\n",
    "gan_data[\"source\"] = \"gan\"\n",
    "if not os.path.exists(file_path3):\n",
    "    gan_data.to_csv(file_path3, index=False)\n",
    "else:\n",
    "    print(f'Plik istnieje pod ścieżką: {file_path3}')\n",
    "\n",
    "pd.Series(y_train_gan).value_counts().plot.bar()"
   ]
  },
  {
   "cell_type": "markdown",
   "metadata": {},
   "source": [
    "### Data"
   ]
  },
  {
   "cell_type": "code",
   "execution_count": 73,
   "metadata": {},
   "outputs": [],
   "source": [
    "#oversampling data\n",
    "original_data = pd.read_csv(\"D:\\\\ml\\\\undersampling_data\\\\data\\\\ssh\\\\new\\\\original_data.csv\")\n",
    "original_data = original_data.drop(columns=[\"Unnamed: 0\"])\n",
    "smote_data = pd.read_csv(\"D:\\\\ml\\\\undersampling_data\\\\data\\\\ssh\\\\new\\\\smote_data.csv\")\n",
    "GAN_data = pd.read_csv(\"D:\\\\ml\\\\undersampling_data\\\\data\\\\ssh\\\\new\\\\GAN_data.csv\")\n",
    "borderline_data = pd.read_csv(\"D:\\\\ml\\\\undersampling_data\\\\data\\\\ssh\\\\new\\\\borderline_data.csv\")\n",
    "\n",
    "# test data\n",
    "X_test = pd.read_csv(\"D:\\\\ml\\\\undersampling_data\\\\data\\\\ssh\\\\new\\\\test\\\\X_test.csv\")\n",
    "y_test = pd.read_csv(\"D:\\\\ml\\\\undersampling_data\\\\data\\\\ssh\\\\new\\\\test\\\\y_test.csv\")"
   ]
  },
  {
   "cell_type": "code",
   "execution_count": 74,
   "metadata": {},
   "outputs": [],
   "source": [
    "data1 = pd.concat([GAN_data, smote_data], axis=0, ignore_index=True)\n",
    "data2 = pd.concat([borderline_data, original_data], axis=0, ignore_index=True)\n",
    "NM_data = pd.concat([data1, data2], axis=0, ignore_index=True)\n",
    "#NM_data = NM_data.drop(index=397)\n",
    "#NM_data = NM_data.reset_index(drop=True) \n",
    "\n",
    "\n",
    "y_under_NM = NM_data['target']\n",
    "X_under_NM = NM_data.drop(columns=[\"target\", \"source\"]) \n",
    "NM = NearMiss()\n",
    "X_NM, y_NM = NM.fit_resample(X_under_NM, y_under_NM)"
   ]
  },
  {
   "cell_type": "code",
   "execution_count": 77,
   "metadata": {},
   "outputs": [
    {
     "name": "stdout",
     "output_type": "stream",
     "text": [
      "Liczba wierszy z NaN: 0\n",
      "Wiersze z NaN:\n",
      "Empty DataFrame\n",
      "Columns: [user, is_private, is_failure, is_root, is_valid, not_valid_count, ip_failure, ip_success, no_failure, first, td, ts, target, source]\n",
      "Index: []\n"
     ]
    }
   ],
   "source": [
    "# sprawdzanie czy sa wartosci NaN\n",
    "data_check = NM_data\n",
    "nan_rows = data_check[data_check.isna().any(axis=1)]\n",
    "print(f\"Liczba wierszy z NaN: {nan_rows.shape[0]}\")\n",
    "print(\"Wiersze z NaN:\")\n",
    "print(nan_rows)"
   ]
  }
 ],
 "metadata": {
  "kernelspec": {
   "display_name": "python8",
   "language": "python",
   "name": "python3"
  },
  "language_info": {
   "codemirror_mode": {
    "name": "ipython",
    "version": 3
   },
   "file_extension": ".py",
   "mimetype": "text/x-python",
   "name": "python",
   "nbconvert_exporter": "python",
   "pygments_lexer": "ipython3",
   "version": "3.8.20"
  }
 },
 "nbformat": 4,
 "nbformat_minor": 2
}
