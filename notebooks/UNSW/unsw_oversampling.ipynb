{
 "cells": [
  {
   "cell_type": "markdown",
   "id": "08b6e87b",
   "metadata": {},
   "source": [
    "# Create synthetic samples from UNSW dataset"
   ]
  },
  {
   "cell_type": "code",
   "execution_count": 1,
   "id": "32ca50a2",
   "metadata": {},
   "outputs": [
    {
     "name": "stderr",
     "output_type": "stream",
     "text": [
      "C:\\Users\\mateu\\AppData\\Local\\Temp\\ipykernel_30960\\1422509104.py:5: UserWarning: SparkPandasCompare currently only supports Numpy < 2.Please note that the SparkPandasCompare functionality will not work and currently is not supported.\n",
      "  import datacompy\n"
     ]
    }
   ],
   "source": [
    "import pandas as pd\n",
    "import matplotlib.pyplot as plt\n",
    "import seaborn as sns\n",
    "import pickle\n",
    "import datacompy\n",
    "import os, sys\n",
    "import numpy as np\n",
    "import re\n",
    "import ast\n",
    "import gower\n",
    "from pathlib import Path\n",
    "import openpyxl\n",
    "import itertools\n",
    "\n",
    "# narzedzia\n",
    "from sklearn.model_selection import (\n",
    "    train_test_split,\n",
    "    cross_val_score,\n",
    "    cross_val_predict,\n",
    "    learning_curve,\n",
    "    RepeatedStratifiedKFold,\n",
    "    GridSearchCV,\n",
    "    RandomizedSearchCV\n",
    ")\n",
    "from collections import Counter\n",
    "from sklearn.metrics import classification_report, confusion_matrix, silhouette_score, accuracy_score, pairwise_distances, make_scorer, precision_score, f1_score, roc_auc_score\n",
    "from sklearn.metrics.pairwise import cosine_similarity\n",
    "from sklearn import tree\n",
    "from sklearn.tree import plot_tree\n",
    "from sklearn.preprocessing import StandardScaler, OneHotEncoder, LabelEncoder\n",
    "from scipy import stats\n",
    "from scipy.stats import chi2_contingency, f_oneway, friedmanchisquare, wilcoxon\n",
    "from scipy.spatial import distance\n",
    "from joblib import dump, load\n",
    "\n",
    "# modele\n",
    "from xgboost import XGBClassifier, XGBRFClassifier\n",
    "#from sklearn.linear_model import LogisticRegression\n",
    "from sklearn.tree import DecisionTreeClassifier\n",
    "from sklearn.ensemble import RandomForestClassifier\n",
    "\n",
    "# methods\n",
    "from imblearn.under_sampling import ClusterCentroids, NearMiss\n",
    "from scipy.optimize import differential_evolution\n",
    "from sklearn.cluster import KMeans, AgglomerativeClustering, DBSCAN, HDBSCAN\n",
    "from sklearn.ensemble import IsolationForest\n",
    "from sklearn.neighbors import LocalOutlierFactor, KNeighborsClassifier, NearestNeighbors\n",
    "from sklearn.inspection import permutation_importance\n",
    "from scipy.spatial.distance import euclidean\n",
    "from imblearn.over_sampling import SMOTE, BorderlineSMOTE\n",
    "#from ctgan import CTGAN"
   ]
  },
  {
   "cell_type": "markdown",
   "id": "f44dc00d",
   "metadata": {},
   "source": [
    "### Preprocessing"
   ]
  },
  {
   "cell_type": "code",
   "execution_count": 3,
   "id": "2dc78ed9",
   "metadata": {},
   "outputs": [
    {
     "name": "stderr",
     "output_type": "stream",
     "text": [
      "C:\\Users\\mateu\\AppData\\Local\\Temp\\ipykernel_20668\\3554131459.py:2: DtypeWarning: Columns (1,3,47) have mixed types. Specify dtype option on import or set low_memory=False.\n",
      "  df_unsw_1 = pd.read_csv('D:\\\\ml\\\\undersampling_data\\\\data\\\\unsw\\\\UNSW-NB15_1.csv')\n",
      "C:\\Users\\mateu\\AppData\\Local\\Temp\\ipykernel_20668\\3554131459.py:3: DtypeWarning: Columns (3,39,47) have mixed types. Specify dtype option on import or set low_memory=False.\n",
      "  df_unsw_2 = pd.read_csv('D:\\\\ml\\\\undersampling_data\\\\data\\\\unsw\\\\UNSW-NB15_2.csv')\n"
     ]
    }
   ],
   "source": [
    "#df_unsw_features = pd.read_csv('D:\\\\ml\\\\undersampling_data\\\\data\\\\unsw\\\\NUSW-NB15_features.csv')\n",
    "df_unsw_1 = pd.read_csv('D:\\\\ml\\\\undersampling_data\\\\data\\\\unsw\\\\UNSW-NB15_1.csv')\n",
    "df_unsw_2 = pd.read_csv('D:\\\\ml\\\\undersampling_data\\\\data\\\\unsw\\\\UNSW-NB15_2.csv')\n",
    "df_unsw_3 = pd.read_csv('D:\\\\ml\\\\undersampling_data\\\\data\\\\unsw\\\\UNSW-NB15_3.csv')\n",
    "df_unsw_4 = pd.read_csv('D:\\\\ml\\\\undersampling_data\\\\data\\\\unsw\\\\UNSW-NB15_4.csv')"
   ]
  },
  {
   "cell_type": "code",
   "execution_count": null,
   "id": "744fae3b",
   "metadata": {},
   "outputs": [
    {
     "data": {
      "application/vnd.microsoft.datawrangler.viewer.v0+json": {
       "columns": [
        {
         "name": "index",
         "rawType": "int64",
         "type": "integer"
        },
        {
         "name": "srcip",
         "rawType": "object",
         "type": "string"
        },
        {
         "name": "sport",
         "rawType": "object",
         "type": "unknown"
        },
        {
         "name": "dstip",
         "rawType": "object",
         "type": "string"
        },
        {
         "name": "dsport",
         "rawType": "object",
         "type": "string"
        },
        {
         "name": "proto",
         "rawType": "object",
         "type": "string"
        },
        {
         "name": "state",
         "rawType": "object",
         "type": "string"
        },
        {
         "name": "dur",
         "rawType": "float64",
         "type": "float"
        },
        {
         "name": "sbytes",
         "rawType": "int64",
         "type": "integer"
        },
        {
         "name": "dbytes",
         "rawType": "int64",
         "type": "integer"
        },
        {
         "name": "sttl",
         "rawType": "int64",
         "type": "integer"
        },
        {
         "name": "dttl",
         "rawType": "int64",
         "type": "integer"
        },
        {
         "name": "sloss",
         "rawType": "int64",
         "type": "integer"
        },
        {
         "name": "dloss",
         "rawType": "int64",
         "type": "integer"
        },
        {
         "name": "service",
         "rawType": "object",
         "type": "string"
        },
        {
         "name": "Sload",
         "rawType": "float64",
         "type": "float"
        },
        {
         "name": "Dload",
         "rawType": "float64",
         "type": "float"
        },
        {
         "name": "Spkts",
         "rawType": "int64",
         "type": "integer"
        },
        {
         "name": "Dpkts",
         "rawType": "int64",
         "type": "integer"
        },
        {
         "name": "swin",
         "rawType": "int64",
         "type": "integer"
        },
        {
         "name": "dwin",
         "rawType": "int64",
         "type": "integer"
        },
        {
         "name": "stcpb",
         "rawType": "int64",
         "type": "integer"
        },
        {
         "name": "dtcpb",
         "rawType": "int64",
         "type": "integer"
        },
        {
         "name": "smeansz",
         "rawType": "int64",
         "type": "integer"
        },
        {
         "name": "dmeansz",
         "rawType": "int64",
         "type": "integer"
        },
        {
         "name": "trans_depth",
         "rawType": "int64",
         "type": "integer"
        },
        {
         "name": "res_bdy_len",
         "rawType": "int64",
         "type": "integer"
        },
        {
         "name": "Sjit",
         "rawType": "float64",
         "type": "float"
        },
        {
         "name": "Djit",
         "rawType": "float64",
         "type": "float"
        },
        {
         "name": "Stime",
         "rawType": "int64",
         "type": "integer"
        },
        {
         "name": "Ltime",
         "rawType": "int64",
         "type": "integer"
        },
        {
         "name": "Sintpkt",
         "rawType": "float64",
         "type": "float"
        },
        {
         "name": "Dintpkt",
         "rawType": "float64",
         "type": "float"
        },
        {
         "name": "tcprtt",
         "rawType": "float64",
         "type": "float"
        },
        {
         "name": "synack",
         "rawType": "float64",
         "type": "float"
        },
        {
         "name": "ackdat",
         "rawType": "float64",
         "type": "float"
        },
        {
         "name": "is_sm_ips_ports",
         "rawType": "int64",
         "type": "integer"
        },
        {
         "name": "ct_state_ttl",
         "rawType": "int64",
         "type": "integer"
        },
        {
         "name": "ct_flw_http_mthd",
         "rawType": "float64",
         "type": "float"
        },
        {
         "name": "is_ftp_login",
         "rawType": "float64",
         "type": "float"
        },
        {
         "name": "ct_ftp_cmd",
         "rawType": "object",
         "type": "unknown"
        },
        {
         "name": "ct_srv_src",
         "rawType": "int64",
         "type": "integer"
        },
        {
         "name": "ct_srv_dst",
         "rawType": "int64",
         "type": "integer"
        },
        {
         "name": "ct_dst_ltm",
         "rawType": "int64",
         "type": "integer"
        },
        {
         "name": "ct_src_ ltm",
         "rawType": "int64",
         "type": "integer"
        },
        {
         "name": "ct_src_dport_ltm",
         "rawType": "int64",
         "type": "integer"
        },
        {
         "name": "ct_dst_sport_ltm",
         "rawType": "int64",
         "type": "integer"
        },
        {
         "name": "ct_dst_src_ltm",
         "rawType": "int64",
         "type": "integer"
        },
        {
         "name": "Label",
         "rawType": "int64",
         "type": "integer"
        }
       ],
       "ref": "fbec37e8-15de-48bd-a6d7-45199688d7a0",
       "rows": [
        [
         "0",
         "59.166.0.0",
         "1390",
         "149.171.126.6",
         "53",
         "udp",
         "CON",
         "0.001055",
         "132",
         "164",
         "31",
         "29",
         "0",
         "0",
         "dns",
         "500473.9375",
         "621800.9375",
         "2",
         "2",
         "0",
         "0",
         "0",
         "0",
         "66",
         "82",
         "0",
         "0",
         "0.0",
         "0.0",
         "1421927414",
         "1421927414",
         "0.017",
         "0.013",
         "0.0",
         "0.0",
         "0.0",
         "0",
         "0",
         "0.0",
         "0.0",
         "0",
         "3",
         "7",
         "1",
         "3",
         "1",
         "1",
         "1",
         "0"
        ],
        [
         "1",
         "59.166.0.0",
         "33661",
         "149.171.126.9",
         "1024",
         "udp",
         "CON",
         "0.036133",
         "528",
         "304",
         "31",
         "29",
         "0",
         "0",
         "-",
         "87676.08594",
         "50480.17188",
         "4",
         "4",
         "0",
         "0",
         "0",
         "0",
         "132",
         "76",
         "0",
         "0",
         "9.89101",
         "10.682733",
         "1421927414",
         "1421927414",
         "7.005",
         "7.564333",
         "0.0",
         "0.0",
         "0.0",
         "0",
         "0",
         "0.0",
         "0.0",
         "0",
         "2",
         "4",
         "2",
         "3",
         "1",
         "1",
         "2",
         "0"
        ],
        [
         "2",
         "59.166.0.6",
         "1464",
         "149.171.126.7",
         "53",
         "udp",
         "CON",
         "0.001119",
         "146",
         "178",
         "31",
         "29",
         "0",
         "0",
         "dns",
         "521894.5313",
         "636282.375",
         "2",
         "2",
         "0",
         "0",
         "0",
         "0",
         "73",
         "89",
         "0",
         "0",
         "0.0",
         "0.0",
         "1421927414",
         "1421927414",
         "0.017",
         "0.013",
         "0.0",
         "0.0",
         "0.0",
         "0",
         "0",
         "0.0",
         "0.0",
         "0",
         "12",
         "8",
         "1",
         "2",
         "2",
         "1",
         "1",
         "0"
        ],
        [
         "3",
         "59.166.0.5",
         "3593",
         "149.171.126.5",
         "53",
         "udp",
         "CON",
         "0.001209",
         "132",
         "164",
         "31",
         "29",
         "0",
         "0",
         "dns",
         "436724.5625",
         "542597.1875",
         "2",
         "2",
         "0",
         "0",
         "0",
         "0",
         "66",
         "82",
         "0",
         "0",
         "0.0",
         "0.0",
         "1421927414",
         "1421927414",
         "0.043",
         "0.014",
         "0.0",
         "0.0",
         "0.0",
         "0",
         "0",
         "0.0",
         "0.0",
         "0",
         "6",
         "9",
         "1",
         "1",
         "1",
         "1",
         "1",
         "0"
        ],
        [
         "4",
         "59.166.0.3",
         "49664",
         "149.171.126.0",
         "53",
         "udp",
         "CON",
         "0.001169",
         "146",
         "178",
         "31",
         "29",
         "0",
         "0",
         "dns",
         "499572.25",
         "609067.5625",
         "2",
         "2",
         "0",
         "0",
         "0",
         "0",
         "73",
         "89",
         "0",
         "0",
         "0.0",
         "0.0",
         "1421927414",
         "1421927414",
         "0.005",
         "0.003",
         "0.0",
         "0.0",
         "0.0",
         "0",
         "0",
         "0.0",
         "0.0",
         "0",
         "7",
         "9",
         "1",
         "1",
         "1",
         "1",
         "1",
         "0"
        ]
       ],
       "shape": {
        "columns": 48,
        "rows": 5
       }
      },
      "text/html": [
       "<div>\n",
       "<style scoped>\n",
       "    .dataframe tbody tr th:only-of-type {\n",
       "        vertical-align: middle;\n",
       "    }\n",
       "\n",
       "    .dataframe tbody tr th {\n",
       "        vertical-align: top;\n",
       "    }\n",
       "\n",
       "    .dataframe thead th {\n",
       "        text-align: right;\n",
       "    }\n",
       "</style>\n",
       "<table border=\"1\" class=\"dataframe\">\n",
       "  <thead>\n",
       "    <tr style=\"text-align: right;\">\n",
       "      <th></th>\n",
       "      <th>srcip</th>\n",
       "      <th>sport</th>\n",
       "      <th>dstip</th>\n",
       "      <th>dsport</th>\n",
       "      <th>proto</th>\n",
       "      <th>state</th>\n",
       "      <th>dur</th>\n",
       "      <th>sbytes</th>\n",
       "      <th>dbytes</th>\n",
       "      <th>sttl</th>\n",
       "      <th>...</th>\n",
       "      <th>is_ftp_login</th>\n",
       "      <th>ct_ftp_cmd</th>\n",
       "      <th>ct_srv_src</th>\n",
       "      <th>ct_srv_dst</th>\n",
       "      <th>ct_dst_ltm</th>\n",
       "      <th>ct_src_ ltm</th>\n",
       "      <th>ct_src_dport_ltm</th>\n",
       "      <th>ct_dst_sport_ltm</th>\n",
       "      <th>ct_dst_src_ltm</th>\n",
       "      <th>Label</th>\n",
       "    </tr>\n",
       "  </thead>\n",
       "  <tbody>\n",
       "    <tr>\n",
       "      <th>0</th>\n",
       "      <td>59.166.0.0</td>\n",
       "      <td>1390</td>\n",
       "      <td>149.171.126.6</td>\n",
       "      <td>53</td>\n",
       "      <td>udp</td>\n",
       "      <td>CON</td>\n",
       "      <td>0.001055</td>\n",
       "      <td>132</td>\n",
       "      <td>164</td>\n",
       "      <td>31</td>\n",
       "      <td>...</td>\n",
       "      <td>0.0</td>\n",
       "      <td>0</td>\n",
       "      <td>3</td>\n",
       "      <td>7</td>\n",
       "      <td>1</td>\n",
       "      <td>3</td>\n",
       "      <td>1</td>\n",
       "      <td>1</td>\n",
       "      <td>1</td>\n",
       "      <td>0</td>\n",
       "    </tr>\n",
       "    <tr>\n",
       "      <th>1</th>\n",
       "      <td>59.166.0.0</td>\n",
       "      <td>33661</td>\n",
       "      <td>149.171.126.9</td>\n",
       "      <td>1024</td>\n",
       "      <td>udp</td>\n",
       "      <td>CON</td>\n",
       "      <td>0.036133</td>\n",
       "      <td>528</td>\n",
       "      <td>304</td>\n",
       "      <td>31</td>\n",
       "      <td>...</td>\n",
       "      <td>0.0</td>\n",
       "      <td>0</td>\n",
       "      <td>2</td>\n",
       "      <td>4</td>\n",
       "      <td>2</td>\n",
       "      <td>3</td>\n",
       "      <td>1</td>\n",
       "      <td>1</td>\n",
       "      <td>2</td>\n",
       "      <td>0</td>\n",
       "    </tr>\n",
       "    <tr>\n",
       "      <th>2</th>\n",
       "      <td>59.166.0.6</td>\n",
       "      <td>1464</td>\n",
       "      <td>149.171.126.7</td>\n",
       "      <td>53</td>\n",
       "      <td>udp</td>\n",
       "      <td>CON</td>\n",
       "      <td>0.001119</td>\n",
       "      <td>146</td>\n",
       "      <td>178</td>\n",
       "      <td>31</td>\n",
       "      <td>...</td>\n",
       "      <td>0.0</td>\n",
       "      <td>0</td>\n",
       "      <td>12</td>\n",
       "      <td>8</td>\n",
       "      <td>1</td>\n",
       "      <td>2</td>\n",
       "      <td>2</td>\n",
       "      <td>1</td>\n",
       "      <td>1</td>\n",
       "      <td>0</td>\n",
       "    </tr>\n",
       "    <tr>\n",
       "      <th>3</th>\n",
       "      <td>59.166.0.5</td>\n",
       "      <td>3593</td>\n",
       "      <td>149.171.126.5</td>\n",
       "      <td>53</td>\n",
       "      <td>udp</td>\n",
       "      <td>CON</td>\n",
       "      <td>0.001209</td>\n",
       "      <td>132</td>\n",
       "      <td>164</td>\n",
       "      <td>31</td>\n",
       "      <td>...</td>\n",
       "      <td>0.0</td>\n",
       "      <td>0</td>\n",
       "      <td>6</td>\n",
       "      <td>9</td>\n",
       "      <td>1</td>\n",
       "      <td>1</td>\n",
       "      <td>1</td>\n",
       "      <td>1</td>\n",
       "      <td>1</td>\n",
       "      <td>0</td>\n",
       "    </tr>\n",
       "    <tr>\n",
       "      <th>4</th>\n",
       "      <td>59.166.0.3</td>\n",
       "      <td>49664</td>\n",
       "      <td>149.171.126.0</td>\n",
       "      <td>53</td>\n",
       "      <td>udp</td>\n",
       "      <td>CON</td>\n",
       "      <td>0.001169</td>\n",
       "      <td>146</td>\n",
       "      <td>178</td>\n",
       "      <td>31</td>\n",
       "      <td>...</td>\n",
       "      <td>0.0</td>\n",
       "      <td>0</td>\n",
       "      <td>7</td>\n",
       "      <td>9</td>\n",
       "      <td>1</td>\n",
       "      <td>1</td>\n",
       "      <td>1</td>\n",
       "      <td>1</td>\n",
       "      <td>1</td>\n",
       "      <td>0</td>\n",
       "    </tr>\n",
       "  </tbody>\n",
       "</table>\n",
       "<p>5 rows × 48 columns</p>\n",
       "</div>"
      ],
      "text/plain": [
       "        srcip  sport          dstip dsport proto state       dur  sbytes  \\\n",
       "0  59.166.0.0   1390  149.171.126.6     53   udp   CON  0.001055     132   \n",
       "1  59.166.0.0  33661  149.171.126.9   1024   udp   CON  0.036133     528   \n",
       "2  59.166.0.6   1464  149.171.126.7     53   udp   CON  0.001119     146   \n",
       "3  59.166.0.5   3593  149.171.126.5     53   udp   CON  0.001209     132   \n",
       "4  59.166.0.3  49664  149.171.126.0     53   udp   CON  0.001169     146   \n",
       "\n",
       "   dbytes  sttl  ...  is_ftp_login  ct_ftp_cmd  ct_srv_src ct_srv_dst  \\\n",
       "0     164    31  ...           0.0           0           3          7   \n",
       "1     304    31  ...           0.0           0           2          4   \n",
       "2     178    31  ...           0.0           0          12          8   \n",
       "3     164    31  ...           0.0           0           6          9   \n",
       "4     178    31  ...           0.0           0           7          9   \n",
       "\n",
       "   ct_dst_ltm  ct_src_ ltm  ct_src_dport_ltm  ct_dst_sport_ltm  \\\n",
       "0           1            3                 1                 1   \n",
       "1           2            3                 1                 1   \n",
       "2           1            2                 2                 1   \n",
       "3           1            1                 1                 1   \n",
       "4           1            1                 1                 1   \n",
       "\n",
       "   ct_dst_src_ltm  Label  \n",
       "0               1      0  \n",
       "1               2      0  \n",
       "2               1      0  \n",
       "3               1      0  \n",
       "4               1      0  \n",
       "\n",
       "[5 rows x 48 columns]"
      ]
     },
     "execution_count": 4,
     "metadata": {},
     "output_type": "execute_result"
    }
   ],
   "source": [
    "df_unsw = pd.concat([df_unsw_1, df_unsw_2, df_unsw_3, df_unsw_4], ignore_index=True)\n",
    "df_unsw = df_unsw.drop(columns=['attack_cat'])"
   ]
  },
  {
   "cell_type": "code",
   "execution_count": null,
   "id": "743b1234",
   "metadata": {},
   "outputs": [
    {
     "name": "stderr",
     "output_type": "stream",
     "text": [
      "C:\\Users\\mateu\\AppData\\Local\\Temp\\ipykernel_20668\\2688879982.py:43: PerformanceWarning: DataFrame is highly fragmented.  This is usually the result of calling `frame.insert` many times, which has poor performance.  Consider joining all columns at once using pd.concat(axis=1) instead. To get a de-fragmented frame, use `newframe = frame.copy()`\n",
      "  df_other_ports[col] = 0\n",
      "C:\\Users\\mateu\\AppData\\Local\\Temp\\ipykernel_20668\\2688879982.py:43: PerformanceWarning: DataFrame is highly fragmented.  This is usually the result of calling `frame.insert` many times, which has poor performance.  Consider joining all columns at once using pd.concat(axis=1) instead. To get a de-fragmented frame, use `newframe = frame.copy()`\n",
      "  df_other_ports[col] = 0\n",
      "C:\\Users\\mateu\\AppData\\Local\\Temp\\ipykernel_20668\\2688879982.py:43: PerformanceWarning: DataFrame is highly fragmented.  This is usually the result of calling `frame.insert` many times, which has poor performance.  Consider joining all columns at once using pd.concat(axis=1) instead. To get a de-fragmented frame, use `newframe = frame.copy()`\n",
      "  df_other_ports[col] = 0\n",
      "C:\\Users\\mateu\\AppData\\Local\\Temp\\ipykernel_20668\\2688879982.py:43: PerformanceWarning: DataFrame is highly fragmented.  This is usually the result of calling `frame.insert` many times, which has poor performance.  Consider joining all columns at once using pd.concat(axis=1) instead. To get a de-fragmented frame, use `newframe = frame.copy()`\n",
      "  df_other_ports[col] = 0\n",
      "C:\\Users\\mateu\\AppData\\Local\\Temp\\ipykernel_20668\\2688879982.py:43: PerformanceWarning: DataFrame is highly fragmented.  This is usually the result of calling `frame.insert` many times, which has poor performance.  Consider joining all columns at once using pd.concat(axis=1) instead. To get a de-fragmented frame, use `newframe = frame.copy()`\n",
      "  df_other_ports[col] = 0\n",
      "C:\\Users\\mateu\\AppData\\Local\\Temp\\ipykernel_20668\\2688879982.py:43: PerformanceWarning: DataFrame is highly fragmented.  This is usually the result of calling `frame.insert` many times, which has poor performance.  Consider joining all columns at once using pd.concat(axis=1) instead. To get a de-fragmented frame, use `newframe = frame.copy()`\n",
      "  df_other_ports[col] = 0\n",
      "C:\\Users\\mateu\\AppData\\Local\\Temp\\ipykernel_20668\\2688879982.py:43: PerformanceWarning: DataFrame is highly fragmented.  This is usually the result of calling `frame.insert` many times, which has poor performance.  Consider joining all columns at once using pd.concat(axis=1) instead. To get a de-fragmented frame, use `newframe = frame.copy()`\n",
      "  df_other_ports[col] = 0\n",
      "C:\\Users\\mateu\\AppData\\Local\\Temp\\ipykernel_20668\\2688879982.py:43: PerformanceWarning: DataFrame is highly fragmented.  This is usually the result of calling `frame.insert` many times, which has poor performance.  Consider joining all columns at once using pd.concat(axis=1) instead. To get a de-fragmented frame, use `newframe = frame.copy()`\n",
      "  df_other_ports[col] = 0\n",
      "C:\\Users\\mateu\\AppData\\Local\\Temp\\ipykernel_20668\\2688879982.py:43: PerformanceWarning: DataFrame is highly fragmented.  This is usually the result of calling `frame.insert` many times, which has poor performance.  Consider joining all columns at once using pd.concat(axis=1) instead. To get a de-fragmented frame, use `newframe = frame.copy()`\n",
      "  df_other_ports[col] = 0\n",
      "C:\\Users\\mateu\\AppData\\Local\\Temp\\ipykernel_20668\\2688879982.py:43: PerformanceWarning: DataFrame is highly fragmented.  This is usually the result of calling `frame.insert` many times, which has poor performance.  Consider joining all columns at once using pd.concat(axis=1) instead. To get a de-fragmented frame, use `newframe = frame.copy()`\n",
      "  df_other_ports[col] = 0\n",
      "C:\\Users\\mateu\\AppData\\Local\\Temp\\ipykernel_20668\\2688879982.py:43: PerformanceWarning: DataFrame is highly fragmented.  This is usually the result of calling `frame.insert` many times, which has poor performance.  Consider joining all columns at once using pd.concat(axis=1) instead. To get a de-fragmented frame, use `newframe = frame.copy()`\n",
      "  df_other_ports[col] = 0\n",
      "C:\\Users\\mateu\\AppData\\Local\\Temp\\ipykernel_20668\\2688879982.py:43: PerformanceWarning: DataFrame is highly fragmented.  This is usually the result of calling `frame.insert` many times, which has poor performance.  Consider joining all columns at once using pd.concat(axis=1) instead. To get a de-fragmented frame, use `newframe = frame.copy()`\n",
      "  df_other_ports[col] = 0\n"
     ]
    }
   ],
   "source": [
    "# what to do with ports? src drop because is random, dst - keep because is related to service, port number >1000 is random\n",
    "def to_int_or_hex(x):\n",
    "    try:\n",
    "        if isinstance(x, (int, float)) and not pd.isna(x):\n",
    "            return int(x)\n",
    "        elif isinstance(x, str) and x.startswith('0x'):\n",
    "            return int(x, 16)\n",
    "        elif isinstance(x, str):\n",
    "            return int(x)\n",
    "        else:\n",
    "            return pd.NA\n",
    "    except ValueError:\n",
    "        return pd.NA\n",
    "\n",
    "df_unsw['dsport'] = df_unsw['dsport'].apply(to_int_or_hex).astype('Int64')\n",
    "\n",
    "mask_well_known = df_unsw['dsport'] <= 1000\n",
    "df_well_known = df_unsw[mask_well_known].copy()\n",
    "df_other_ports = df_unsw[~mask_well_known].copy()\n",
    "\n",
    "encoder = OneHotEncoder(handle_unknown='ignore', sparse_output=False)\n",
    "encoded_ports = encoder.fit_transform(df_well_known[['dsport']])\n",
    "encoded_df = pd.DataFrame(\n",
    "    encoded_ports,\n",
    "    columns=encoder.get_feature_names_out(['dsport']),\n",
    "    index=df_well_known.index\n",
    ")\n",
    "\n",
    "df_well_known = pd.concat([encoded_df, df_well_known.drop(columns=['dsport'])], axis=1)\n",
    "\n",
    "df_other_ports['dsport_other'] = 1\n",
    "\n",
    "for col in df_well_known.columns:\n",
    "    if col not in df_other_ports.columns:\n",
    "        df_other_ports[col] = 0\n",
    "\n",
    "df_unsw = pd.concat([df_well_known, df_other_ports], axis=0).sort_index().reset_index(drop=True)"
   ]
  },
  {
   "cell_type": "code",
   "execution_count": null,
   "id": "382de5ed",
   "metadata": {},
   "outputs": [],
   "source": [
    "# insert 'dsport_other' next to 'proto' and fill NaN with 0\n",
    "col = df_unsw.pop('dsport_other')\n",
    "dst_col = df_unsw.columns.get_loc('proto')\n",
    "df_unsw.insert(dst_col, 'dsport_other', col)\n",
    "df_unsw['dsport_other'] = df_unsw['dsport_other'].fillna(0)\n",
    "df_unsw = df_unsw.drop(columns=['dsport', 'srcip', 'dstip', 'sport'])"
   ]
  },
  {
   "cell_type": "code",
   "execution_count": null,
   "id": "fe2895eb",
   "metadata": {},
   "outputs": [
    {
     "data": {
      "text/plain": [
       "\" proto_index = df_unsw.columns.get_loc('proto')\\n\\nfor i, col in enumerate(df_proto.columns):\\n    df_unsw.insert(proto_index + 1 + i, col, df_unsw[col]) \""
      ]
     },
     "execution_count": 16,
     "metadata": {},
     "output_type": "execute_result"
    }
   ],
   "source": [
    "\n",
    "df_unsw['proto_simplified'] = df_unsw['proto'].apply(\n",
    "    lambda x: x if x in ['tcp', 'udp'] else 'other'\n",
    ")\n",
    "\n",
    "df_unsw = pd.get_dummies(df_unsw, columns=['proto_simplified'], prefix='proto')\n",
    "#df_unsw = df_unsw.loc[:, ~df_unsw.columns.duplicated(keep='first')]\n",
    "\n",
    "col = df_unsw.pop('proto_other')\n",
    "col2 = df_unsw.pop('proto_tcp')\n",
    "col3 = df_unsw.pop('proto_udp')\n",
    "dst_col = df_unsw.columns.get_loc('state')\n",
    "df_unsw.insert(dst_col, 'proto_other', col)\n",
    "df_unsw.insert(dst_col + 1, 'proto_tcp', col2)\n",
    "df_unsw.insert(dst_col + 2, 'proto_udp', col3)\n",
    "\n",
    "df_unsw = df_unsw.drop(columns=['proto'])\n",
    "\n",
    "df_unsw.loc[:, df_unsw.columns.str.startswith('proto')] = (\n",
    "    df_unsw.loc[:, df_unsw.columns.str.startswith('proto')].astype(int)\n",
    ")"
   ]
  },
  {
   "cell_type": "code",
   "execution_count": null,
   "id": "2fda76b7",
   "metadata": {},
   "outputs": [],
   "source": [
    "encoded_ports = encoder.fit_transform(df_unsw[['proto']])\n",
    "encoded_df = pd.DataFrame(\n",
    "    encoded_ports,\n",
    "    columns=encoder.get_feature_names_out(['proto']),\n",
    "    index=df_unsw.index\n",
    ")\n",
    "proto_index = df_unsw.columns.get_loc('proto')\n",
    "\n",
    "for i, col in enumerate(encoded_df.columns):\n",
    "    df_unsw.insert(proto_index + 1 + i, col, encoded_df[col])"
   ]
  },
  {
   "cell_type": "code",
   "execution_count": null,
   "id": "42effe2a",
   "metadata": {},
   "outputs": [],
   "source": [
    "# reduced protocols to tcp, udp, other\n",
    "df_unsw['proto'].value_counts()"
   ]
  },
  {
   "cell_type": "code",
   "execution_count": null,
   "id": "96828d21",
   "metadata": {},
   "outputs": [],
   "source": [
    "df_unsw = pd.get_dummies(df_unsw, columns=['proto'], prefix='proto')"
   ]
  },
  {
   "cell_type": "code",
   "execution_count": 10,
   "id": "9b0883d8",
   "metadata": {},
   "outputs": [],
   "source": [
    "cols_to_normalize = [\n",
    "    'dur', 'sbytes', 'dbytes', 'sttl', 'dttl', 'sloss', 'dloss',\n",
    "    'Sload', 'Dload', 'Spkts', 'Dpkts', 'swin', 'dwin', 'stcpb', 'dtcpb',\n",
    "    'smeansz', 'dmeansz', 'trans_depth', 'res_bdy_len', 'Sjit', 'Djit',\n",
    "    'Stime', 'Ltime', 'Sintpkt', 'Dintpkt', 'tcprtt', 'synack', 'ackdat',\n",
    "    'ct_state_ttl', 'ct_flw_http_mthd', 'is_ftp_login', \n",
    "    'ct_srv_src', 'ct_srv_dst', 'ct_dst_ltm', 'ct_src_ ltm',\n",
    "    'ct_src_dport_ltm', 'ct_dst_sport_ltm', 'ct_dst_src_ltm'\n",
    "]\n",
    "\n",
    "scaler = StandardScaler()\n",
    "df_unsw[cols_to_normalize] = scaler.fit_transform(df_unsw[cols_to_normalize])\n",
    "\n",
    "with open(f\"D:\\\\ml\\\\undersampling_data\\\\models\\\\unsw\\\\scaler.pkl\", \"wb\") as f:\n",
    "            pickle.dump(scaler, f)"
   ]
  },
  {
   "cell_type": "code",
   "execution_count": 16,
   "id": "3fc72289",
   "metadata": {},
   "outputs": [],
   "source": [
    "df_unsw.replace(r'^\\s*$', np.nan, regex=True, inplace=True)\n",
    "df_unsw['ct_ftp_cmd'] = df_unsw['ct_ftp_cmd'].fillna(0)\n",
    "\n",
    "scaler2 = StandardScaler()\n",
    "df_unsw[['ct_ftp_cmd']] = scaler2.fit_transform(df_unsw[['ct_ftp_cmd']])\n",
    "\n",
    "with open(f\"D:\\\\ml\\\\undersampling_data\\\\models\\\\unsw\\\\scaler_ct_ftp_cmd.pkl\", \"wb\") as f:\n",
    "            pickle.dump(scaler2, f)"
   ]
  },
  {
   "cell_type": "code",
   "execution_count": 20,
   "id": "92f69d2f",
   "metadata": {},
   "outputs": [],
   "source": [
    "valid_states = ['FIN', 'CON', 'INT', 'REQ', 'RST', 'CLO', 'ACC']\n",
    "df_unsw = df_unsw[df_unsw['state'].isin(valid_states)].reset_index(drop=True)"
   ]
  },
  {
   "cell_type": "code",
   "execution_count": 24,
   "id": "8bbef502",
   "metadata": {},
   "outputs": [],
   "source": [
    "encoder = OneHotEncoder(handle_unknown='ignore', sparse_output=False)\n",
    "encoded_state = encoder.fit_transform(df_unsw[['state']])\n",
    "encoded_df = pd.DataFrame(\n",
    "    encoded_state,\n",
    "    columns=encoder.get_feature_names_out(['state']),\n",
    "    index=df_unsw.index\n",
    ")\n",
    "state_index = df_unsw.columns.get_loc('state')\n",
    "\n",
    "for i, col in enumerate(encoded_df.columns):\n",
    "    df_unsw.insert(state_index + 1 + i, col, encoded_df[col])"
   ]
  },
  {
   "cell_type": "code",
   "execution_count": 28,
   "id": "54f1ae7e",
   "metadata": {},
   "outputs": [
    {
     "data": {
      "text/plain": [
       "((1777666, 160), (761857, 160))"
      ]
     },
     "execution_count": 28,
     "metadata": {},
     "output_type": "execute_result"
    }
   ],
   "source": [
    "X = df_unsw.drop(columns=['Label'])\n",
    "y = df_unsw['Label']\n",
    "X_train, X_test, y_train, y_test = train_test_split(\n",
    "    X, y,\n",
    "    test_size=0.3,        # 20% danych do testu\n",
    "    random_state=42,      # dla powtarzalności\n",
    "    stratify=y            # zachowaj proporcje klas\n",
    ")\n",
    "\n",
    "X_train.shape, X_test.shape"
   ]
  },
  {
   "cell_type": "code",
   "execution_count": 29,
   "id": "a7e26d0f",
   "metadata": {},
   "outputs": [],
   "source": [
    "X_train.to_csv('D:\\\\ml\\\\undersampling_data\\\\data\\\\unsw\\\\X_train.csv', index=False)\n",
    "X_test.to_csv('D:\\\\ml\\\\undersampling_data\\\\data\\\\unsw\\\\X_test.csv', index=False)\n",
    "y_train.to_csv('D:\\\\ml\\\\undersampling_data\\\\data\\\\unsw\\\\y_train.csv', index=False)\n",
    "y_test.to_csv('D:\\\\ml\\\\undersampling_data\\\\data\\\\unsw\\\\y_test.csv', index=False)"
   ]
  },
  {
   "cell_type": "markdown",
   "id": "8e6dabe8",
   "metadata": {},
   "source": [
    "### Oversamling"
   ]
  },
  {
   "cell_type": "code",
   "execution_count": 36,
   "id": "61e6d766",
   "metadata": {},
   "outputs": [],
   "source": [
    "df = pd.concat([X_train, y_train], axis=1)\n",
    "\n",
    "df = df.drop_duplicates()"
   ]
  },
  {
   "cell_type": "code",
   "execution_count": 37,
   "id": "61825c73",
   "metadata": {},
   "outputs": [],
   "source": [
    "df['source'] = 'original' "
   ]
  },
  {
   "cell_type": "code",
   "execution_count": 38,
   "id": "0db27e9c",
   "metadata": {},
   "outputs": [
    {
     "name": "stdout",
     "output_type": "stream",
     "text": [
      "Before Counter({0: 1552768, 1: 224898})\n"
     ]
    },
    {
     "ename": "ValueError",
     "evalue": "could not convert string to float: 'dns'",
     "output_type": "error",
     "traceback": [
      "\u001b[1;31m---------------------------------------------------------------------------\u001b[0m",
      "\u001b[1;31mValueError\u001b[0m                                Traceback (most recent call last)",
      "\u001b[1;32m~\\AppData\\Local\\Temp\\ipykernel_30960\\2229787687.py\u001b[0m in \u001b[0;36m?\u001b[1;34m()\u001b[0m\n\u001b[0;32m      6\u001b[0m \u001b[0mminority_class\u001b[0m \u001b[1;33m=\u001b[0m \u001b[0mmin\u001b[0m\u001b[1;33m(\u001b[0m\u001b[0mcoun\u001b[0m\u001b[1;33m,\u001b[0m \u001b[0mkey\u001b[0m\u001b[1;33m=\u001b[0m\u001b[0mcoun\u001b[0m\u001b[1;33m.\u001b[0m\u001b[0mget\u001b[0m\u001b[1;33m)\u001b[0m\u001b[1;33m\u001b[0m\u001b[1;33m\u001b[0m\u001b[0m\n\u001b[0;32m      7\u001b[0m \u001b[0mmissing_samples\u001b[0m \u001b[1;33m=\u001b[0m \u001b[0mcoun\u001b[0m\u001b[1;33m[\u001b[0m\u001b[0mmajority_class\u001b[0m\u001b[1;33m]\u001b[0m \u001b[1;33m-\u001b[0m \u001b[0mcoun\u001b[0m\u001b[1;33m[\u001b[0m\u001b[0mminority_class\u001b[0m\u001b[1;33m]\u001b[0m\u001b[1;33m\u001b[0m\u001b[1;33m\u001b[0m\u001b[0m\n\u001b[0;32m      8\u001b[0m \u001b[0mprint\u001b[0m\u001b[1;33m(\u001b[0m\u001b[1;34m\"Before\"\u001b[0m\u001b[1;33m,\u001b[0m \u001b[0mcoun\u001b[0m\u001b[1;33m)\u001b[0m\u001b[1;33m\u001b[0m\u001b[1;33m\u001b[0m\u001b[0m\n\u001b[0;32m      9\u001b[0m \u001b[0msmote\u001b[0m \u001b[1;33m=\u001b[0m \u001b[0mSMOTE\u001b[0m\u001b[1;33m(\u001b[0m\u001b[1;33m)\u001b[0m\u001b[1;33m\u001b[0m\u001b[1;33m\u001b[0m\u001b[0m\n\u001b[1;32m---> 10\u001b[1;33m \u001b[0mX_train_sm\u001b[0m\u001b[1;33m,\u001b[0m \u001b[0my_train_sm\u001b[0m \u001b[1;33m=\u001b[0m \u001b[0msmote\u001b[0m\u001b[1;33m.\u001b[0m\u001b[0mfit_resample\u001b[0m\u001b[1;33m(\u001b[0m\u001b[0mX_train\u001b[0m\u001b[1;33m,\u001b[0m \u001b[0my_train\u001b[0m\u001b[1;33m)\u001b[0m\u001b[1;33m\u001b[0m\u001b[1;33m\u001b[0m\u001b[0m\n\u001b[0m\u001b[0;32m     11\u001b[0m \u001b[1;33m\u001b[0m\u001b[0m\n\u001b[0;32m     12\u001b[0m \u001b[0msmote2\u001b[0m \u001b[1;33m=\u001b[0m \u001b[0mSMOTE\u001b[0m\u001b[1;33m(\u001b[0m\u001b[0msampling_strategy\u001b[0m\u001b[1;33m=\u001b[0m\u001b[1;33m{\u001b[0m\u001b[0mminority_class\u001b[0m\u001b[1;33m:\u001b[0m \u001b[0mcoun\u001b[0m\u001b[1;33m[\u001b[0m\u001b[0mminority_class\u001b[0m\u001b[1;33m]\u001b[0m \u001b[1;33m+\u001b[0m \u001b[1;36m2\u001b[0m \u001b[1;33m*\u001b[0m \u001b[0mmissing_samples\u001b[0m\u001b[1;33m}\u001b[0m\u001b[1;33m,\u001b[0m \u001b[0mrandom_state\u001b[0m\u001b[1;33m=\u001b[0m\u001b[1;36m42\u001b[0m\u001b[1;33m)\u001b[0m\u001b[1;33m\u001b[0m\u001b[1;33m\u001b[0m\u001b[0m\n\u001b[0;32m     13\u001b[0m \u001b[0mX_train_sm3\u001b[0m\u001b[1;33m,\u001b[0m \u001b[0my_train_sm3\u001b[0m \u001b[1;33m=\u001b[0m \u001b[0msmote2\u001b[0m\u001b[1;33m.\u001b[0m\u001b[0mfit_resample\u001b[0m\u001b[1;33m(\u001b[0m\u001b[0mX_train\u001b[0m\u001b[1;33m,\u001b[0m \u001b[0my_train\u001b[0m\u001b[1;33m)\u001b[0m\u001b[1;33m\u001b[0m\u001b[1;33m\u001b[0m\u001b[0m\n",
      "\u001b[1;32m~\\AppData\\Local\\Packages\\PythonSoftwareFoundation.Python.3.11_qbz5n2kfra8p0\\LocalCache\\local-packages\\Python311\\site-packages\\imblearn\\base.py\u001b[0m in \u001b[0;36m?\u001b[1;34m(self, X, y)\u001b[0m\n\u001b[0;32m    204\u001b[0m         \u001b[0my_resampled\u001b[0m \u001b[1;33m:\u001b[0m \u001b[0marray\u001b[0m\u001b[1;33m-\u001b[0m\u001b[0mlike\u001b[0m \u001b[0mof\u001b[0m \u001b[0mshape\u001b[0m \u001b[1;33m(\u001b[0m\u001b[0mn_samples_new\u001b[0m\u001b[1;33m,\u001b[0m\u001b[1;33m)\u001b[0m\u001b[1;33m\u001b[0m\u001b[1;33m\u001b[0m\u001b[0m\n\u001b[0;32m    205\u001b[0m             \u001b[0mThe\u001b[0m \u001b[0mcorresponding\u001b[0m \u001b[0mlabel\u001b[0m \u001b[0mof\u001b[0m\u001b[0;31m \u001b[0m\u001b[0;31m`\u001b[0m\u001b[0mX_resampled\u001b[0m\u001b[0;31m`\u001b[0m\u001b[1;33m.\u001b[0m\u001b[1;33m\u001b[0m\u001b[1;33m\u001b[0m\u001b[0m\n\u001b[0;32m    206\u001b[0m         \"\"\"\n\u001b[0;32m    207\u001b[0m         \u001b[0mself\u001b[0m\u001b[1;33m.\u001b[0m\u001b[0m_validate_params\u001b[0m\u001b[1;33m(\u001b[0m\u001b[1;33m)\u001b[0m\u001b[1;33m\u001b[0m\u001b[1;33m\u001b[0m\u001b[0m\n\u001b[1;32m--> 208\u001b[1;33m         \u001b[1;32mreturn\u001b[0m \u001b[0msuper\u001b[0m\u001b[1;33m(\u001b[0m\u001b[1;33m)\u001b[0m\u001b[1;33m.\u001b[0m\u001b[0mfit_resample\u001b[0m\u001b[1;33m(\u001b[0m\u001b[0mX\u001b[0m\u001b[1;33m,\u001b[0m \u001b[0my\u001b[0m\u001b[1;33m)\u001b[0m\u001b[1;33m\u001b[0m\u001b[1;33m\u001b[0m\u001b[0m\n\u001b[0m",
      "\u001b[1;32m~\\AppData\\Local\\Packages\\PythonSoftwareFoundation.Python.3.11_qbz5n2kfra8p0\\LocalCache\\local-packages\\Python311\\site-packages\\imblearn\\base.py\u001b[0m in \u001b[0;36m?\u001b[1;34m(self, X, y)\u001b[0m\n\u001b[0;32m    102\u001b[0m             \u001b[0mThe\u001b[0m \u001b[0mcorresponding\u001b[0m \u001b[0mlabel\u001b[0m \u001b[0mof\u001b[0m\u001b[0;31m \u001b[0m\u001b[0;31m`\u001b[0m\u001b[0mX_resampled\u001b[0m\u001b[0;31m`\u001b[0m\u001b[1;33m.\u001b[0m\u001b[1;33m\u001b[0m\u001b[1;33m\u001b[0m\u001b[0m\n\u001b[0;32m    103\u001b[0m         \"\"\"\n\u001b[0;32m    104\u001b[0m         \u001b[0mcheck_classification_targets\u001b[0m\u001b[1;33m(\u001b[0m\u001b[0my\u001b[0m\u001b[1;33m)\u001b[0m\u001b[1;33m\u001b[0m\u001b[1;33m\u001b[0m\u001b[0m\n\u001b[0;32m    105\u001b[0m         \u001b[0marrays_transformer\u001b[0m \u001b[1;33m=\u001b[0m \u001b[0mArraysTransformer\u001b[0m\u001b[1;33m(\u001b[0m\u001b[0mX\u001b[0m\u001b[1;33m,\u001b[0m \u001b[0my\u001b[0m\u001b[1;33m)\u001b[0m\u001b[1;33m\u001b[0m\u001b[1;33m\u001b[0m\u001b[0m\n\u001b[1;32m--> 106\u001b[1;33m         \u001b[0mX\u001b[0m\u001b[1;33m,\u001b[0m \u001b[0my\u001b[0m\u001b[1;33m,\u001b[0m \u001b[0mbinarize_y\u001b[0m \u001b[1;33m=\u001b[0m \u001b[0mself\u001b[0m\u001b[1;33m.\u001b[0m\u001b[0m_check_X_y\u001b[0m\u001b[1;33m(\u001b[0m\u001b[0mX\u001b[0m\u001b[1;33m,\u001b[0m \u001b[0my\u001b[0m\u001b[1;33m)\u001b[0m\u001b[1;33m\u001b[0m\u001b[1;33m\u001b[0m\u001b[0m\n\u001b[0m\u001b[0;32m    107\u001b[0m \u001b[1;33m\u001b[0m\u001b[0m\n\u001b[0;32m    108\u001b[0m         self.sampling_strategy_ = check_sampling_strategy(\n\u001b[0;32m    109\u001b[0m             \u001b[0mself\u001b[0m\u001b[1;33m.\u001b[0m\u001b[0msampling_strategy\u001b[0m\u001b[1;33m,\u001b[0m \u001b[0my\u001b[0m\u001b[1;33m,\u001b[0m \u001b[0mself\u001b[0m\u001b[1;33m.\u001b[0m\u001b[0m_sampling_type\u001b[0m\u001b[1;33m\u001b[0m\u001b[1;33m\u001b[0m\u001b[0m\n",
      "\u001b[1;32m~\\AppData\\Local\\Packages\\PythonSoftwareFoundation.Python.3.11_qbz5n2kfra8p0\\LocalCache\\local-packages\\Python311\\site-packages\\imblearn\\base.py\u001b[0m in \u001b[0;36m?\u001b[1;34m(self, X, y, accept_sparse)\u001b[0m\n\u001b[0;32m    157\u001b[0m     \u001b[1;32mdef\u001b[0m \u001b[0m_check_X_y\u001b[0m\u001b[1;33m(\u001b[0m\u001b[0mself\u001b[0m\u001b[1;33m,\u001b[0m \u001b[0mX\u001b[0m\u001b[1;33m,\u001b[0m \u001b[0my\u001b[0m\u001b[1;33m,\u001b[0m \u001b[0maccept_sparse\u001b[0m\u001b[1;33m=\u001b[0m\u001b[1;32mNone\u001b[0m\u001b[1;33m)\u001b[0m\u001b[1;33m:\u001b[0m\u001b[1;33m\u001b[0m\u001b[1;33m\u001b[0m\u001b[0m\n\u001b[0;32m    158\u001b[0m         \u001b[1;32mif\u001b[0m \u001b[0maccept_sparse\u001b[0m \u001b[1;32mis\u001b[0m \u001b[1;32mNone\u001b[0m\u001b[1;33m:\u001b[0m\u001b[1;33m\u001b[0m\u001b[1;33m\u001b[0m\u001b[0m\n\u001b[0;32m    159\u001b[0m             \u001b[0maccept_sparse\u001b[0m \u001b[1;33m=\u001b[0m \u001b[1;33m[\u001b[0m\u001b[1;34m\"csr\"\u001b[0m\u001b[1;33m,\u001b[0m \u001b[1;34m\"csc\"\u001b[0m\u001b[1;33m]\u001b[0m\u001b[1;33m\u001b[0m\u001b[1;33m\u001b[0m\u001b[0m\n\u001b[0;32m    160\u001b[0m         \u001b[0my\u001b[0m\u001b[1;33m,\u001b[0m \u001b[0mbinarize_y\u001b[0m \u001b[1;33m=\u001b[0m \u001b[0mcheck_target_type\u001b[0m\u001b[1;33m(\u001b[0m\u001b[0my\u001b[0m\u001b[1;33m,\u001b[0m \u001b[0mindicate_one_vs_all\u001b[0m\u001b[1;33m=\u001b[0m\u001b[1;32mTrue\u001b[0m\u001b[1;33m)\u001b[0m\u001b[1;33m\u001b[0m\u001b[1;33m\u001b[0m\u001b[0m\n\u001b[1;32m--> 161\u001b[1;33m         \u001b[0mX\u001b[0m\u001b[1;33m,\u001b[0m \u001b[0my\u001b[0m \u001b[1;33m=\u001b[0m \u001b[0mself\u001b[0m\u001b[1;33m.\u001b[0m\u001b[0m_validate_data\u001b[0m\u001b[1;33m(\u001b[0m\u001b[0mX\u001b[0m\u001b[1;33m,\u001b[0m \u001b[0my\u001b[0m\u001b[1;33m,\u001b[0m \u001b[0mreset\u001b[0m\u001b[1;33m=\u001b[0m\u001b[1;32mTrue\u001b[0m\u001b[1;33m,\u001b[0m \u001b[0maccept_sparse\u001b[0m\u001b[1;33m=\u001b[0m\u001b[0maccept_sparse\u001b[0m\u001b[1;33m)\u001b[0m\u001b[1;33m\u001b[0m\u001b[1;33m\u001b[0m\u001b[0m\n\u001b[0m\u001b[0;32m    162\u001b[0m         \u001b[1;32mreturn\u001b[0m \u001b[0mX\u001b[0m\u001b[1;33m,\u001b[0m \u001b[0my\u001b[0m\u001b[1;33m,\u001b[0m \u001b[0mbinarize_y\u001b[0m\u001b[1;33m\u001b[0m\u001b[1;33m\u001b[0m\u001b[0m\n",
      "\u001b[1;32m~\\AppData\\Local\\Packages\\PythonSoftwareFoundation.Python.3.11_qbz5n2kfra8p0\\LocalCache\\local-packages\\Python311\\site-packages\\sklearn\\base.py\u001b[0m in \u001b[0;36m?\u001b[1;34m(self, X, y, reset, validate_separately, cast_to_ndarray, **check_params)\u001b[0m\n\u001b[0;32m    646\u001b[0m                 \u001b[1;32mif\u001b[0m \u001b[1;34m\"estimator\"\u001b[0m \u001b[1;32mnot\u001b[0m \u001b[1;32min\u001b[0m \u001b[0mcheck_y_params\u001b[0m\u001b[1;33m:\u001b[0m\u001b[1;33m\u001b[0m\u001b[1;33m\u001b[0m\u001b[0m\n\u001b[0;32m    647\u001b[0m                     \u001b[0mcheck_y_params\u001b[0m \u001b[1;33m=\u001b[0m \u001b[1;33m{\u001b[0m\u001b[1;33m**\u001b[0m\u001b[0mdefault_check_params\u001b[0m\u001b[1;33m,\u001b[0m \u001b[1;33m**\u001b[0m\u001b[0mcheck_y_params\u001b[0m\u001b[1;33m}\u001b[0m\u001b[1;33m\u001b[0m\u001b[1;33m\u001b[0m\u001b[0m\n\u001b[0;32m    648\u001b[0m                 \u001b[0my\u001b[0m \u001b[1;33m=\u001b[0m \u001b[0mcheck_array\u001b[0m\u001b[1;33m(\u001b[0m\u001b[0my\u001b[0m\u001b[1;33m,\u001b[0m \u001b[0minput_name\u001b[0m\u001b[1;33m=\u001b[0m\u001b[1;34m\"y\"\u001b[0m\u001b[1;33m,\u001b[0m \u001b[1;33m**\u001b[0m\u001b[0mcheck_y_params\u001b[0m\u001b[1;33m)\u001b[0m\u001b[1;33m\u001b[0m\u001b[1;33m\u001b[0m\u001b[0m\n\u001b[0;32m    649\u001b[0m             \u001b[1;32melse\u001b[0m\u001b[1;33m:\u001b[0m\u001b[1;33m\u001b[0m\u001b[1;33m\u001b[0m\u001b[0m\n\u001b[1;32m--> 650\u001b[1;33m                 \u001b[0mX\u001b[0m\u001b[1;33m,\u001b[0m \u001b[0my\u001b[0m \u001b[1;33m=\u001b[0m \u001b[0mcheck_X_y\u001b[0m\u001b[1;33m(\u001b[0m\u001b[0mX\u001b[0m\u001b[1;33m,\u001b[0m \u001b[0my\u001b[0m\u001b[1;33m,\u001b[0m \u001b[1;33m**\u001b[0m\u001b[0mcheck_params\u001b[0m\u001b[1;33m)\u001b[0m\u001b[1;33m\u001b[0m\u001b[1;33m\u001b[0m\u001b[0m\n\u001b[0m\u001b[0;32m    651\u001b[0m             \u001b[0mout\u001b[0m \u001b[1;33m=\u001b[0m \u001b[0mX\u001b[0m\u001b[1;33m,\u001b[0m \u001b[0my\u001b[0m\u001b[1;33m\u001b[0m\u001b[1;33m\u001b[0m\u001b[0m\n\u001b[0;32m    652\u001b[0m \u001b[1;33m\u001b[0m\u001b[0m\n\u001b[0;32m    653\u001b[0m         \u001b[1;32mif\u001b[0m \u001b[1;32mnot\u001b[0m \u001b[0mno_val_X\u001b[0m \u001b[1;32mand\u001b[0m \u001b[0mcheck_params\u001b[0m\u001b[1;33m.\u001b[0m\u001b[0mget\u001b[0m\u001b[1;33m(\u001b[0m\u001b[1;34m\"ensure_2d\"\u001b[0m\u001b[1;33m,\u001b[0m \u001b[1;32mTrue\u001b[0m\u001b[1;33m)\u001b[0m\u001b[1;33m:\u001b[0m\u001b[1;33m\u001b[0m\u001b[1;33m\u001b[0m\u001b[0m\n",
      "\u001b[1;32m~\\AppData\\Local\\Packages\\PythonSoftwareFoundation.Python.3.11_qbz5n2kfra8p0\\LocalCache\\local-packages\\Python311\\site-packages\\sklearn\\utils\\validation.py\u001b[0m in \u001b[0;36m?\u001b[1;34m(X, y, accept_sparse, accept_large_sparse, dtype, order, copy, force_writeable, force_all_finite, ensure_2d, allow_nd, multi_output, ensure_min_samples, ensure_min_features, y_numeric, estimator)\u001b[0m\n\u001b[0;32m   1297\u001b[0m         raise ValueError(\n\u001b[0;32m   1298\u001b[0m             \u001b[1;34mf\"{estimator_name} requires y to be passed, but the target y is None\"\u001b[0m\u001b[1;33m\u001b[0m\u001b[1;33m\u001b[0m\u001b[0m\n\u001b[0;32m   1299\u001b[0m         )\n\u001b[0;32m   1300\u001b[0m \u001b[1;33m\u001b[0m\u001b[0m\n\u001b[1;32m-> 1301\u001b[1;33m     X = check_array(\n\u001b[0m\u001b[0;32m   1302\u001b[0m         \u001b[0mX\u001b[0m\u001b[1;33m,\u001b[0m\u001b[1;33m\u001b[0m\u001b[1;33m\u001b[0m\u001b[0m\n\u001b[0;32m   1303\u001b[0m         \u001b[0maccept_sparse\u001b[0m\u001b[1;33m=\u001b[0m\u001b[0maccept_sparse\u001b[0m\u001b[1;33m,\u001b[0m\u001b[1;33m\u001b[0m\u001b[1;33m\u001b[0m\u001b[0m\n\u001b[0;32m   1304\u001b[0m         \u001b[0maccept_large_sparse\u001b[0m\u001b[1;33m=\u001b[0m\u001b[0maccept_large_sparse\u001b[0m\u001b[1;33m,\u001b[0m\u001b[1;33m\u001b[0m\u001b[1;33m\u001b[0m\u001b[0m\n",
      "\u001b[1;32m~\\AppData\\Local\\Packages\\PythonSoftwareFoundation.Python.3.11_qbz5n2kfra8p0\\LocalCache\\local-packages\\Python311\\site-packages\\sklearn\\utils\\validation.py\u001b[0m in \u001b[0;36m?\u001b[1;34m(array, accept_sparse, accept_large_sparse, dtype, order, copy, force_writeable, force_all_finite, ensure_2d, allow_nd, ensure_min_samples, ensure_min_features, estimator, input_name)\u001b[0m\n\u001b[0;32m   1009\u001b[0m                         )\n\u001b[0;32m   1010\u001b[0m                     \u001b[0marray\u001b[0m \u001b[1;33m=\u001b[0m \u001b[0mxp\u001b[0m\u001b[1;33m.\u001b[0m\u001b[0mastype\u001b[0m\u001b[1;33m(\u001b[0m\u001b[0marray\u001b[0m\u001b[1;33m,\u001b[0m \u001b[0mdtype\u001b[0m\u001b[1;33m,\u001b[0m \u001b[0mcopy\u001b[0m\u001b[1;33m=\u001b[0m\u001b[1;32mFalse\u001b[0m\u001b[1;33m)\u001b[0m\u001b[1;33m\u001b[0m\u001b[1;33m\u001b[0m\u001b[0m\n\u001b[0;32m   1011\u001b[0m                 \u001b[1;32melse\u001b[0m\u001b[1;33m:\u001b[0m\u001b[1;33m\u001b[0m\u001b[1;33m\u001b[0m\u001b[0m\n\u001b[0;32m   1012\u001b[0m                     \u001b[0marray\u001b[0m \u001b[1;33m=\u001b[0m \u001b[0m_asarray_with_order\u001b[0m\u001b[1;33m(\u001b[0m\u001b[0marray\u001b[0m\u001b[1;33m,\u001b[0m \u001b[0morder\u001b[0m\u001b[1;33m=\u001b[0m\u001b[0morder\u001b[0m\u001b[1;33m,\u001b[0m \u001b[0mdtype\u001b[0m\u001b[1;33m=\u001b[0m\u001b[0mdtype\u001b[0m\u001b[1;33m,\u001b[0m \u001b[0mxp\u001b[0m\u001b[1;33m=\u001b[0m\u001b[0mxp\u001b[0m\u001b[1;33m)\u001b[0m\u001b[1;33m\u001b[0m\u001b[1;33m\u001b[0m\u001b[0m\n\u001b[1;32m-> 1013\u001b[1;33m             \u001b[1;32mexcept\u001b[0m \u001b[0mComplexWarning\u001b[0m \u001b[1;32mas\u001b[0m \u001b[0mcomplex_warning\u001b[0m\u001b[1;33m:\u001b[0m\u001b[1;33m\u001b[0m\u001b[1;33m\u001b[0m\u001b[0m\n\u001b[0m\u001b[0;32m   1014\u001b[0m                 raise ValueError(\n\u001b[0;32m   1015\u001b[0m                     \u001b[1;34m\"Complex data not supported\\n{}\\n\"\u001b[0m\u001b[1;33m.\u001b[0m\u001b[0mformat\u001b[0m\u001b[1;33m(\u001b[0m\u001b[0marray\u001b[0m\u001b[1;33m)\u001b[0m\u001b[1;33m\u001b[0m\u001b[1;33m\u001b[0m\u001b[0m\n\u001b[0;32m   1016\u001b[0m                 ) from complex_warning\n",
      "\u001b[1;32m~\\AppData\\Local\\Packages\\PythonSoftwareFoundation.Python.3.11_qbz5n2kfra8p0\\LocalCache\\local-packages\\Python311\\site-packages\\sklearn\\utils\\_array_api.py\u001b[0m in \u001b[0;36m?\u001b[1;34m(array, dtype, order, copy, xp, device)\u001b[0m\n\u001b[0;32m    741\u001b[0m         \u001b[1;31m# Use NumPy API to support order\u001b[0m\u001b[1;33m\u001b[0m\u001b[1;33m\u001b[0m\u001b[0m\n\u001b[0;32m    742\u001b[0m         \u001b[1;32mif\u001b[0m \u001b[0mcopy\u001b[0m \u001b[1;32mis\u001b[0m \u001b[1;32mTrue\u001b[0m\u001b[1;33m:\u001b[0m\u001b[1;33m\u001b[0m\u001b[1;33m\u001b[0m\u001b[0m\n\u001b[0;32m    743\u001b[0m             \u001b[0marray\u001b[0m \u001b[1;33m=\u001b[0m \u001b[0mnumpy\u001b[0m\u001b[1;33m.\u001b[0m\u001b[0marray\u001b[0m\u001b[1;33m(\u001b[0m\u001b[0marray\u001b[0m\u001b[1;33m,\u001b[0m \u001b[0morder\u001b[0m\u001b[1;33m=\u001b[0m\u001b[0morder\u001b[0m\u001b[1;33m,\u001b[0m \u001b[0mdtype\u001b[0m\u001b[1;33m=\u001b[0m\u001b[0mdtype\u001b[0m\u001b[1;33m)\u001b[0m\u001b[1;33m\u001b[0m\u001b[1;33m\u001b[0m\u001b[0m\n\u001b[0;32m    744\u001b[0m         \u001b[1;32melse\u001b[0m\u001b[1;33m:\u001b[0m\u001b[1;33m\u001b[0m\u001b[1;33m\u001b[0m\u001b[0m\n\u001b[1;32m--> 745\u001b[1;33m             \u001b[0marray\u001b[0m \u001b[1;33m=\u001b[0m \u001b[0mnumpy\u001b[0m\u001b[1;33m.\u001b[0m\u001b[0masarray\u001b[0m\u001b[1;33m(\u001b[0m\u001b[0marray\u001b[0m\u001b[1;33m,\u001b[0m \u001b[0morder\u001b[0m\u001b[1;33m=\u001b[0m\u001b[0morder\u001b[0m\u001b[1;33m,\u001b[0m \u001b[0mdtype\u001b[0m\u001b[1;33m=\u001b[0m\u001b[0mdtype\u001b[0m\u001b[1;33m)\u001b[0m\u001b[1;33m\u001b[0m\u001b[1;33m\u001b[0m\u001b[0m\n\u001b[0m\u001b[0;32m    746\u001b[0m \u001b[1;33m\u001b[0m\u001b[0m\n\u001b[0;32m    747\u001b[0m         \u001b[1;31m# At this point array is a NumPy ndarray. We convert it to an array\u001b[0m\u001b[1;33m\u001b[0m\u001b[1;33m\u001b[0m\u001b[0m\n\u001b[0;32m    748\u001b[0m         \u001b[1;31m# container that is consistent with the input's namespace.\u001b[0m\u001b[1;33m\u001b[0m\u001b[1;33m\u001b[0m\u001b[0m\n",
      "\u001b[1;32m~\\AppData\\Local\\Packages\\PythonSoftwareFoundation.Python.3.11_qbz5n2kfra8p0\\LocalCache\\local-packages\\Python311\\site-packages\\pandas\\core\\generic.py\u001b[0m in \u001b[0;36m?\u001b[1;34m(self, dtype, copy)\u001b[0m\n\u001b[0;32m   2149\u001b[0m     def __array__(\n\u001b[0;32m   2150\u001b[0m         \u001b[0mself\u001b[0m\u001b[1;33m,\u001b[0m \u001b[0mdtype\u001b[0m\u001b[1;33m:\u001b[0m \u001b[0mnpt\u001b[0m\u001b[1;33m.\u001b[0m\u001b[0mDTypeLike\u001b[0m \u001b[1;33m|\u001b[0m \u001b[1;32mNone\u001b[0m \u001b[1;33m=\u001b[0m \u001b[1;32mNone\u001b[0m\u001b[1;33m,\u001b[0m \u001b[0mcopy\u001b[0m\u001b[1;33m:\u001b[0m \u001b[0mbool_t\u001b[0m \u001b[1;33m|\u001b[0m \u001b[1;32mNone\u001b[0m \u001b[1;33m=\u001b[0m \u001b[1;32mNone\u001b[0m\u001b[1;33m\u001b[0m\u001b[1;33m\u001b[0m\u001b[0m\n\u001b[0;32m   2151\u001b[0m     ) -> np.ndarray:\n\u001b[0;32m   2152\u001b[0m         \u001b[0mvalues\u001b[0m \u001b[1;33m=\u001b[0m \u001b[0mself\u001b[0m\u001b[1;33m.\u001b[0m\u001b[0m_values\u001b[0m\u001b[1;33m\u001b[0m\u001b[1;33m\u001b[0m\u001b[0m\n\u001b[1;32m-> 2153\u001b[1;33m         \u001b[0marr\u001b[0m \u001b[1;33m=\u001b[0m \u001b[0mnp\u001b[0m\u001b[1;33m.\u001b[0m\u001b[0masarray\u001b[0m\u001b[1;33m(\u001b[0m\u001b[0mvalues\u001b[0m\u001b[1;33m,\u001b[0m \u001b[0mdtype\u001b[0m\u001b[1;33m=\u001b[0m\u001b[0mdtype\u001b[0m\u001b[1;33m)\u001b[0m\u001b[1;33m\u001b[0m\u001b[1;33m\u001b[0m\u001b[0m\n\u001b[0m\u001b[0;32m   2154\u001b[0m         if (\n\u001b[0;32m   2155\u001b[0m             \u001b[0mastype_is_view\u001b[0m\u001b[1;33m(\u001b[0m\u001b[0mvalues\u001b[0m\u001b[1;33m.\u001b[0m\u001b[0mdtype\u001b[0m\u001b[1;33m,\u001b[0m \u001b[0marr\u001b[0m\u001b[1;33m.\u001b[0m\u001b[0mdtype\u001b[0m\u001b[1;33m)\u001b[0m\u001b[1;33m\u001b[0m\u001b[1;33m\u001b[0m\u001b[0m\n\u001b[0;32m   2156\u001b[0m             \u001b[1;32mand\u001b[0m \u001b[0musing_copy_on_write\u001b[0m\u001b[1;33m(\u001b[0m\u001b[1;33m)\u001b[0m\u001b[1;33m\u001b[0m\u001b[1;33m\u001b[0m\u001b[0m\n",
      "\u001b[1;31mValueError\u001b[0m: could not convert string to float: 'dns'"
     ]
    }
   ],
   "source": [
    "file_path1 = \"D:\\\\ml\\\\undersampling_data\\\\data\\\\unsw\\\\oversampling\\\\smote_data.csv\"\n",
    "file_path2 = \"D:\\\\ml\\\\undersampling_data\\\\data\\\\unsw\\\\oversampling\\\\smote3_data.csv\"\n",
    "#zamiana jesli istnieje to wczytaj plik jesli nie to stworz\n",
    "coun = Counter(y_train)\n",
    "majority_class = max(coun, key=coun.get)\n",
    "minority_class = min(coun, key=coun.get)\n",
    "missing_samples = coun[majority_class] - coun[minority_class]\n",
    "print(\"Before\", coun)\n",
    "smote = SMOTE()\n",
    "X_train_sm, y_train_sm = smote.fit_resample(X_train, y_train)\n",
    "\n",
    "smote2 = SMOTE(sampling_strategy={minority_class: coun[minority_class] + 2 * missing_samples}, random_state=42)\n",
    "X_train_sm3, y_train_sm3 = smote2.fit_resample(X_train, y_train)\n",
    "\n",
    "train_data_smote = pd.concat([X_train_sm, y_train_sm], axis=1)          #polaczenie danych wygenerowanych X_train oraz y_train\n",
    "train_data_smote3 = pd.concat([X_train_sm3, y_train_sm3], axis=1)\n",
    "\n",
    "#smote generated data\n",
    "train_data_smote['generated_by_smote'] = ['original' if i < len(df) else 'smote' for i in range(len(train_data_smote))]\n",
    "smote_data = train_data_smote[train_data_smote['generated_by_smote'] == 'smote'].drop('generated_by_smote', axis=1)\n",
    "smote_data[\"source\"] = \"smote\"\n",
    "if not os.path.exists(file_path1):\n",
    "    smote_data.to_csv(file_path1, index=False)\n",
    "else:\n",
    "    print(f'Plik istnieje pod ścieżką: {file_path1}')\n",
    "\n",
    "#smote3 generated data\n",
    "train_data_smote3['generated_by_smote'] = ['original' if i < len(df) else 'smote' for i in range(len(train_data_smote3))]\n",
    "smote_data3 = train_data_smote3[train_data_smote3['generated_by_smote'] == 'smote'].drop('generated_by_smote', axis=1)\n",
    "smote_data3[\"source\"] = \"smote\"\n",
    "if not os.path.exists(file_path2):\n",
    "    smote_data3.to_csv(file_path2, index=False)\n",
    "else:\n",
    "    print(f'Plik istnieje pod ścieżką: {file_path2}')\n",
    "\n",
    "con1 = Counter(y_train_sm)\n",
    "print(\"After\", con1)\n",
    "con2 = Counter(y_train_sm3)\n",
    "print(\"After generation 3x SMOTE\", con2)\n",
    "pd.Series(y_train_sm).value_counts().plot.bar()\n",
    "pd.Series(y_train_sm3).value_counts().plot.bar()"
   ]
  }
 ],
 "metadata": {
  "kernelspec": {
   "display_name": "Python 3",
   "language": "python",
   "name": "python3"
  },
  "language_info": {
   "codemirror_mode": {
    "name": "ipython",
    "version": 3
   },
   "file_extension": ".py",
   "mimetype": "text/x-python",
   "name": "python",
   "nbconvert_exporter": "python",
   "pygments_lexer": "ipython3",
   "version": "3.11.9"
  }
 },
 "nbformat": 4,
 "nbformat_minor": 5
}
