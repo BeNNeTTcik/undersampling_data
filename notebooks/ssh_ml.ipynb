{
 "cells": [
  {
   "cell_type": "code",
   "execution_count": 14,
   "id": "66b656be",
   "metadata": {},
   "outputs": [],
   "source": [
    "import pandas as pd\n",
    "import matplotlib.pyplot as plt\n",
    "#import seaborn as sns\n",
    "import pickle\n",
    "import datacompy\n",
    "import os, sys\n",
    "import numpy as np\n",
    "import re\n",
    "import ast\n",
    "import gower\n",
    "from pathlib import Path\n",
    "import openpyxl\n",
    "\n",
    "# narzedzia\n",
    "from sklearn.model_selection import (\n",
    "    train_test_split,\n",
    "    cross_val_score,\n",
    "    cross_val_predict,\n",
    "    learning_curve,\n",
    "    RepeatedStratifiedKFold,\n",
    "    GridSearchCV,\n",
    "    RandomizedSearchCV\n",
    ")\n",
    "from collections import Counter\n",
    "from sklearn.metrics import classification_report, confusion_matrix, silhouette_score, accuracy_score, pairwise_distances, make_scorer, precision_score, f1_score, roc_auc_score\n",
    "from sklearn.metrics.pairwise import cosine_similarity\n",
    "from sklearn import tree\n",
    "from sklearn.tree import plot_tree\n",
    "from sklearn.preprocessing import StandardScaler, OneHotEncoder, LabelEncoder\n",
    "from scipy import stats\n",
    "from scipy.stats import chi2_contingency\n",
    "from scipy.spatial import distance\n",
    "from joblib import dump, load\n",
    "\n",
    "# modele\n",
    "from xgboost import XGBClassifier, XGBRFClassifier\n",
    "#from sklearn.linear_model import LogisticRegression\n",
    "from sklearn.tree import DecisionTreeClassifier\n",
    "from sklearn.ensemble import RandomForestClassifier\n",
    "\n",
    "# methods\n",
    "from imblearn.under_sampling import ClusterCentroids, NearMiss\n",
    "from scipy.optimize import differential_evolution\n",
    "from sklearn.cluster import KMeans, AgglomerativeClustering, DBSCAN, HDBSCAN\n",
    "from sklearn.ensemble import IsolationForest\n",
    "from sklearn.neighbors import LocalOutlierFactor, KNeighborsClassifier, NearestNeighbors\n",
    "from sklearn.inspection import permutation_importance\n",
    "from scipy.spatial.distance import euclidean\n",
    "from imblearn.over_sampling import SMOTE, BorderlineSMOTE\n",
    "#from ctgan import CTGAN"
   ]
  },
  {
   "cell_type": "markdown",
   "id": "e0995af2",
   "metadata": {},
   "source": [
    "### Read dataframes after preprocessing "
   ]
  },
  {
   "cell_type": "code",
   "execution_count": 3,
   "id": "b7546acb",
   "metadata": {},
   "outputs": [],
   "source": [
    "# Original df\n",
    "original = pd.read_csv(\"D:\\\\ml\\\\undersampling_data\\\\data\\\\ssh\\\\encoded_normalized\\\\original_data_normalized.csv\")\n",
    "\n",
    "# KMeans + centeroid\n",
    "borderline_KM_cent = pd.read_csv(\"D:\\\\ml\\\\undersampling_data\\\\data\\\\ssh\\\\reduced\\\\borderline_KM_centroids.csv\")\n",
    "smote_KM_cent = pd.read_csv(\"D:\\\\ml\\\\undersampling_data\\\\data\\\\ssh\\\\reduced\\\\smote_KM_centroids.csv\")\n",
    "mix_KM_cent = pd.read_csv(\"D:\\\\ml\\\\undersampling_data\\\\data\\\\ssh\\\\reduced\\\\mix_KM_centroids.csv\")\n",
    "GAN_KM_cent = pd.read_csv(\"D:\\\\ml\\\\undersampling_data\\\\data\\\\ssh\\\\reduced\\\\GAN_KM_centroids.csv\")\n",
    "\n",
    "# KMeans + the nearesrt neighbor\n",
    "borderline_KM_nn = pd.read_csv(\"D:\\\\ml\\\\undersampling_data\\\\data\\\\ssh\\\\reduced\\\\borderline_KM_nn.csv\")\n",
    "smote_KM_nn = pd.read_csv(\"D:\\\\ml\\\\undersampling_data\\\\data\\\\ssh\\\\reduced\\\\smote_KM_nn.csv\")\n",
    "mix_KM_nn = pd.read_csv(\"D:\\\\ml\\\\undersampling_data\\\\data\\\\ssh\\\\reduced\\\\mix_KM_nn.csv\")\n",
    "GAN_KM_nn = pd.read_csv(\"D:\\\\ml\\\\undersampling_data\\\\data\\\\ssh\\\\reduced\\\\GAN_KM_nn.csv\")\n",
    "\n",
    "# KMeans + cosine similarity\n",
    "borderline_KM_cos = pd.read_csv(\"D:\\\\ml\\\\undersampling_data\\\\data\\\\ssh\\\\reduced\\\\borderline_KM_cos.csv\")\n",
    "smote_KM_cos = pd.read_csv(\"D:\\\\ml\\\\undersampling_data\\\\data\\\\ssh\\\\reduced\\\\smote_KM_cos.csv\")\n",
    "mix_KM_cos = pd.read_csv(\"D:\\\\ml\\\\undersampling_data\\\\data\\\\ssh\\\\reduced\\\\mix_KM_cos.csv\")\n",
    "GAN_KM_cos = pd.read_csv(\"D:\\\\ml\\\\undersampling_data\\\\data\\\\ssh\\\\reduced\\\\GAN_KM_cos.csv\")\n",
    "\n",
    "# KMeans + cosine similarity + Mahalanobis distance\n",
    "borderline_KM_cos_maha = pd.read_csv(\"D:\\\\ml\\\\undersampling_data\\\\data\\\\ssh\\\\reduced\\\\borderline_KM_cos_mal.csv\")\n",
    "smote_KM_cos_maha = pd.read_csv(\"D:\\\\ml\\\\undersampling_data\\\\data\\\\ssh\\\\reduced\\\\smote_KM_cos_mal.csv\")\n",
    "mix_KM_cos_maha = pd.read_csv(\"D:\\\\ml\\\\undersampling_data\\\\data\\\\ssh\\\\reduced\\\\mix_KM_cos_mal.csv\")\n",
    "GAN_KM_cos_maha = pd.read_csv(\"D:\\\\ml\\\\undersampling_data\\\\data\\\\ssh\\\\reduced\\\\GAN_KM_cos_mal.csv\")\n",
    "\n",
    "# HDBSCAN + the nearesrt neighbor\n",
    "borderline_HDBSCAN_nn = pd.read_csv(\"D:\\\\ml\\\\undersampling_data\\\\data\\\\ssh\\\\reduced\\\\borderline_HDBSCAN_NN.csv\")\n",
    "smote_HDBSCAN_nn = pd.read_csv(\"D:\\\\ml\\\\undersampling_data\\\\data\\\\ssh\\\\reduced\\\\smote_HDBSCAN_NN.csv\")\n",
    "mix_HDBSCAN_nn = pd.read_csv(\"D:\\\\ml\\\\undersampling_data\\\\data\\\\ssh\\\\reduced\\\\mix_HDBSCAN_NN.csv\")\n",
    "GAN_HDBSCAN_nn = pd.read_csv(\"D:\\\\ml\\\\undersampling_data\\\\data\\\\ssh\\\\reduced\\\\GAN_HDBSCAN_NN.csv\")\n",
    "\n",
    "# HDBSCAN + cosine similarity\n",
    "borderline_HDBSCAN_cos = pd.read_csv(\"D:\\\\ml\\\\undersampling_data\\\\data\\\\ssh\\\\reduced\\\\borderline_HDBSCAN_cos.csv\")\n",
    "smote_HDBSCAN_cos = pd.read_csv(\"D:\\\\ml\\\\undersampling_data\\\\data\\\\ssh\\\\reduced\\\\smote_HDBSCAN_cos.csv\")\n",
    "mix_HDBSCAN_cos = pd.read_csv(\"D:\\\\ml\\\\undersampling_data\\\\data\\\\ssh\\\\reduced\\\\mix_HDBSCAN_cos.csv\")\n",
    "GAN_HDBSCAN_cos = pd.read_csv(\"D:\\\\ml\\\\undersampling_data\\\\data\\\\ssh\\\\reduced\\\\GAN_HDBSCAN_cos.csv\")\n",
    "\n",
    "# Kmeans(number of samples calculated by HDBSCAN) + the nearesrt neighbor\n",
    "borderline_KM_HDBSCAN_nn = pd.read_csv(\"D:\\\\ml\\\\undersampling_data\\\\data\\\\ssh\\\\reduced\\\\borderline_kmeans&hdbscan_nn.csv\")\n",
    "smote_KM_HDBSCAN_nn = pd.read_csv(\"D:\\\\ml\\\\undersampling_data\\\\data\\\\ssh\\\\reduced\\\\smote_kmeans&hdbscan_nn.csv\")\n",
    "mix_KM_HDBSCAN_nn = pd.read_csv(\"D:\\\\ml\\\\undersampling_data\\\\data\\\\ssh\\\\reduced\\\\mix_kmeans&hdbscan_nn.csv\")\n",
    "GAN_KM_HDBSCAN_nn = pd.read_csv(\"D:\\\\ml\\\\undersampling_data\\\\data\\\\ssh\\\\reduced\\\\GAN_kmeans&hdbscan_nn.csv\")\n",
    "\n",
    "# Kmeans(number of samples calculated by HDBSCAN) + cosine similarity\n",
    "borderline_KM_HDBSCAN_cos = pd.read_csv(\"D:\\\\ml\\\\undersampling_data\\\\data\\\\ssh\\\\reduced\\\\borderline_kmeans&hdbscan_cos.csv\")\n",
    "smote_KM_HDBSCAN_cos = pd.read_csv(\"D:\\\\ml\\\\undersampling_data\\\\data\\\\ssh\\\\reduced\\\\smote_kmeans&hdbscan_cos.csv\")\n",
    "mix_KM_HDBSCAN_cos = pd.read_csv(\"D:\\\\ml\\\\undersampling_data\\\\data\\\\ssh\\\\reduced\\\\mix_kmeans&hdbscan_cos.csv\")\n",
    "GAN_KM_HDBSCAN_cos = pd.read_csv(\"D:\\\\ml\\\\undersampling_data\\\\data\\\\ssh\\\\reduced\\\\GAN_kmeans&hdbscan_cos.csv\")  \n",
    "\n",
    "# KMeans(number of samples calculated by HDBSCAN) + cosine similarity + Mahalanobis distance\n",
    "borderline_KM_HDBSCAN_cos_maha = pd.read_csv(\"D:\\\\ml\\\\undersampling_data\\\\data\\\\ssh\\\\reduced\\\\borderline_kmeans&hdbscan_cos&mal.csv\")\n",
    "smote_KM_HDBSCAN_cos_maha = pd.read_csv(\"D:\\\\ml\\\\undersampling_data\\\\data\\\\ssh\\\\reduced\\\\smote_kmeans&hdbscan_cos&mal.csv\")\n",
    "mix_KM_HDBSCAN_cos_maha = pd.read_csv(\"D:\\\\ml\\\\undersampling_data\\\\data\\\\ssh\\\\reduced\\\\mix_kmeans&hdbscan_cos&mal.csv\")\n",
    "GAN_KM_HDBSCAN_cos_maha = pd.read_csv(\"D:\\\\ml\\\\undersampling_data\\\\data\\\\ssh\\\\reduced\\\\GAN_kmeans&hdbscan_cos&mal.csv\")"
   ]
  },
  {
   "cell_type": "markdown",
   "id": "5ad67c7a",
   "metadata": {},
   "source": [
    "### Machine Learning"
   ]
  },
  {
   "cell_type": "code",
   "execution_count": 8,
   "id": "67676b7e",
   "metadata": {},
   "outputs": [],
   "source": [
    "models = {}\n",
    "\n",
    "models[\"DT\"] = DecisionTreeClassifier(random_state= 0, min_samples_leaf= 1, max_depth= 4)\n",
    "models[\"DT_KM_C\"] = DecisionTreeClassifier(random_state= 0, min_samples_leaf= 1, max_depth= 8)\n",
    "models[\"DT_KM_NN\"] = DecisionTreeClassifier(random_state= 0, min_samples_leaf= 1, max_depth= 4)\n",
    "models[\"DT_KM_COS\"] = DecisionTreeClassifier(random_state= 0, min_samples_leaf= 1, max_depth= 8)\n",
    "models[\"DT_KM_COS_MAHA\"] = DecisionTreeClassifier(random_state= 0, min_samples_leaf= 1, max_depth= 8)\n",
    "models[\"DT_HDBSCAN_NN\"] = DecisionTreeClassifier(random_state= 0, min_samples_leaf= 2, max_depth= 8)\n",
    "models[\"DT_HDBSCAN_COS\"] = DecisionTreeClassifier(random_state= 0, min_samples_leaf= 1, max_depth= 8)\n",
    "models[\"DT_KM_SCAN_NN\"] = DecisionTreeClassifier(random_state= 0, min_samples_leaf= 1, max_depth= 8)\n",
    "models[\"DT_KM_SCAN_COS\"] = DecisionTreeClassifier(random_state= 0, min_samples_leaf= 2, max_depth= 4)\n",
    "models[\"DT_KM_SCAN_COS_MAHA\"] = DecisionTreeClassifier(random_state= 0, min_samples_leaf= 1, max_depth= 8)\n",
    "\n",
    "models[\"RF\"] = RandomForestClassifier(random_state= 0,n_estimators=80, min_samples_leaf= 1, max_depth= 12)\n",
    "models[\"RF_KM_C\"] = RandomForestClassifier(random_state= 0,n_estimators=40, min_samples_leaf= 1, max_depth= 12)\n",
    "models[\"RF_KM_NN\"] = RandomForestClassifier(random_state= 0,n_estimators=80, min_samples_leaf= 1, max_depth= 8)\n",
    "models[\"RF_KM_COS\"] = RandomForestClassifier(random_state= 0,n_estimators=80, min_samples_leaf= 1, max_depth= 8)\n",
    "models[\"RF_KM_COS_MAHA\"] = RandomForestClassifier(random_state= 0,n_estimators=40, min_samples_leaf= 1, max_depth= 8)\n",
    "models[\"RF_HDBSCAN_NN\"] = RandomForestClassifier(random_state= 0,n_estimators=40, min_samples_leaf= 1, max_depth= 8)\n",
    "models[\"RF_HDBSCAN_COS\"] = RandomForestClassifier(random_state= 0,n_estimators=80, min_samples_leaf= 1, max_depth= 8)\n",
    "models[\"RF_KM_SCAN_NN\"] = RandomForestClassifier(random_state= 0,n_estimators=80, min_samples_leaf= 1, max_depth= 8)\n",
    "models[\"RF_KM_SCAN_COS\"] = RandomForestClassifier(random_state= 0,n_estimators=80, min_samples_leaf= 1, max_depth= 8)\n",
    "models[\"RF_KM_SCAN_COS_MAHA\"] = RandomForestClassifier(random_state= 0,n_estimators=80, min_samples_leaf= 1, max_depth= 12)\n",
    "\n",
    "models[\"XGB\"] = XGBClassifier(subsample= 1, max_depth= 8, learning_rate= 0.1)\n",
    "models[\"XGB_KM_C\"] = XGBClassifier(subsample= 0.7, max_depth= 8, learning_rate= 0.1)\n",
    "models[\"XGB_KM_NN\"] = XGBClassifier(subsample= 1, max_depth= 8, learning_rate= 0.1)\n",
    "models[\"XGB_KM_COS\"] = XGBClassifier(subsample= 0.7, max_depth= 8, learning_rate= 0.1)\n",
    "models[\"XGB_KM_COS_MAHA\"] = XGBClassifier(subsample= 0.7, max_depth= 8, learning_rate= 0.1)\n",
    "models[\"XGB_HDBSCAN_NN\"] = XGBClassifier(subsample= 0.7, max_depth= 8, learning_rate= 0.1)\n",
    "models[\"XGB_HDBSCAN_COS\"] = XGBClassifier(subsample= 1, max_depth= 8, learning_rate= 0.1)\n",
    "models[\"XGB_KM_SCAN_NN\"] = XGBClassifier(subsample= 1, max_depth= 8, learning_rate= 0.1)\n",
    "models[\"XGB_KM_SCAN_COS\"] = XGBClassifier(subsample= 0.7, max_depth= 8, learning_rate= 0.1)\n",
    "models[\"XGB_KM_SCAN_COS_MAHA\"] = XGBClassifier(subsample= 0.7, max_depth= 8, learning_rate= 0.1)\n",
    "\n",
    "models[\"XGBRF\"] = XGBRFClassifier(subsample= 0.7, random_state= 0, n_estimators= 40, max_depth= 8)\n",
    "models[\"XGBRF_KM_C\"] = XGBRFClassifier(subsample= 1, random_state= 0, n_estimators= 40, max_depth= 8)\n",
    "models[\"XGBRF_KM_NN\"] = XGBRFClassifier(subsample= 1, random_state= 0, n_estimators= 80, max_depth= 8)\n",
    "models[\"XGBRF_KM_COS\"] = XGBRFClassifier(subsample= 1, random_state= 0, n_estimators= 80, max_depth= 8)\n",
    "models[\"XGBRF_KM_COS_MAHA\"] = XGBRFClassifier(subsample= 0.7, random_state= 0, n_estimators= 40, max_depth= 8)\n",
    "models[\"XGBRF_HDBSCAN_NN\"] = XGBRFClassifier(subsample= 0.7, random_state= 0, n_estimators= 80, max_depth= 8)\n",
    "models[\"XGBRF_HDBSCAN_COS\"] = XGBRFClassifier(subsample= 1, random_state= 0, n_estimators= 80, max_depth= 8)\n",
    "models[\"XGBRF_KM_SCAN_NN\"] = XGBRFClassifier(subsample= 1, random_state= 0, n_estimators= 40, max_depth= 8)\n",
    "models[\"XGBRF_KM_SCAN_COS\"] = XGBRFClassifier(subsample= 1, random_state= 0, n_estimators= 80, max_depth= 8)\n",
    "models[\"XGBRF_KM_SCAN_COS_MAHA\"] = XGBRFClassifier(subsample= 1, random_state= 0, n_estimators= 40, max_depth= 8)"
   ]
  },
  {
   "cell_type": "code",
   "execution_count": 9,
   "id": "725f381b",
   "metadata": {},
   "outputs": [],
   "source": [
    "data = {}\n",
    "\n",
    "# Data for grid search\n",
    "\"\"\" data[\"original\"] = (original.drop(columns=[\"target\",\"source\"]), original[\"target\"])\n",
    "data[\"KM_C\"] = (borderline_KM_cent.drop(columns=[\"target\",\"source\"]), borderline_KM_cent[\"target\"])\n",
    "data[\"KM_NN\"] = (borderline_KM_nn.drop(columns=[\"target\",\"source\"]), borderline_KM_nn[\"target\"])\n",
    "data[\"KM_COS\"] = (borderline_KM_cos.drop(columns=[\"target\",\"source\"]), borderline_KM_cos[\"target\"])\n",
    "data[\"KM_COS_MAHA\"] = (borderline_KM_cos_maha.drop(columns=[\"target\",\"source\"]), borderline_KM_cos_maha[\"target\"])\n",
    "data[\"HDBSCAN_NN\"] = (borderline_HDBSCAN_nn.drop(columns=[\"target\",\"source\"]), borderline_HDBSCAN_nn[\"target\"])\n",
    "data[\"HDBSCAN_COS\"] = (borderline_HDBSCAN_cos.drop(columns=[\"target\",\"source\"]), borderline_HDBSCAN_cos[\"target\"])\n",
    "data[\"KM_SCAN_NN\"] = (borderline_KM_HDBSCAN_nn.drop(columns=[\"target\",\"source\"]), borderline_KM_HDBSCAN_nn[\"target\"])\n",
    "data[\"KM_SCAN_COS\"] = (borderline_KM_HDBSCAN_cos.drop(columns=[\"target\",\"source\"]), borderline_KM_HDBSCAN_cos[\"target\"])\n",
    "data[\"KM_SCAN_COS_MAHA\"] = (borderline_KM_HDBSCAN_cos_maha.drop(columns=[\"target\",\"source\"]), borderline_KM_HDBSCAN_cos_maha[\"target\"]) \"\"\"\n",
    "\n",
    "# Data for models\n",
    "data[\"DT\"] = (original.drop(columns=[\"target\",\"source\"]), original[\"target\"])\n",
    "data[\"DT_KM_C\"] = (borderline_KM_cent.drop(columns=[\"target\",\"source\"]), borderline_KM_cent[\"target\"])\n",
    "data[\"DT_KM_NN\"] = (borderline_KM_nn.drop(columns=[\"target\",\"source\"]), borderline_KM_nn[\"target\"])\n",
    "data[\"DT_KM_COS\"] = (borderline_KM_cos.drop(columns=[\"target\",\"source\"]), borderline_KM_cos[\"target\"])\n",
    "data[\"DT_KM_COS_MAHA\"] = (borderline_KM_cos_maha.drop(columns=[\"target\",\"source\"]), borderline_KM_cos_maha[\"target\"])\n",
    "data[\"DT_HDBSCAN_NN\"] = (borderline_HDBSCAN_nn.drop(columns=[\"target\",\"source\"]), borderline_HDBSCAN_nn[\"target\"])\n",
    "data[\"DT_HDBSCAN_COS\"] = (borderline_HDBSCAN_cos.drop(columns=[\"target\",\"source\"]), borderline_HDBSCAN_cos[\"target\"])\n",
    "data[\"DT_KM_SCAN_NN\"] = (borderline_KM_HDBSCAN_nn.drop(columns=[\"target\",\"source\"]), borderline_KM_HDBSCAN_nn[\"target\"])\n",
    "data[\"DT_KM_SCAN_COS\"] = (borderline_KM_HDBSCAN_cos.drop(columns=[\"target\",\"source\"]), borderline_KM_HDBSCAN_cos[\"target\"])\n",
    "data[\"DT_KM_SCAN_COS_MAHA\"] = (borderline_KM_HDBSCAN_cos_maha.drop(columns=[\"target\",\"source\"]), borderline_KM_HDBSCAN_cos_maha[\"target\"])\n",
    "\n",
    "data[\"RF\"] = (original.drop(columns=[\"target\",\"source\"]), original[\"target\"])\n",
    "data[\"RF_KM_C\"] = (smote_KM_cent.drop(columns=[\"target\",\"source\"]), smote_KM_cent[\"target\"])\n",
    "data[\"RF_KM_NN\"] = (smote_KM_nn.drop(columns=[\"target\",\"source\"]), smote_KM_nn[\"target\"])\n",
    "data[\"RF_KM_COS\"] = (smote_KM_cos.drop(columns=[\"target\",\"source\"]), smote_KM_cos[\"target\"])\n",
    "data[\"RF_KM_COS_MAHA\"] = (smote_KM_cos_maha.drop(columns=[\"target\",\"source\"]), smote_KM_cos_maha[\"target\"])\n",
    "data[\"RF_HDBSCAN_NN\"] = (smote_HDBSCAN_nn.drop(columns=[\"target\",\"source\"]), smote_HDBSCAN_nn[\"target\"])\n",
    "data[\"RF_HDBSCAN_COS\"] = (smote_HDBSCAN_cos.drop(columns=[\"target\",\"source\"]), smote_HDBSCAN_cos[\"target\"])\n",
    "data[\"RF_KM_SCAN_NN\"] = (smote_KM_HDBSCAN_nn.drop(columns=[\"target\",\"source\"]), smote_KM_HDBSCAN_nn[\"target\"])\n",
    "data[\"RF_KM_SCAN_COS\"] = (smote_KM_HDBSCAN_cos.drop(columns=[\"target\",\"source\"]), smote_KM_HDBSCAN_cos[\"target\"])\n",
    "data[\"RF_KM_SCAN_COS_MAHA\"] = (smote_KM_HDBSCAN_cos_maha.drop(columns=[\"target\",\"source\"]), smote_KM_HDBSCAN_cos_maha[\"target\"])\n",
    "\n",
    "data[\"XGB\"] = (original.drop(columns=[\"target\",\"source\"]), original[\"target\"])\n",
    "data[\"XGB_KM_C\"] = (mix_KM_cent.drop(columns=[\"target\",\"source\"]), mix_KM_cent[\"target\"])\n",
    "data[\"XGB_KM_NN\"] = (mix_KM_nn.drop(columns=[\"target\",\"source\"]), mix_KM_nn[\"target\"])\n",
    "data[\"XGB_KM_COS\"] = (mix_KM_cos.drop(columns=[\"target\",\"source\"]), mix_KM_cos[\"target\"])\n",
    "data[\"XGB_KM_COS_MAHA\"] = (mix_KM_cos_maha.drop(columns=[\"target\",\"source\"]), mix_KM_cos_maha[\"target\"])\n",
    "data[\"XGB_HDBSCAN_NN\"] = (mix_HDBSCAN_nn.drop(columns=[\"target\",\"source\"]), mix_HDBSCAN_nn[\"target\"])\n",
    "data[\"XGB_HDBSCAN_COS\"] = (mix_HDBSCAN_cos.drop(columns=[\"target\",\"source\"]), mix_HDBSCAN_cos[\"target\"])\n",
    "data[\"XGB_KM_SCAN_NN\"] = (mix_KM_HDBSCAN_nn.drop(columns=[\"target\",\"source\"]), mix_KM_HDBSCAN_nn[\"target\"])\n",
    "data[\"XGB_KM_SCAN_COS\"] = (mix_KM_HDBSCAN_cos.drop(columns=[\"target\",\"source\"]), mix_KM_HDBSCAN_cos[\"target\"])\n",
    "data[\"XGB_KM_SCAN_COS_MAHA\"] = (mix_KM_HDBSCAN_cos_maha.drop(columns=[\"target\",\"source\"]), mix_KM_HDBSCAN_cos_maha[\"target\"])\n",
    "\n",
    "data[\"XGBRF\"] = (original.drop(columns=[\"target\",\"source\"]), original[\"target\"])\n",
    "data[\"XGBRF_KM_C\"] = (GAN_KM_cent.drop(columns=[\"target\",\"source\"]), GAN_KM_cent[\"target\"])\n",
    "data[\"XGBRF_KM_NN\"] = (GAN_KM_nn.drop(columns=[\"target\",\"source\"]), GAN_KM_nn[\"target\"])\n",
    "data[\"XGBRF_KM_COS\"] = (GAN_KM_cos.drop(columns=[\"target\",\"source\"]), GAN_KM_cos[\"target\"])\n",
    "data[\"XGBRF_KM_COS_MAHA\"] = (GAN_KM_cos_maha.drop(columns=[\"target\",\"source\"]), GAN_KM_cos_maha[\"target\"])\n",
    "data[\"XGBRF_HDBSCAN_NN\"] = (GAN_HDBSCAN_nn.drop(columns=[\"target\",\"source\"]), GAN_HDBSCAN_nn[\"target\"])\n",
    "data[\"XGBRF_HDBSCAN_COS\"] = (GAN_HDBSCAN_cos.drop(columns=[\"target\",\"source\"]), GAN_HDBSCAN_cos[\"target\"])\n",
    "data[\"XGBRF_KM_SCAN_NN\"] = (GAN_KM_HDBSCAN_nn.drop(columns=[\"target\",\"source\"]), GAN_KM_HDBSCAN_nn[\"target\"])\n",
    "data[\"XGBRF_KM_SCAN_COS\"] = (GAN_KM_HDBSCAN_cos.drop(columns=[\"target\",\"source\"]), GAN_KM_HDBSCAN_cos[\"target\"])\n",
    "data[\"XGBRF_KM_SCAN_COS_MAHA\"] = (GAN_KM_HDBSCAN_cos_maha.drop(columns=[\"target\",\"source\"]), GAN_KM_HDBSCAN_cos_maha[\"target\"])"
   ]
  },
  {
   "cell_type": "markdown",
   "id": "d49c0589",
   "metadata": {},
   "source": [
    "### Grid Search"
   ]
  },
  {
   "cell_type": "code",
   "execution_count": 6,
   "id": "9234a13f",
   "metadata": {},
   "outputs": [
    {
     "name": "stdout",
     "output_type": "stream",
     "text": [
      "\n",
      "🟦 Dataset: original\n",
      " 🔍 Model: DT\n",
      "    📊 Metric: precision\n"
     ]
    },
    {
     "name": "stderr",
     "output_type": "stream",
     "text": [
      "C:\\Users\\mateu\\AppData\\Local\\Packages\\PythonSoftwareFoundation.Python.3.11_qbz5n2kfra8p0\\LocalCache\\local-packages\\Python311\\site-packages\\sklearn\\model_selection\\_search.py:320: UserWarning: The total space of parameters 4 is smaller than n_iter=20. Running 4 iterations. For exhaustive searches, use GridSearchCV.\n",
      "  warnings.warn(\n"
     ]
    },
    {
     "name": "stdout",
     "output_type": "stream",
     "text": [
      "      ✅ Best score: 0.9833\n",
      "      📈 Mean score: 0.9708\n",
      "    📊 Metric: accuracy\n",
      "      ✅ Best score: 0.9745\n",
      "      📈 Mean score: 0.9670\n",
      "    📊 Metric: f1-score\n",
      "      ✅ Best score: 0.9373\n",
      "      📈 Mean score: 0.9207\n",
      "    📊 Metric: roc_auc\n",
      "      ✅ Best score: 0.9657\n",
      "      📈 Mean score: 0.9587\n",
      " 🔍 Model: RF\n",
      "    📊 Metric: precision\n"
     ]
    },
    {
     "name": "stderr",
     "output_type": "stream",
     "text": [
      "C:\\Users\\mateu\\AppData\\Local\\Packages\\PythonSoftwareFoundation.Python.3.11_qbz5n2kfra8p0\\LocalCache\\local-packages\\Python311\\site-packages\\sklearn\\model_selection\\_search.py:320: UserWarning: The total space of parameters 4 is smaller than n_iter=20. Running 4 iterations. For exhaustive searches, use GridSearchCV.\n",
      "  warnings.warn(\n",
      "C:\\Users\\mateu\\AppData\\Local\\Packages\\PythonSoftwareFoundation.Python.3.11_qbz5n2kfra8p0\\LocalCache\\local-packages\\Python311\\site-packages\\sklearn\\model_selection\\_search.py:320: UserWarning: The total space of parameters 4 is smaller than n_iter=20. Running 4 iterations. For exhaustive searches, use GridSearchCV.\n",
      "  warnings.warn(\n",
      "C:\\Users\\mateu\\AppData\\Local\\Packages\\PythonSoftwareFoundation.Python.3.11_qbz5n2kfra8p0\\LocalCache\\local-packages\\Python311\\site-packages\\sklearn\\model_selection\\_search.py:320: UserWarning: The total space of parameters 4 is smaller than n_iter=20. Running 4 iterations. For exhaustive searches, use GridSearchCV.\n",
      "  warnings.warn(\n",
      "C:\\Users\\mateu\\AppData\\Local\\Packages\\PythonSoftwareFoundation.Python.3.11_qbz5n2kfra8p0\\LocalCache\\local-packages\\Python311\\site-packages\\sklearn\\model_selection\\_search.py:320: UserWarning: The total space of parameters 4 is smaller than n_iter=20. Running 4 iterations. For exhaustive searches, use GridSearchCV.\n",
      "  warnings.warn(\n"
     ]
    },
    {
     "name": "stdout",
     "output_type": "stream",
     "text": [
      "      ✅ Best score: 0.9300\n",
      "      📈 Mean score: 0.9213\n",
      "    📊 Metric: accuracy\n"
     ]
    },
    {
     "name": "stderr",
     "output_type": "stream",
     "text": [
      "C:\\Users\\mateu\\AppData\\Local\\Packages\\PythonSoftwareFoundation.Python.3.11_qbz5n2kfra8p0\\LocalCache\\local-packages\\Python311\\site-packages\\sklearn\\model_selection\\_search.py:320: UserWarning: The total space of parameters 4 is smaller than n_iter=20. Running 4 iterations. For exhaustive searches, use GridSearchCV.\n",
      "  warnings.warn(\n"
     ]
    },
    {
     "name": "stdout",
     "output_type": "stream",
     "text": [
      "      ✅ Best score: 0.9445\n",
      "      📈 Mean score: 0.9380\n",
      "    📊 Metric: f1-score\n"
     ]
    },
    {
     "name": "stderr",
     "output_type": "stream",
     "text": [
      "C:\\Users\\mateu\\AppData\\Local\\Packages\\PythonSoftwareFoundation.Python.3.11_qbz5n2kfra8p0\\LocalCache\\local-packages\\Python311\\site-packages\\sklearn\\model_selection\\_search.py:320: UserWarning: The total space of parameters 4 is smaller than n_iter=20. Running 4 iterations. For exhaustive searches, use GridSearchCV.\n",
      "  warnings.warn(\n"
     ]
    },
    {
     "name": "stdout",
     "output_type": "stream",
     "text": [
      "      ✅ Best score: 0.8701\n",
      "      📈 Mean score: 0.8512\n",
      "    📊 Metric: roc_auc\n"
     ]
    },
    {
     "name": "stderr",
     "output_type": "stream",
     "text": [
      "C:\\Users\\mateu\\AppData\\Local\\Packages\\PythonSoftwareFoundation.Python.3.11_qbz5n2kfra8p0\\LocalCache\\local-packages\\Python311\\site-packages\\sklearn\\model_selection\\_search.py:320: UserWarning: The total space of parameters 4 is smaller than n_iter=20. Running 4 iterations. For exhaustive searches, use GridSearchCV.\n",
      "  warnings.warn(\n"
     ]
    },
    {
     "name": "stdout",
     "output_type": "stream",
     "text": [
      "      ✅ Best score: 0.9873\n",
      "      📈 Mean score: 0.9854\n",
      " 🔍 Model: XGB\n",
      "    📊 Metric: precision\n"
     ]
    },
    {
     "name": "stderr",
     "output_type": "stream",
     "text": [
      "C:\\Users\\mateu\\AppData\\Local\\Packages\\PythonSoftwareFoundation.Python.3.11_qbz5n2kfra8p0\\LocalCache\\local-packages\\Python311\\site-packages\\sklearn\\model_selection\\_search.py:320: UserWarning: The total space of parameters 8 is smaller than n_iter=20. Running 8 iterations. For exhaustive searches, use GridSearchCV.\n",
      "  warnings.warn(\n"
     ]
    },
    {
     "name": "stdout",
     "output_type": "stream",
     "text": [
      "      ✅ Best score: 0.9667\n",
      "      📈 Mean score: 0.9517\n",
      "    📊 Metric: accuracy\n"
     ]
    },
    {
     "name": "stderr",
     "output_type": "stream",
     "text": [
      "C:\\Users\\mateu\\AppData\\Local\\Packages\\PythonSoftwareFoundation.Python.3.11_qbz5n2kfra8p0\\LocalCache\\local-packages\\Python311\\site-packages\\sklearn\\model_selection\\_search.py:320: UserWarning: The total space of parameters 8 is smaller than n_iter=20. Running 8 iterations. For exhaustive searches, use GridSearchCV.\n",
      "  warnings.warn(\n"
     ]
    },
    {
     "name": "stdout",
     "output_type": "stream",
     "text": [
      "      ✅ Best score: 0.9795\n",
      "      📈 Mean score: 0.9716\n",
      "    📊 Metric: f1-score\n"
     ]
    },
    {
     "name": "stderr",
     "output_type": "stream",
     "text": [
      "C:\\Users\\mateu\\AppData\\Local\\Packages\\PythonSoftwareFoundation.Python.3.11_qbz5n2kfra8p0\\LocalCache\\local-packages\\Python311\\site-packages\\sklearn\\model_selection\\_search.py:320: UserWarning: The total space of parameters 8 is smaller than n_iter=20. Running 8 iterations. For exhaustive searches, use GridSearchCV.\n",
      "  warnings.warn(\n"
     ]
    },
    {
     "name": "stdout",
     "output_type": "stream",
     "text": [
      "      ✅ Best score: 0.9532\n",
      "      📈 Mean score: 0.9326\n",
      "    📊 Metric: roc_auc\n"
     ]
    },
    {
     "name": "stderr",
     "output_type": "stream",
     "text": [
      "C:\\Users\\mateu\\AppData\\Local\\Packages\\PythonSoftwareFoundation.Python.3.11_qbz5n2kfra8p0\\LocalCache\\local-packages\\Python311\\site-packages\\sklearn\\model_selection\\_search.py:320: UserWarning: The total space of parameters 8 is smaller than n_iter=20. Running 8 iterations. For exhaustive searches, use GridSearchCV.\n",
      "  warnings.warn(\n"
     ]
    },
    {
     "name": "stdout",
     "output_type": "stream",
     "text": [
      "      ✅ Best score: 0.9960\n",
      "      📈 Mean score: 0.9948\n",
      " 🔍 Model: XGBRF\n",
      "    📊 Metric: precision\n"
     ]
    },
    {
     "name": "stderr",
     "output_type": "stream",
     "text": [
      "C:\\Users\\mateu\\AppData\\Local\\Packages\\PythonSoftwareFoundation.Python.3.11_qbz5n2kfra8p0\\LocalCache\\local-packages\\Python311\\site-packages\\sklearn\\model_selection\\_search.py:320: UserWarning: The total space of parameters 4 is smaller than n_iter=20. Running 4 iterations. For exhaustive searches, use GridSearchCV.\n",
      "  warnings.warn(\n"
     ]
    },
    {
     "name": "stdout",
     "output_type": "stream",
     "text": [
      "      ✅ Best score: 0.9467\n",
      "      📈 Mean score: 0.9458\n",
      "    📊 Metric: accuracy\n"
     ]
    },
    {
     "name": "stderr",
     "output_type": "stream",
     "text": [
      "C:\\Users\\mateu\\AppData\\Local\\Packages\\PythonSoftwareFoundation.Python.3.11_qbz5n2kfra8p0\\LocalCache\\local-packages\\Python311\\site-packages\\sklearn\\model_selection\\_search.py:320: UserWarning: The total space of parameters 4 is smaller than n_iter=20. Running 4 iterations. For exhaustive searches, use GridSearchCV.\n",
      "  warnings.warn(\n"
     ]
    },
    {
     "name": "stdout",
     "output_type": "stream",
     "text": [
      "      ✅ Best score: 0.9689\n",
      "      📈 Mean score: 0.9677\n",
      "    📊 Metric: f1-score\n"
     ]
    },
    {
     "name": "stderr",
     "output_type": "stream",
     "text": [
      "C:\\Users\\mateu\\AppData\\Local\\Packages\\PythonSoftwareFoundation.Python.3.11_qbz5n2kfra8p0\\LocalCache\\local-packages\\Python311\\site-packages\\sklearn\\model_selection\\_search.py:320: UserWarning: The total space of parameters 4 is smaller than n_iter=20. Running 4 iterations. For exhaustive searches, use GridSearchCV.\n",
      "  warnings.warn(\n"
     ]
    },
    {
     "name": "stdout",
     "output_type": "stream",
     "text": [
      "      ✅ Best score: 0.9231\n",
      "      📈 Mean score: 0.9204\n",
      "    📊 Metric: roc_auc\n"
     ]
    },
    {
     "name": "stderr",
     "output_type": "stream",
     "text": [
      "C:\\Users\\mateu\\AppData\\Local\\Packages\\PythonSoftwareFoundation.Python.3.11_qbz5n2kfra8p0\\LocalCache\\local-packages\\Python311\\site-packages\\sklearn\\model_selection\\_search.py:320: UserWarning: The total space of parameters 4 is smaller than n_iter=20. Running 4 iterations. For exhaustive searches, use GridSearchCV.\n",
      "  warnings.warn(\n"
     ]
    },
    {
     "name": "stdout",
     "output_type": "stream",
     "text": [
      "      ✅ Best score: 0.9960\n",
      "      📈 Mean score: 0.9948\n",
      "\n",
      "🟦 Dataset: KM_C\n",
      " 🔍 Model: DT\n",
      "    📊 Metric: precision\n",
      "      ✅ Best score: 0.9938\n",
      "      📈 Mean score: 0.9859\n",
      "    📊 Metric: accuracy\n",
      "      ✅ Best score: 0.9933\n",
      "      📈 Mean score: 0.9817\n",
      "    📊 Metric: f1-score\n",
      "      ✅ Best score: 0.9933\n",
      "      📈 Mean score: 0.9814\n",
      "    📊 Metric: roc_auc\n"
     ]
    },
    {
     "name": "stderr",
     "output_type": "stream",
     "text": [
      "C:\\Users\\mateu\\AppData\\Local\\Packages\\PythonSoftwareFoundation.Python.3.11_qbz5n2kfra8p0\\LocalCache\\local-packages\\Python311\\site-packages\\sklearn\\model_selection\\_search.py:320: UserWarning: The total space of parameters 4 is smaller than n_iter=20. Running 4 iterations. For exhaustive searches, use GridSearchCV.\n",
      "  warnings.warn(\n",
      "C:\\Users\\mateu\\AppData\\Local\\Packages\\PythonSoftwareFoundation.Python.3.11_qbz5n2kfra8p0\\LocalCache\\local-packages\\Python311\\site-packages\\sklearn\\model_selection\\_search.py:320: UserWarning: The total space of parameters 4 is smaller than n_iter=20. Running 4 iterations. For exhaustive searches, use GridSearchCV.\n",
      "  warnings.warn(\n",
      "C:\\Users\\mateu\\AppData\\Local\\Packages\\PythonSoftwareFoundation.Python.3.11_qbz5n2kfra8p0\\LocalCache\\local-packages\\Python311\\site-packages\\sklearn\\model_selection\\_search.py:320: UserWarning: The total space of parameters 4 is smaller than n_iter=20. Running 4 iterations. For exhaustive searches, use GridSearchCV.\n",
      "  warnings.warn(\n",
      "C:\\Users\\mateu\\AppData\\Local\\Packages\\PythonSoftwareFoundation.Python.3.11_qbz5n2kfra8p0\\LocalCache\\local-packages\\Python311\\site-packages\\sklearn\\model_selection\\_search.py:320: UserWarning: The total space of parameters 4 is smaller than n_iter=20. Running 4 iterations. For exhaustive searches, use GridSearchCV.\n",
      "  warnings.warn(\n"
     ]
    },
    {
     "name": "stdout",
     "output_type": "stream",
     "text": [
      "      ✅ Best score: 0.9933\n",
      "      📈 Mean score: 0.9869\n",
      " 🔍 Model: RF\n",
      "    📊 Metric: precision\n"
     ]
    },
    {
     "name": "stderr",
     "output_type": "stream",
     "text": [
      "C:\\Users\\mateu\\AppData\\Local\\Packages\\PythonSoftwareFoundation.Python.3.11_qbz5n2kfra8p0\\LocalCache\\local-packages\\Python311\\site-packages\\sklearn\\model_selection\\_search.py:320: UserWarning: The total space of parameters 4 is smaller than n_iter=20. Running 4 iterations. For exhaustive searches, use GridSearchCV.\n",
      "  warnings.warn(\n"
     ]
    },
    {
     "name": "stdout",
     "output_type": "stream",
     "text": [
      "      ✅ Best score: 0.9812\n",
      "      📈 Mean score: 0.9771\n",
      "    📊 Metric: accuracy\n"
     ]
    },
    {
     "name": "stderr",
     "output_type": "stream",
     "text": [
      "C:\\Users\\mateu\\AppData\\Local\\Packages\\PythonSoftwareFoundation.Python.3.11_qbz5n2kfra8p0\\LocalCache\\local-packages\\Python311\\site-packages\\sklearn\\model_selection\\_search.py:320: UserWarning: The total space of parameters 4 is smaller than n_iter=20. Running 4 iterations. For exhaustive searches, use GridSearchCV.\n",
      "  warnings.warn(\n"
     ]
    },
    {
     "name": "stdout",
     "output_type": "stream",
     "text": [
      "      ✅ Best score: 0.9801\n",
      "      📈 Mean score: 0.9800\n",
      "    📊 Metric: f1-score\n"
     ]
    },
    {
     "name": "stderr",
     "output_type": "stream",
     "text": [
      "C:\\Users\\mateu\\AppData\\Local\\Packages\\PythonSoftwareFoundation.Python.3.11_qbz5n2kfra8p0\\LocalCache\\local-packages\\Python311\\site-packages\\sklearn\\model_selection\\_search.py:320: UserWarning: The total space of parameters 4 is smaller than n_iter=20. Running 4 iterations. For exhaustive searches, use GridSearchCV.\n",
      "  warnings.warn(\n"
     ]
    },
    {
     "name": "stdout",
     "output_type": "stream",
     "text": [
      "      ✅ Best score: 0.9802\n",
      "      📈 Mean score: 0.9800\n",
      "    📊 Metric: roc_auc\n"
     ]
    },
    {
     "name": "stderr",
     "output_type": "stream",
     "text": [
      "C:\\Users\\mateu\\AppData\\Local\\Packages\\PythonSoftwareFoundation.Python.3.11_qbz5n2kfra8p0\\LocalCache\\local-packages\\Python311\\site-packages\\sklearn\\model_selection\\_search.py:320: UserWarning: The total space of parameters 4 is smaller than n_iter=20. Running 4 iterations. For exhaustive searches, use GridSearchCV.\n",
      "  warnings.warn(\n"
     ]
    },
    {
     "name": "stdout",
     "output_type": "stream",
     "text": [
      "      ✅ Best score: 1.0000\n",
      "      📈 Mean score: 0.9997\n",
      " 🔍 Model: XGB\n",
      "    📊 Metric: precision\n"
     ]
    },
    {
     "name": "stderr",
     "output_type": "stream",
     "text": [
      "C:\\Users\\mateu\\AppData\\Local\\Packages\\PythonSoftwareFoundation.Python.3.11_qbz5n2kfra8p0\\LocalCache\\local-packages\\Python311\\site-packages\\sklearn\\model_selection\\_search.py:320: UserWarning: The total space of parameters 8 is smaller than n_iter=20. Running 8 iterations. For exhaustive searches, use GridSearchCV.\n",
      "  warnings.warn(\n"
     ]
    },
    {
     "name": "stdout",
     "output_type": "stream",
     "text": [
      "      ✅ Best score: 0.9746\n",
      "      📈 Mean score: 0.9715\n",
      "    📊 Metric: accuracy\n"
     ]
    },
    {
     "name": "stderr",
     "output_type": "stream",
     "text": [
      "C:\\Users\\mateu\\AppData\\Local\\Packages\\PythonSoftwareFoundation.Python.3.11_qbz5n2kfra8p0\\LocalCache\\local-packages\\Python311\\site-packages\\sklearn\\model_selection\\_search.py:320: UserWarning: The total space of parameters 8 is smaller than n_iter=20. Running 8 iterations. For exhaustive searches, use GridSearchCV.\n",
      "  warnings.warn(\n"
     ]
    },
    {
     "name": "stdout",
     "output_type": "stream",
     "text": [
      "      ✅ Best score: 0.9833\n",
      "      📈 Mean score: 0.9792\n",
      "    📊 Metric: f1-score\n"
     ]
    },
    {
     "name": "stderr",
     "output_type": "stream",
     "text": [
      "C:\\Users\\mateu\\AppData\\Local\\Packages\\PythonSoftwareFoundation.Python.3.11_qbz5n2kfra8p0\\LocalCache\\local-packages\\Python311\\site-packages\\sklearn\\model_selection\\_search.py:320: UserWarning: The total space of parameters 8 is smaller than n_iter=20. Running 8 iterations. For exhaustive searches, use GridSearchCV.\n",
      "  warnings.warn(\n"
     ]
    },
    {
     "name": "stdout",
     "output_type": "stream",
     "text": [
      "      ✅ Best score: 0.9837\n",
      "      📈 Mean score: 0.9795\n",
      "    📊 Metric: roc_auc\n"
     ]
    },
    {
     "name": "stderr",
     "output_type": "stream",
     "text": [
      "C:\\Users\\mateu\\AppData\\Local\\Packages\\PythonSoftwareFoundation.Python.3.11_qbz5n2kfra8p0\\LocalCache\\local-packages\\Python311\\site-packages\\sklearn\\model_selection\\_search.py:320: UserWarning: The total space of parameters 8 is smaller than n_iter=20. Running 8 iterations. For exhaustive searches, use GridSearchCV.\n",
      "  warnings.warn(\n"
     ]
    },
    {
     "name": "stdout",
     "output_type": "stream",
     "text": [
      "      ✅ Best score: 0.9969\n",
      "      📈 Mean score: 0.9949\n",
      " 🔍 Model: XGBRF\n",
      "    📊 Metric: precision\n"
     ]
    },
    {
     "name": "stderr",
     "output_type": "stream",
     "text": [
      "C:\\Users\\mateu\\AppData\\Local\\Packages\\PythonSoftwareFoundation.Python.3.11_qbz5n2kfra8p0\\LocalCache\\local-packages\\Python311\\site-packages\\sklearn\\model_selection\\_search.py:320: UserWarning: The total space of parameters 4 is smaller than n_iter=20. Running 4 iterations. For exhaustive searches, use GridSearchCV.\n",
      "  warnings.warn(\n"
     ]
    },
    {
     "name": "stdout",
     "output_type": "stream",
     "text": [
      "      ✅ Best score: 0.9812\n",
      "      📈 Mean score: 0.9779\n",
      "    📊 Metric: accuracy\n"
     ]
    },
    {
     "name": "stderr",
     "output_type": "stream",
     "text": [
      "C:\\Users\\mateu\\AppData\\Local\\Packages\\PythonSoftwareFoundation.Python.3.11_qbz5n2kfra8p0\\LocalCache\\local-packages\\Python311\\site-packages\\sklearn\\model_selection\\_search.py:320: UserWarning: The total space of parameters 4 is smaller than n_iter=20. Running 4 iterations. For exhaustive searches, use GridSearchCV.\n",
      "  warnings.warn(\n"
     ]
    },
    {
     "name": "stdout",
     "output_type": "stream",
     "text": [
      "      ✅ Best score: 0.9867\n",
      "      📈 Mean score: 0.9850\n",
      "    📊 Metric: f1-score\n"
     ]
    },
    {
     "name": "stderr",
     "output_type": "stream",
     "text": [
      "C:\\Users\\mateu\\AppData\\Local\\Packages\\PythonSoftwareFoundation.Python.3.11_qbz5n2kfra8p0\\LocalCache\\local-packages\\Python311\\site-packages\\sklearn\\model_selection\\_search.py:320: UserWarning: The total space of parameters 4 is smaller than n_iter=20. Running 4 iterations. For exhaustive searches, use GridSearchCV.\n",
      "  warnings.warn(\n"
     ]
    },
    {
     "name": "stdout",
     "output_type": "stream",
     "text": [
      "      ✅ Best score: 0.9869\n",
      "      📈 Mean score: 0.9853\n",
      "    📊 Metric: roc_auc\n"
     ]
    },
    {
     "name": "stderr",
     "output_type": "stream",
     "text": [
      "C:\\Users\\mateu\\AppData\\Local\\Packages\\PythonSoftwareFoundation.Python.3.11_qbz5n2kfra8p0\\LocalCache\\local-packages\\Python311\\site-packages\\sklearn\\model_selection\\_search.py:320: UserWarning: The total space of parameters 4 is smaller than n_iter=20. Running 4 iterations. For exhaustive searches, use GridSearchCV.\n",
      "  warnings.warn(\n"
     ]
    },
    {
     "name": "stdout",
     "output_type": "stream",
     "text": [
      "      ✅ Best score: 0.9973\n",
      "      📈 Mean score: 0.9964\n",
      "\n",
      "🟦 Dataset: KM_NN\n",
      " 🔍 Model: DT\n",
      "    📊 Metric: precision\n",
      "      ✅ Best score: 0.9875\n",
      "      📈 Mean score: 0.9808\n",
      "    📊 Metric: accuracy\n",
      "      ✅ Best score: 0.9867\n",
      "      📈 Mean score: 0.9792\n",
      "    📊 Metric: f1-score\n",
      "      ✅ Best score: 0.9869\n",
      "      📈 Mean score: 0.9792\n",
      "    📊 Metric: roc_auc\n"
     ]
    },
    {
     "name": "stderr",
     "output_type": "stream",
     "text": [
      "C:\\Users\\mateu\\AppData\\Local\\Packages\\PythonSoftwareFoundation.Python.3.11_qbz5n2kfra8p0\\LocalCache\\local-packages\\Python311\\site-packages\\sklearn\\model_selection\\_search.py:320: UserWarning: The total space of parameters 4 is smaller than n_iter=20. Running 4 iterations. For exhaustive searches, use GridSearchCV.\n",
      "  warnings.warn(\n",
      "C:\\Users\\mateu\\AppData\\Local\\Packages\\PythonSoftwareFoundation.Python.3.11_qbz5n2kfra8p0\\LocalCache\\local-packages\\Python311\\site-packages\\sklearn\\model_selection\\_search.py:320: UserWarning: The total space of parameters 4 is smaller than n_iter=20. Running 4 iterations. For exhaustive searches, use GridSearchCV.\n",
      "  warnings.warn(\n",
      "C:\\Users\\mateu\\AppData\\Local\\Packages\\PythonSoftwareFoundation.Python.3.11_qbz5n2kfra8p0\\LocalCache\\local-packages\\Python311\\site-packages\\sklearn\\model_selection\\_search.py:320: UserWarning: The total space of parameters 4 is smaller than n_iter=20. Running 4 iterations. For exhaustive searches, use GridSearchCV.\n",
      "  warnings.warn(\n",
      "C:\\Users\\mateu\\AppData\\Local\\Packages\\PythonSoftwareFoundation.Python.3.11_qbz5n2kfra8p0\\LocalCache\\local-packages\\Python311\\site-packages\\sklearn\\model_selection\\_search.py:320: UserWarning: The total space of parameters 4 is smaller than n_iter=20. Running 4 iterations. For exhaustive searches, use GridSearchCV.\n",
      "  warnings.warn(\n"
     ]
    },
    {
     "name": "stdout",
     "output_type": "stream",
     "text": [
      "      ✅ Best score: 0.9864\n",
      "      📈 Mean score: 0.9845\n",
      " 🔍 Model: RF\n",
      "    📊 Metric: precision\n"
     ]
    },
    {
     "name": "stderr",
     "output_type": "stream",
     "text": [
      "C:\\Users\\mateu\\AppData\\Local\\Packages\\PythonSoftwareFoundation.Python.3.11_qbz5n2kfra8p0\\LocalCache\\local-packages\\Python311\\site-packages\\sklearn\\model_selection\\_search.py:320: UserWarning: The total space of parameters 4 is smaller than n_iter=20. Running 4 iterations. For exhaustive searches, use GridSearchCV.\n",
      "  warnings.warn(\n"
     ]
    },
    {
     "name": "stdout",
     "output_type": "stream",
     "text": [
      "      ✅ Best score: 0.9750\n",
      "      📈 Mean score: 0.9734\n",
      "    📊 Metric: accuracy\n"
     ]
    },
    {
     "name": "stderr",
     "output_type": "stream",
     "text": [
      "C:\\Users\\mateu\\AppData\\Local\\Packages\\PythonSoftwareFoundation.Python.3.11_qbz5n2kfra8p0\\LocalCache\\local-packages\\Python311\\site-packages\\sklearn\\model_selection\\_search.py:320: UserWarning: The total space of parameters 4 is smaller than n_iter=20. Running 4 iterations. For exhaustive searches, use GridSearchCV.\n",
      "  warnings.warn(\n"
     ]
    },
    {
     "name": "stdout",
     "output_type": "stream",
     "text": [
      "      ✅ Best score: 0.9834\n",
      "      📈 Mean score: 0.9801\n",
      "    📊 Metric: f1-score\n"
     ]
    },
    {
     "name": "stderr",
     "output_type": "stream",
     "text": [
      "C:\\Users\\mateu\\AppData\\Local\\Packages\\PythonSoftwareFoundation.Python.3.11_qbz5n2kfra8p0\\LocalCache\\local-packages\\Python311\\site-packages\\sklearn\\model_selection\\_search.py:320: UserWarning: The total space of parameters 4 is smaller than n_iter=20. Running 4 iterations. For exhaustive searches, use GridSearchCV.\n",
      "  warnings.warn(\n"
     ]
    },
    {
     "name": "stdout",
     "output_type": "stream",
     "text": [
      "      ✅ Best score: 0.9836\n",
      "      📈 Mean score: 0.9801\n",
      "    📊 Metric: roc_auc\n"
     ]
    },
    {
     "name": "stderr",
     "output_type": "stream",
     "text": [
      "C:\\Users\\mateu\\AppData\\Local\\Packages\\PythonSoftwareFoundation.Python.3.11_qbz5n2kfra8p0\\LocalCache\\local-packages\\Python311\\site-packages\\sklearn\\model_selection\\_search.py:320: UserWarning: The total space of parameters 4 is smaller than n_iter=20. Running 4 iterations. For exhaustive searches, use GridSearchCV.\n",
      "  warnings.warn(\n"
     ]
    },
    {
     "name": "stdout",
     "output_type": "stream",
     "text": [
      "      ✅ Best score: 0.9987\n",
      "      📈 Mean score: 0.9977\n",
      " 🔍 Model: XGB\n",
      "    📊 Metric: precision\n"
     ]
    },
    {
     "name": "stderr",
     "output_type": "stream",
     "text": [
      "C:\\Users\\mateu\\AppData\\Local\\Packages\\PythonSoftwareFoundation.Python.3.11_qbz5n2kfra8p0\\LocalCache\\local-packages\\Python311\\site-packages\\sklearn\\model_selection\\_search.py:320: UserWarning: The total space of parameters 8 is smaller than n_iter=20. Running 8 iterations. For exhaustive searches, use GridSearchCV.\n",
      "  warnings.warn(\n"
     ]
    },
    {
     "name": "stdout",
     "output_type": "stream",
     "text": [
      "      ✅ Best score: 0.9812\n",
      "      📈 Mean score: 0.9731\n",
      "    📊 Metric: accuracy\n"
     ]
    },
    {
     "name": "stderr",
     "output_type": "stream",
     "text": [
      "C:\\Users\\mateu\\AppData\\Local\\Packages\\PythonSoftwareFoundation.Python.3.11_qbz5n2kfra8p0\\LocalCache\\local-packages\\Python311\\site-packages\\sklearn\\model_selection\\_search.py:320: UserWarning: The total space of parameters 8 is smaller than n_iter=20. Running 8 iterations. For exhaustive searches, use GridSearchCV.\n",
      "  warnings.warn(\n"
     ]
    },
    {
     "name": "stdout",
     "output_type": "stream",
     "text": [
      "      ✅ Best score: 0.9868\n",
      "      📈 Mean score: 0.9802\n",
      "    📊 Metric: f1-score\n"
     ]
    },
    {
     "name": "stderr",
     "output_type": "stream",
     "text": [
      "C:\\Users\\mateu\\AppData\\Local\\Packages\\PythonSoftwareFoundation.Python.3.11_qbz5n2kfra8p0\\LocalCache\\local-packages\\Python311\\site-packages\\sklearn\\model_selection\\_search.py:320: UserWarning: The total space of parameters 8 is smaller than n_iter=20. Running 8 iterations. For exhaustive searches, use GridSearchCV.\n",
      "  warnings.warn(\n"
     ]
    },
    {
     "name": "stdout",
     "output_type": "stream",
     "text": [
      "      ✅ Best score: 0.9869\n",
      "      📈 Mean score: 0.9804\n",
      "    📊 Metric: roc_auc\n"
     ]
    },
    {
     "name": "stderr",
     "output_type": "stream",
     "text": [
      "C:\\Users\\mateu\\AppData\\Local\\Packages\\PythonSoftwareFoundation.Python.3.11_qbz5n2kfra8p0\\LocalCache\\local-packages\\Python311\\site-packages\\sklearn\\model_selection\\_search.py:320: UserWarning: The total space of parameters 8 is smaller than n_iter=20. Running 8 iterations. For exhaustive searches, use GridSearchCV.\n",
      "  warnings.warn(\n"
     ]
    },
    {
     "name": "stdout",
     "output_type": "stream",
     "text": [
      "      ✅ Best score: 0.9956\n",
      "      📈 Mean score: 0.9940\n",
      " 🔍 Model: XGBRF\n",
      "    📊 Metric: precision\n"
     ]
    },
    {
     "name": "stderr",
     "output_type": "stream",
     "text": [
      "C:\\Users\\mateu\\AppData\\Local\\Packages\\PythonSoftwareFoundation.Python.3.11_qbz5n2kfra8p0\\LocalCache\\local-packages\\Python311\\site-packages\\sklearn\\model_selection\\_search.py:320: UserWarning: The total space of parameters 4 is smaller than n_iter=20. Running 4 iterations. For exhaustive searches, use GridSearchCV.\n",
      "  warnings.warn(\n"
     ]
    },
    {
     "name": "stdout",
     "output_type": "stream",
     "text": [
      "      ✅ Best score: 0.9812\n",
      "      📈 Mean score: 0.9763\n",
      "    📊 Metric: accuracy\n"
     ]
    },
    {
     "name": "stderr",
     "output_type": "stream",
     "text": [
      "C:\\Users\\mateu\\AppData\\Local\\Packages\\PythonSoftwareFoundation.Python.3.11_qbz5n2kfra8p0\\LocalCache\\local-packages\\Python311\\site-packages\\sklearn\\model_selection\\_search.py:320: UserWarning: The total space of parameters 4 is smaller than n_iter=20. Running 4 iterations. For exhaustive searches, use GridSearchCV.\n",
      "  warnings.warn(\n"
     ]
    },
    {
     "name": "stdout",
     "output_type": "stream",
     "text": [
      "      ✅ Best score: 0.9868\n",
      "      📈 Mean score: 0.9835\n",
      "    📊 Metric: f1-score\n"
     ]
    },
    {
     "name": "stderr",
     "output_type": "stream",
     "text": [
      "C:\\Users\\mateu\\AppData\\Local\\Packages\\PythonSoftwareFoundation.Python.3.11_qbz5n2kfra8p0\\LocalCache\\local-packages\\Python311\\site-packages\\sklearn\\model_selection\\_search.py:320: UserWarning: The total space of parameters 4 is smaller than n_iter=20. Running 4 iterations. For exhaustive searches, use GridSearchCV.\n",
      "  warnings.warn(\n"
     ]
    },
    {
     "name": "stdout",
     "output_type": "stream",
     "text": [
      "      ✅ Best score: 0.9869\n",
      "      📈 Mean score: 0.9837\n",
      "    📊 Metric: roc_auc\n"
     ]
    },
    {
     "name": "stderr",
     "output_type": "stream",
     "text": [
      "C:\\Users\\mateu\\AppData\\Local\\Packages\\PythonSoftwareFoundation.Python.3.11_qbz5n2kfra8p0\\LocalCache\\local-packages\\Python311\\site-packages\\sklearn\\model_selection\\_search.py:320: UserWarning: The total space of parameters 4 is smaller than n_iter=20. Running 4 iterations. For exhaustive searches, use GridSearchCV.\n",
      "  warnings.warn(\n"
     ]
    },
    {
     "name": "stdout",
     "output_type": "stream",
     "text": [
      "      ✅ Best score: 0.9964\n",
      "      📈 Mean score: 0.9958\n",
      "\n",
      "🟦 Dataset: KM_COS\n",
      " 🔍 Model: DT\n",
      "    📊 Metric: precision\n",
      "      ✅ Best score: 0.9938\n",
      "      📈 Mean score: 0.9856\n",
      "    📊 Metric: accuracy\n",
      "      ✅ Best score: 0.9933\n",
      "      📈 Mean score: 0.9801\n",
      "    📊 Metric: f1-score\n"
     ]
    },
    {
     "name": "stderr",
     "output_type": "stream",
     "text": [
      "C:\\Users\\mateu\\AppData\\Local\\Packages\\PythonSoftwareFoundation.Python.3.11_qbz5n2kfra8p0\\LocalCache\\local-packages\\Python311\\site-packages\\sklearn\\model_selection\\_search.py:320: UserWarning: The total space of parameters 4 is smaller than n_iter=20. Running 4 iterations. For exhaustive searches, use GridSearchCV.\n",
      "  warnings.warn(\n",
      "C:\\Users\\mateu\\AppData\\Local\\Packages\\PythonSoftwareFoundation.Python.3.11_qbz5n2kfra8p0\\LocalCache\\local-packages\\Python311\\site-packages\\sklearn\\model_selection\\_search.py:320: UserWarning: The total space of parameters 4 is smaller than n_iter=20. Running 4 iterations. For exhaustive searches, use GridSearchCV.\n",
      "  warnings.warn(\n",
      "C:\\Users\\mateu\\AppData\\Local\\Packages\\PythonSoftwareFoundation.Python.3.11_qbz5n2kfra8p0\\LocalCache\\local-packages\\Python311\\site-packages\\sklearn\\model_selection\\_search.py:320: UserWarning: The total space of parameters 4 is smaller than n_iter=20. Running 4 iterations. For exhaustive searches, use GridSearchCV.\n",
      "  warnings.warn(\n"
     ]
    },
    {
     "name": "stdout",
     "output_type": "stream",
     "text": [
      "      ✅ Best score: 0.9933\n",
      "      📈 Mean score: 0.9795\n",
      "    📊 Metric: roc_auc\n",
      "      ✅ Best score: 0.9933\n",
      "      📈 Mean score: 0.9875\n",
      " 🔍 Model: RF\n",
      "    📊 Metric: precision\n"
     ]
    },
    {
     "name": "stderr",
     "output_type": "stream",
     "text": [
      "C:\\Users\\mateu\\AppData\\Local\\Packages\\PythonSoftwareFoundation.Python.3.11_qbz5n2kfra8p0\\LocalCache\\local-packages\\Python311\\site-packages\\sklearn\\model_selection\\_search.py:320: UserWarning: The total space of parameters 4 is smaller than n_iter=20. Running 4 iterations. For exhaustive searches, use GridSearchCV.\n",
      "  warnings.warn(\n",
      "C:\\Users\\mateu\\AppData\\Local\\Packages\\PythonSoftwareFoundation.Python.3.11_qbz5n2kfra8p0\\LocalCache\\local-packages\\Python311\\site-packages\\sklearn\\model_selection\\_search.py:320: UserWarning: The total space of parameters 4 is smaller than n_iter=20. Running 4 iterations. For exhaustive searches, use GridSearchCV.\n",
      "  warnings.warn(\n"
     ]
    },
    {
     "name": "stdout",
     "output_type": "stream",
     "text": [
      "      ✅ Best score: 0.9750\n",
      "      📈 Mean score: 0.9709\n",
      "    📊 Metric: accuracy\n"
     ]
    },
    {
     "name": "stderr",
     "output_type": "stream",
     "text": [
      "C:\\Users\\mateu\\AppData\\Local\\Packages\\PythonSoftwareFoundation.Python.3.11_qbz5n2kfra8p0\\LocalCache\\local-packages\\Python311\\site-packages\\sklearn\\model_selection\\_search.py:320: UserWarning: The total space of parameters 4 is smaller than n_iter=20. Running 4 iterations. For exhaustive searches, use GridSearchCV.\n",
      "  warnings.warn(\n"
     ]
    },
    {
     "name": "stdout",
     "output_type": "stream",
     "text": [
      "      ✅ Best score: 0.9800\n",
      "      📈 Mean score: 0.9775\n",
      "    📊 Metric: f1-score\n"
     ]
    },
    {
     "name": "stderr",
     "output_type": "stream",
     "text": [
      "C:\\Users\\mateu\\AppData\\Local\\Packages\\PythonSoftwareFoundation.Python.3.11_qbz5n2kfra8p0\\LocalCache\\local-packages\\Python311\\site-packages\\sklearn\\model_selection\\_search.py:320: UserWarning: The total space of parameters 4 is smaller than n_iter=20. Running 4 iterations. For exhaustive searches, use GridSearchCV.\n",
      "  warnings.warn(\n"
     ]
    },
    {
     "name": "stdout",
     "output_type": "stream",
     "text": [
      "      ✅ Best score: 0.9800\n",
      "      📈 Mean score: 0.9777\n",
      "    📊 Metric: roc_auc\n"
     ]
    },
    {
     "name": "stderr",
     "output_type": "stream",
     "text": [
      "C:\\Users\\mateu\\AppData\\Local\\Packages\\PythonSoftwareFoundation.Python.3.11_qbz5n2kfra8p0\\LocalCache\\local-packages\\Python311\\site-packages\\sklearn\\model_selection\\_search.py:320: UserWarning: The total space of parameters 4 is smaller than n_iter=20. Running 4 iterations. For exhaustive searches, use GridSearchCV.\n",
      "  warnings.warn(\n"
     ]
    },
    {
     "name": "stdout",
     "output_type": "stream",
     "text": [
      "      ✅ Best score: 0.9996\n",
      "      📈 Mean score: 0.9993\n",
      " 🔍 Model: XGB\n",
      "    📊 Metric: precision\n"
     ]
    },
    {
     "name": "stderr",
     "output_type": "stream",
     "text": [
      "C:\\Users\\mateu\\AppData\\Local\\Packages\\PythonSoftwareFoundation.Python.3.11_qbz5n2kfra8p0\\LocalCache\\local-packages\\Python311\\site-packages\\sklearn\\model_selection\\_search.py:320: UserWarning: The total space of parameters 8 is smaller than n_iter=20. Running 8 iterations. For exhaustive searches, use GridSearchCV.\n",
      "  warnings.warn(\n"
     ]
    },
    {
     "name": "stdout",
     "output_type": "stream",
     "text": [
      "      ✅ Best score: 0.9746\n",
      "      📈 Mean score: 0.9715\n",
      "    📊 Metric: accuracy\n"
     ]
    },
    {
     "name": "stderr",
     "output_type": "stream",
     "text": [
      "C:\\Users\\mateu\\AppData\\Local\\Packages\\PythonSoftwareFoundation.Python.3.11_qbz5n2kfra8p0\\LocalCache\\local-packages\\Python311\\site-packages\\sklearn\\model_selection\\_search.py:320: UserWarning: The total space of parameters 8 is smaller than n_iter=20. Running 8 iterations. For exhaustive searches, use GridSearchCV.\n",
      "  warnings.warn(\n"
     ]
    },
    {
     "name": "stdout",
     "output_type": "stream",
     "text": [
      "      ✅ Best score: 0.9833\n",
      "      📈 Mean score: 0.9801\n",
      "    📊 Metric: f1-score\n"
     ]
    },
    {
     "name": "stderr",
     "output_type": "stream",
     "text": [
      "C:\\Users\\mateu\\AppData\\Local\\Packages\\PythonSoftwareFoundation.Python.3.11_qbz5n2kfra8p0\\LocalCache\\local-packages\\Python311\\site-packages\\sklearn\\model_selection\\_search.py:320: UserWarning: The total space of parameters 8 is smaller than n_iter=20. Running 8 iterations. For exhaustive searches, use GridSearchCV.\n",
      "  warnings.warn(\n"
     ]
    },
    {
     "name": "stdout",
     "output_type": "stream",
     "text": [
      "      ✅ Best score: 0.9837\n",
      "      📈 Mean score: 0.9803\n",
      "    📊 Metric: roc_auc\n"
     ]
    },
    {
     "name": "stderr",
     "output_type": "stream",
     "text": [
      "C:\\Users\\mateu\\AppData\\Local\\Packages\\PythonSoftwareFoundation.Python.3.11_qbz5n2kfra8p0\\LocalCache\\local-packages\\Python311\\site-packages\\sklearn\\model_selection\\_search.py:320: UserWarning: The total space of parameters 8 is smaller than n_iter=20. Running 8 iterations. For exhaustive searches, use GridSearchCV.\n",
      "  warnings.warn(\n"
     ]
    },
    {
     "name": "stdout",
     "output_type": "stream",
     "text": [
      "      ✅ Best score: 0.9982\n",
      "      📈 Mean score: 0.9959\n",
      " 🔍 Model: XGBRF\n",
      "    📊 Metric: precision\n"
     ]
    },
    {
     "name": "stderr",
     "output_type": "stream",
     "text": [
      "C:\\Users\\mateu\\AppData\\Local\\Packages\\PythonSoftwareFoundation.Python.3.11_qbz5n2kfra8p0\\LocalCache\\local-packages\\Python311\\site-packages\\sklearn\\model_selection\\_search.py:320: UserWarning: The total space of parameters 4 is smaller than n_iter=20. Running 4 iterations. For exhaustive searches, use GridSearchCV.\n",
      "  warnings.warn(\n"
     ]
    },
    {
     "name": "stdout",
     "output_type": "stream",
     "text": [
      "      ✅ Best score: 0.9875\n",
      "      📈 Mean score: 0.9795\n",
      "    📊 Metric: accuracy\n"
     ]
    },
    {
     "name": "stderr",
     "output_type": "stream",
     "text": [
      "C:\\Users\\mateu\\AppData\\Local\\Packages\\PythonSoftwareFoundation.Python.3.11_qbz5n2kfra8p0\\LocalCache\\local-packages\\Python311\\site-packages\\sklearn\\model_selection\\_search.py:320: UserWarning: The total space of parameters 4 is smaller than n_iter=20. Running 4 iterations. For exhaustive searches, use GridSearchCV.\n",
      "  warnings.warn(\n"
     ]
    },
    {
     "name": "stdout",
     "output_type": "stream",
     "text": [
      "      ✅ Best score: 0.9900\n",
      "      📈 Mean score: 0.9858\n",
      "    📊 Metric: f1-score\n"
     ]
    },
    {
     "name": "stderr",
     "output_type": "stream",
     "text": [
      "C:\\Users\\mateu\\AppData\\Local\\Packages\\PythonSoftwareFoundation.Python.3.11_qbz5n2kfra8p0\\LocalCache\\local-packages\\Python311\\site-packages\\sklearn\\model_selection\\_search.py:320: UserWarning: The total space of parameters 4 is smaller than n_iter=20. Running 4 iterations. For exhaustive searches, use GridSearchCV.\n",
      "  warnings.warn(\n"
     ]
    },
    {
     "name": "stdout",
     "output_type": "stream",
     "text": [
      "      ✅ Best score: 0.9901\n",
      "      📈 Mean score: 0.9861\n",
      "    📊 Metric: roc_auc\n"
     ]
    },
    {
     "name": "stderr",
     "output_type": "stream",
     "text": [
      "C:\\Users\\mateu\\AppData\\Local\\Packages\\PythonSoftwareFoundation.Python.3.11_qbz5n2kfra8p0\\LocalCache\\local-packages\\Python311\\site-packages\\sklearn\\model_selection\\_search.py:320: UserWarning: The total space of parameters 4 is smaller than n_iter=20. Running 4 iterations. For exhaustive searches, use GridSearchCV.\n",
      "  warnings.warn(\n"
     ]
    },
    {
     "name": "stdout",
     "output_type": "stream",
     "text": [
      "      ✅ Best score: 0.9962\n",
      "      📈 Mean score: 0.9961\n",
      "\n",
      "🟦 Dataset: KM_COS_MAHA\n",
      " 🔍 Model: DT\n",
      "    📊 Metric: precision\n",
      "      ✅ Best score: 0.9938\n",
      "      📈 Mean score: 0.9810\n",
      "    📊 Metric: accuracy\n"
     ]
    },
    {
     "name": "stderr",
     "output_type": "stream",
     "text": [
      "C:\\Users\\mateu\\AppData\\Local\\Packages\\PythonSoftwareFoundation.Python.3.11_qbz5n2kfra8p0\\LocalCache\\local-packages\\Python311\\site-packages\\sklearn\\model_selection\\_search.py:320: UserWarning: The total space of parameters 4 is smaller than n_iter=20. Running 4 iterations. For exhaustive searches, use GridSearchCV.\n",
      "  warnings.warn(\n",
      "C:\\Users\\mateu\\AppData\\Local\\Packages\\PythonSoftwareFoundation.Python.3.11_qbz5n2kfra8p0\\LocalCache\\local-packages\\Python311\\site-packages\\sklearn\\model_selection\\_search.py:320: UserWarning: The total space of parameters 4 is smaller than n_iter=20. Running 4 iterations. For exhaustive searches, use GridSearchCV.\n",
      "  warnings.warn(\n"
     ]
    },
    {
     "name": "stdout",
     "output_type": "stream",
     "text": [
      "      ✅ Best score: 0.9933\n",
      "      📈 Mean score: 0.9817\n",
      "    📊 Metric: f1-score\n",
      "      ✅ Best score: 0.9933\n",
      "      📈 Mean score: 0.9818\n",
      "    📊 Metric: roc_auc\n"
     ]
    },
    {
     "name": "stderr",
     "output_type": "stream",
     "text": [
      "C:\\Users\\mateu\\AppData\\Local\\Packages\\PythonSoftwareFoundation.Python.3.11_qbz5n2kfra8p0\\LocalCache\\local-packages\\Python311\\site-packages\\sklearn\\model_selection\\_search.py:320: UserWarning: The total space of parameters 4 is smaller than n_iter=20. Running 4 iterations. For exhaustive searches, use GridSearchCV.\n",
      "  warnings.warn(\n",
      "C:\\Users\\mateu\\AppData\\Local\\Packages\\PythonSoftwareFoundation.Python.3.11_qbz5n2kfra8p0\\LocalCache\\local-packages\\Python311\\site-packages\\sklearn\\model_selection\\_search.py:320: UserWarning: The total space of parameters 4 is smaller than n_iter=20. Running 4 iterations. For exhaustive searches, use GridSearchCV.\n",
      "  warnings.warn(\n"
     ]
    },
    {
     "name": "stdout",
     "output_type": "stream",
     "text": [
      "      ✅ Best score: 0.9933\n",
      "      📈 Mean score: 0.9862\n",
      " 🔍 Model: RF\n",
      "    📊 Metric: precision\n"
     ]
    },
    {
     "name": "stderr",
     "output_type": "stream",
     "text": [
      "C:\\Users\\mateu\\AppData\\Local\\Packages\\PythonSoftwareFoundation.Python.3.11_qbz5n2kfra8p0\\LocalCache\\local-packages\\Python311\\site-packages\\sklearn\\model_selection\\_search.py:320: UserWarning: The total space of parameters 4 is smaller than n_iter=20. Running 4 iterations. For exhaustive searches, use GridSearchCV.\n",
      "  warnings.warn(\n"
     ]
    },
    {
     "name": "stdout",
     "output_type": "stream",
     "text": [
      "      ✅ Best score: 0.9750\n",
      "      📈 Mean score: 0.9750\n",
      "    📊 Metric: accuracy\n"
     ]
    },
    {
     "name": "stderr",
     "output_type": "stream",
     "text": [
      "C:\\Users\\mateu\\AppData\\Local\\Packages\\PythonSoftwareFoundation.Python.3.11_qbz5n2kfra8p0\\LocalCache\\local-packages\\Python311\\site-packages\\sklearn\\model_selection\\_search.py:320: UserWarning: The total space of parameters 4 is smaller than n_iter=20. Running 4 iterations. For exhaustive searches, use GridSearchCV.\n",
      "  warnings.warn(\n"
     ]
    },
    {
     "name": "stdout",
     "output_type": "stream",
     "text": [
      "      ✅ Best score: 0.9834\n",
      "      📈 Mean score: 0.9810\n",
      "    📊 Metric: f1-score\n"
     ]
    },
    {
     "name": "stderr",
     "output_type": "stream",
     "text": [
      "C:\\Users\\mateu\\AppData\\Local\\Packages\\PythonSoftwareFoundation.Python.3.11_qbz5n2kfra8p0\\LocalCache\\local-packages\\Python311\\site-packages\\sklearn\\model_selection\\_search.py:320: UserWarning: The total space of parameters 4 is smaller than n_iter=20. Running 4 iterations. For exhaustive searches, use GridSearchCV.\n",
      "  warnings.warn(\n"
     ]
    },
    {
     "name": "stdout",
     "output_type": "stream",
     "text": [
      "      ✅ Best score: 0.9836\n",
      "      📈 Mean score: 0.9810\n",
      "    📊 Metric: roc_auc\n"
     ]
    },
    {
     "name": "stderr",
     "output_type": "stream",
     "text": [
      "C:\\Users\\mateu\\AppData\\Local\\Packages\\PythonSoftwareFoundation.Python.3.11_qbz5n2kfra8p0\\LocalCache\\local-packages\\Python311\\site-packages\\sklearn\\model_selection\\_search.py:320: UserWarning: The total space of parameters 4 is smaller than n_iter=20. Running 4 iterations. For exhaustive searches, use GridSearchCV.\n",
      "  warnings.warn(\n"
     ]
    },
    {
     "name": "stdout",
     "output_type": "stream",
     "text": [
      "      ✅ Best score: 0.9982\n",
      "      📈 Mean score: 0.9969\n",
      " 🔍 Model: XGB\n",
      "    📊 Metric: precision\n"
     ]
    },
    {
     "name": "stderr",
     "output_type": "stream",
     "text": [
      "C:\\Users\\mateu\\AppData\\Local\\Packages\\PythonSoftwareFoundation.Python.3.11_qbz5n2kfra8p0\\LocalCache\\local-packages\\Python311\\site-packages\\sklearn\\model_selection\\_search.py:320: UserWarning: The total space of parameters 8 is smaller than n_iter=20. Running 8 iterations. For exhaustive searches, use GridSearchCV.\n",
      "  warnings.warn(\n"
     ]
    },
    {
     "name": "stdout",
     "output_type": "stream",
     "text": [
      "      ✅ Best score: 0.9746\n",
      "      📈 Mean score: 0.9715\n",
      "    📊 Metric: accuracy\n"
     ]
    },
    {
     "name": "stderr",
     "output_type": "stream",
     "text": [
      "C:\\Users\\mateu\\AppData\\Local\\Packages\\PythonSoftwareFoundation.Python.3.11_qbz5n2kfra8p0\\LocalCache\\local-packages\\Python311\\site-packages\\sklearn\\model_selection\\_search.py:320: UserWarning: The total space of parameters 8 is smaller than n_iter=20. Running 8 iterations. For exhaustive searches, use GridSearchCV.\n",
      "  warnings.warn(\n"
     ]
    },
    {
     "name": "stdout",
     "output_type": "stream",
     "text": [
      "      ✅ Best score: 0.9834\n",
      "      📈 Mean score: 0.9794\n",
      "    📊 Metric: f1-score\n"
     ]
    },
    {
     "name": "stderr",
     "output_type": "stream",
     "text": [
      "C:\\Users\\mateu\\AppData\\Local\\Packages\\PythonSoftwareFoundation.Python.3.11_qbz5n2kfra8p0\\LocalCache\\local-packages\\Python311\\site-packages\\sklearn\\model_selection\\_search.py:320: UserWarning: The total space of parameters 8 is smaller than n_iter=20. Running 8 iterations. For exhaustive searches, use GridSearchCV.\n",
      "  warnings.warn(\n"
     ]
    },
    {
     "name": "stdout",
     "output_type": "stream",
     "text": [
      "      ✅ Best score: 0.9837\n",
      "      📈 Mean score: 0.9796\n",
      "    📊 Metric: roc_auc\n"
     ]
    },
    {
     "name": "stderr",
     "output_type": "stream",
     "text": [
      "C:\\Users\\mateu\\AppData\\Local\\Packages\\PythonSoftwareFoundation.Python.3.11_qbz5n2kfra8p0\\LocalCache\\local-packages\\Python311\\site-packages\\sklearn\\model_selection\\_search.py:320: UserWarning: The total space of parameters 8 is smaller than n_iter=20. Running 8 iterations. For exhaustive searches, use GridSearchCV.\n",
      "  warnings.warn(\n"
     ]
    },
    {
     "name": "stdout",
     "output_type": "stream",
     "text": [
      "      ✅ Best score: 0.9971\n",
      "      📈 Mean score: 0.9958\n",
      " 🔍 Model: XGBRF\n",
      "    📊 Metric: precision\n"
     ]
    },
    {
     "name": "stderr",
     "output_type": "stream",
     "text": [
      "C:\\Users\\mateu\\AppData\\Local\\Packages\\PythonSoftwareFoundation.Python.3.11_qbz5n2kfra8p0\\LocalCache\\local-packages\\Python311\\site-packages\\sklearn\\model_selection\\_search.py:320: UserWarning: The total space of parameters 4 is smaller than n_iter=20. Running 4 iterations. For exhaustive searches, use GridSearchCV.\n",
      "  warnings.warn(\n"
     ]
    },
    {
     "name": "stdout",
     "output_type": "stream",
     "text": [
      "      ✅ Best score: 0.9808\n",
      "      📈 Mean score: 0.9808\n",
      "    📊 Metric: accuracy\n"
     ]
    },
    {
     "name": "stderr",
     "output_type": "stream",
     "text": [
      "C:\\Users\\mateu\\AppData\\Local\\Packages\\PythonSoftwareFoundation.Python.3.11_qbz5n2kfra8p0\\LocalCache\\local-packages\\Python311\\site-packages\\sklearn\\model_selection\\_search.py:320: UserWarning: The total space of parameters 4 is smaller than n_iter=20. Running 4 iterations. For exhaustive searches, use GridSearchCV.\n",
      "  warnings.warn(\n"
     ]
    },
    {
     "name": "stdout",
     "output_type": "stream",
     "text": [
      "      ✅ Best score: 0.9868\n",
      "      📈 Mean score: 0.9860\n",
      "    📊 Metric: f1-score\n"
     ]
    },
    {
     "name": "stderr",
     "output_type": "stream",
     "text": [
      "C:\\Users\\mateu\\AppData\\Local\\Packages\\PythonSoftwareFoundation.Python.3.11_qbz5n2kfra8p0\\LocalCache\\local-packages\\Python311\\site-packages\\sklearn\\model_selection\\_search.py:320: UserWarning: The total space of parameters 4 is smaller than n_iter=20. Running 4 iterations. For exhaustive searches, use GridSearchCV.\n",
      "  warnings.warn(\n"
     ]
    },
    {
     "name": "stdout",
     "output_type": "stream",
     "text": [
      "      ✅ Best score: 0.9869\n",
      "      📈 Mean score: 0.9861\n",
      "    📊 Metric: roc_auc\n"
     ]
    },
    {
     "name": "stderr",
     "output_type": "stream",
     "text": [
      "C:\\Users\\mateu\\AppData\\Local\\Packages\\PythonSoftwareFoundation.Python.3.11_qbz5n2kfra8p0\\LocalCache\\local-packages\\Python311\\site-packages\\sklearn\\model_selection\\_search.py:320: UserWarning: The total space of parameters 4 is smaller than n_iter=20. Running 4 iterations. For exhaustive searches, use GridSearchCV.\n",
      "  warnings.warn(\n"
     ]
    },
    {
     "name": "stdout",
     "output_type": "stream",
     "text": [
      "      ✅ Best score: 0.9978\n",
      "      📈 Mean score: 0.9972\n",
      "\n",
      "🟦 Dataset: HDBSCAN_NN\n",
      " 🔍 Model: DT\n",
      "    📊 Metric: precision\n",
      "      ✅ Best score: 0.9938\n",
      "      📈 Mean score: 0.9842\n",
      "    📊 Metric: accuracy\n",
      "      ✅ Best score: 0.9900\n",
      "      📈 Mean score: 0.9842\n",
      "    📊 Metric: f1-score\n"
     ]
    },
    {
     "name": "stderr",
     "output_type": "stream",
     "text": [
      "C:\\Users\\mateu\\AppData\\Local\\Packages\\PythonSoftwareFoundation.Python.3.11_qbz5n2kfra8p0\\LocalCache\\local-packages\\Python311\\site-packages\\sklearn\\model_selection\\_search.py:320: UserWarning: The total space of parameters 4 is smaller than n_iter=20. Running 4 iterations. For exhaustive searches, use GridSearchCV.\n",
      "  warnings.warn(\n",
      "C:\\Users\\mateu\\AppData\\Local\\Packages\\PythonSoftwareFoundation.Python.3.11_qbz5n2kfra8p0\\LocalCache\\local-packages\\Python311\\site-packages\\sklearn\\model_selection\\_search.py:320: UserWarning: The total space of parameters 4 is smaller than n_iter=20. Running 4 iterations. For exhaustive searches, use GridSearchCV.\n",
      "  warnings.warn(\n",
      "C:\\Users\\mateu\\AppData\\Local\\Packages\\PythonSoftwareFoundation.Python.3.11_qbz5n2kfra8p0\\LocalCache\\local-packages\\Python311\\site-packages\\sklearn\\model_selection\\_search.py:320: UserWarning: The total space of parameters 4 is smaller than n_iter=20. Running 4 iterations. For exhaustive searches, use GridSearchCV.\n",
      "  warnings.warn(\n"
     ]
    },
    {
     "name": "stdout",
     "output_type": "stream",
     "text": [
      "      ✅ Best score: 0.9901\n",
      "      📈 Mean score: 0.9841\n",
      "    📊 Metric: roc_auc\n",
      "      ✅ Best score: 0.9922\n",
      "      📈 Mean score: 0.9879\n",
      " 🔍 Model: RF\n",
      "    📊 Metric: precision\n"
     ]
    },
    {
     "name": "stderr",
     "output_type": "stream",
     "text": [
      "C:\\Users\\mateu\\AppData\\Local\\Packages\\PythonSoftwareFoundation.Python.3.11_qbz5n2kfra8p0\\LocalCache\\local-packages\\Python311\\site-packages\\sklearn\\model_selection\\_search.py:320: UserWarning: The total space of parameters 4 is smaller than n_iter=20. Running 4 iterations. For exhaustive searches, use GridSearchCV.\n",
      "  warnings.warn(\n",
      "C:\\Users\\mateu\\AppData\\Local\\Packages\\PythonSoftwareFoundation.Python.3.11_qbz5n2kfra8p0\\LocalCache\\local-packages\\Python311\\site-packages\\sklearn\\model_selection\\_search.py:320: UserWarning: The total space of parameters 4 is smaller than n_iter=20. Running 4 iterations. For exhaustive searches, use GridSearchCV.\n",
      "  warnings.warn(\n"
     ]
    },
    {
     "name": "stdout",
     "output_type": "stream",
     "text": [
      "      ✅ Best score: 0.9812\n",
      "      📈 Mean score: 0.9812\n",
      "    📊 Metric: accuracy\n"
     ]
    },
    {
     "name": "stderr",
     "output_type": "stream",
     "text": [
      "C:\\Users\\mateu\\AppData\\Local\\Packages\\PythonSoftwareFoundation.Python.3.11_qbz5n2kfra8p0\\LocalCache\\local-packages\\Python311\\site-packages\\sklearn\\model_selection\\_search.py:320: UserWarning: The total space of parameters 4 is smaller than n_iter=20. Running 4 iterations. For exhaustive searches, use GridSearchCV.\n",
      "  warnings.warn(\n"
     ]
    },
    {
     "name": "stdout",
     "output_type": "stream",
     "text": [
      "      ✅ Best score: 0.9801\n",
      "      📈 Mean score: 0.9776\n",
      "    📊 Metric: f1-score\n"
     ]
    },
    {
     "name": "stderr",
     "output_type": "stream",
     "text": [
      "C:\\Users\\mateu\\AppData\\Local\\Packages\\PythonSoftwareFoundation.Python.3.11_qbz5n2kfra8p0\\LocalCache\\local-packages\\Python311\\site-packages\\sklearn\\model_selection\\_search.py:320: UserWarning: The total space of parameters 4 is smaller than n_iter=20. Running 4 iterations. For exhaustive searches, use GridSearchCV.\n",
      "  warnings.warn(\n"
     ]
    },
    {
     "name": "stdout",
     "output_type": "stream",
     "text": [
      "      ✅ Best score: 0.9792\n",
      "      📈 Mean score: 0.9759\n",
      "    📊 Metric: roc_auc\n"
     ]
    },
    {
     "name": "stderr",
     "output_type": "stream",
     "text": [
      "C:\\Users\\mateu\\AppData\\Local\\Packages\\PythonSoftwareFoundation.Python.3.11_qbz5n2kfra8p0\\LocalCache\\local-packages\\Python311\\site-packages\\sklearn\\model_selection\\_search.py:320: UserWarning: The total space of parameters 4 is smaller than n_iter=20. Running 4 iterations. For exhaustive searches, use GridSearchCV.\n",
      "  warnings.warn(\n"
     ]
    },
    {
     "name": "stdout",
     "output_type": "stream",
     "text": [
      "      ✅ Best score: 1.0000\n",
      "      📈 Mean score: 0.9999\n",
      " 🔍 Model: XGB\n",
      "    📊 Metric: precision\n"
     ]
    },
    {
     "name": "stderr",
     "output_type": "stream",
     "text": [
      "C:\\Users\\mateu\\AppData\\Local\\Packages\\PythonSoftwareFoundation.Python.3.11_qbz5n2kfra8p0\\LocalCache\\local-packages\\Python311\\site-packages\\sklearn\\model_selection\\_search.py:320: UserWarning: The total space of parameters 8 is smaller than n_iter=20. Running 8 iterations. For exhaustive searches, use GridSearchCV.\n",
      "  warnings.warn(\n"
     ]
    },
    {
     "name": "stdout",
     "output_type": "stream",
     "text": [
      "      ✅ Best score: 0.9746\n",
      "      📈 Mean score: 0.9715\n",
      "    📊 Metric: accuracy\n"
     ]
    },
    {
     "name": "stderr",
     "output_type": "stream",
     "text": [
      "C:\\Users\\mateu\\AppData\\Local\\Packages\\PythonSoftwareFoundation.Python.3.11_qbz5n2kfra8p0\\LocalCache\\local-packages\\Python311\\site-packages\\sklearn\\model_selection\\_search.py:320: UserWarning: The total space of parameters 8 is smaller than n_iter=20. Running 8 iterations. For exhaustive searches, use GridSearchCV.\n",
      "  warnings.warn(\n"
     ]
    },
    {
     "name": "stdout",
     "output_type": "stream",
     "text": [
      "      ✅ Best score: 0.9834\n",
      "      📈 Mean score: 0.9818\n",
      "    📊 Metric: f1-score\n"
     ]
    },
    {
     "name": "stderr",
     "output_type": "stream",
     "text": [
      "C:\\Users\\mateu\\AppData\\Local\\Packages\\PythonSoftwareFoundation.Python.3.11_qbz5n2kfra8p0\\LocalCache\\local-packages\\Python311\\site-packages\\sklearn\\model_selection\\_search.py:320: UserWarning: The total space of parameters 8 is smaller than n_iter=20. Running 8 iterations. For exhaustive searches, use GridSearchCV.\n",
      "  warnings.warn(\n"
     ]
    },
    {
     "name": "stdout",
     "output_type": "stream",
     "text": [
      "      ✅ Best score: 0.9837\n",
      "      📈 Mean score: 0.9820\n",
      "    📊 Metric: roc_auc\n"
     ]
    },
    {
     "name": "stderr",
     "output_type": "stream",
     "text": [
      "C:\\Users\\mateu\\AppData\\Local\\Packages\\PythonSoftwareFoundation.Python.3.11_qbz5n2kfra8p0\\LocalCache\\local-packages\\Python311\\site-packages\\sklearn\\model_selection\\_search.py:320: UserWarning: The total space of parameters 8 is smaller than n_iter=20. Running 8 iterations. For exhaustive searches, use GridSearchCV.\n",
      "  warnings.warn(\n"
     ]
    },
    {
     "name": "stdout",
     "output_type": "stream",
     "text": [
      "      ✅ Best score: 0.9980\n",
      "      📈 Mean score: 0.9951\n",
      " 🔍 Model: XGBRF\n",
      "    📊 Metric: precision\n"
     ]
    },
    {
     "name": "stderr",
     "output_type": "stream",
     "text": [
      "C:\\Users\\mateu\\AppData\\Local\\Packages\\PythonSoftwareFoundation.Python.3.11_qbz5n2kfra8p0\\LocalCache\\local-packages\\Python311\\site-packages\\sklearn\\model_selection\\_search.py:320: UserWarning: The total space of parameters 4 is smaller than n_iter=20. Running 4 iterations. For exhaustive searches, use GridSearchCV.\n",
      "  warnings.warn(\n"
     ]
    },
    {
     "name": "stdout",
     "output_type": "stream",
     "text": [
      "      ✅ Best score: 0.9875\n",
      "      📈 Mean score: 0.9810\n",
      "    📊 Metric: accuracy\n"
     ]
    },
    {
     "name": "stderr",
     "output_type": "stream",
     "text": [
      "C:\\Users\\mateu\\AppData\\Local\\Packages\\PythonSoftwareFoundation.Python.3.11_qbz5n2kfra8p0\\LocalCache\\local-packages\\Python311\\site-packages\\sklearn\\model_selection\\_search.py:320: UserWarning: The total space of parameters 4 is smaller than n_iter=20. Running 4 iterations. For exhaustive searches, use GridSearchCV.\n",
      "  warnings.warn(\n"
     ]
    },
    {
     "name": "stdout",
     "output_type": "stream",
     "text": [
      "      ✅ Best score: 0.9901\n",
      "      📈 Mean score: 0.9868\n",
      "    📊 Metric: f1-score\n"
     ]
    },
    {
     "name": "stderr",
     "output_type": "stream",
     "text": [
      "C:\\Users\\mateu\\AppData\\Local\\Packages\\PythonSoftwareFoundation.Python.3.11_qbz5n2kfra8p0\\LocalCache\\local-packages\\Python311\\site-packages\\sklearn\\model_selection\\_search.py:320: UserWarning: The total space of parameters 4 is smaller than n_iter=20. Running 4 iterations. For exhaustive searches, use GridSearchCV.\n",
      "  warnings.warn(\n"
     ]
    },
    {
     "name": "stdout",
     "output_type": "stream",
     "text": [
      "      ✅ Best score: 0.9901\n",
      "      📈 Mean score: 0.9869\n",
      "    📊 Metric: roc_auc\n"
     ]
    },
    {
     "name": "stderr",
     "output_type": "stream",
     "text": [
      "C:\\Users\\mateu\\AppData\\Local\\Packages\\PythonSoftwareFoundation.Python.3.11_qbz5n2kfra8p0\\LocalCache\\local-packages\\Python311\\site-packages\\sklearn\\model_selection\\_search.py:320: UserWarning: The total space of parameters 4 is smaller than n_iter=20. Running 4 iterations. For exhaustive searches, use GridSearchCV.\n",
      "  warnings.warn(\n"
     ]
    },
    {
     "name": "stdout",
     "output_type": "stream",
     "text": [
      "      ✅ Best score: 0.9956\n",
      "      📈 Mean score: 0.9950\n",
      "\n",
      "🟦 Dataset: HDBSCAN_COS\n",
      " 🔍 Model: DT\n",
      "    📊 Metric: precision\n",
      "      ✅ Best score: 0.9938\n",
      "      📈 Mean score: 0.9857\n",
      "    📊 Metric: accuracy\n",
      "      ✅ Best score: 0.9933\n",
      "      📈 Mean score: 0.9858\n",
      "    📊 Metric: f1-score\n"
     ]
    },
    {
     "name": "stderr",
     "output_type": "stream",
     "text": [
      "C:\\Users\\mateu\\AppData\\Local\\Packages\\PythonSoftwareFoundation.Python.3.11_qbz5n2kfra8p0\\LocalCache\\local-packages\\Python311\\site-packages\\sklearn\\model_selection\\_search.py:320: UserWarning: The total space of parameters 4 is smaller than n_iter=20. Running 4 iterations. For exhaustive searches, use GridSearchCV.\n",
      "  warnings.warn(\n",
      "C:\\Users\\mateu\\AppData\\Local\\Packages\\PythonSoftwareFoundation.Python.3.11_qbz5n2kfra8p0\\LocalCache\\local-packages\\Python311\\site-packages\\sklearn\\model_selection\\_search.py:320: UserWarning: The total space of parameters 4 is smaller than n_iter=20. Running 4 iterations. For exhaustive searches, use GridSearchCV.\n",
      "  warnings.warn(\n",
      "C:\\Users\\mateu\\AppData\\Local\\Packages\\PythonSoftwareFoundation.Python.3.11_qbz5n2kfra8p0\\LocalCache\\local-packages\\Python311\\site-packages\\sklearn\\model_selection\\_search.py:320: UserWarning: The total space of parameters 4 is smaller than n_iter=20. Running 4 iterations. For exhaustive searches, use GridSearchCV.\n",
      "  warnings.warn(\n",
      "C:\\Users\\mateu\\AppData\\Local\\Packages\\PythonSoftwareFoundation.Python.3.11_qbz5n2kfra8p0\\LocalCache\\local-packages\\Python311\\site-packages\\sklearn\\model_selection\\_search.py:320: UserWarning: The total space of parameters 4 is smaller than n_iter=20. Running 4 iterations. For exhaustive searches, use GridSearchCV.\n",
      "  warnings.warn(\n"
     ]
    },
    {
     "name": "stdout",
     "output_type": "stream",
     "text": [
      "      ✅ Best score: 0.9933\n",
      "      📈 Mean score: 0.9858\n",
      "    📊 Metric: roc_auc\n",
      "      ✅ Best score: 0.9933\n",
      "      📈 Mean score: 0.9888\n",
      " 🔍 Model: RF\n",
      "    📊 Metric: precision\n"
     ]
    },
    {
     "name": "stderr",
     "output_type": "stream",
     "text": [
      "C:\\Users\\mateu\\AppData\\Local\\Packages\\PythonSoftwareFoundation.Python.3.11_qbz5n2kfra8p0\\LocalCache\\local-packages\\Python311\\site-packages\\sklearn\\model_selection\\_search.py:320: UserWarning: The total space of parameters 4 is smaller than n_iter=20. Running 4 iterations. For exhaustive searches, use GridSearchCV.\n",
      "  warnings.warn(\n"
     ]
    },
    {
     "name": "stdout",
     "output_type": "stream",
     "text": [
      "      ✅ Best score: 0.9750\n",
      "      📈 Mean score: 0.9734\n",
      "    📊 Metric: accuracy\n"
     ]
    },
    {
     "name": "stderr",
     "output_type": "stream",
     "text": [
      "C:\\Users\\mateu\\AppData\\Local\\Packages\\PythonSoftwareFoundation.Python.3.11_qbz5n2kfra8p0\\LocalCache\\local-packages\\Python311\\site-packages\\sklearn\\model_selection\\_search.py:320: UserWarning: The total space of parameters 4 is smaller than n_iter=20. Running 4 iterations. For exhaustive searches, use GridSearchCV.\n",
      "  warnings.warn(\n"
     ]
    },
    {
     "name": "stdout",
     "output_type": "stream",
     "text": [
      "      ✅ Best score: 0.9833\n",
      "      📈 Mean score: 0.9825\n",
      "    📊 Metric: f1-score\n"
     ]
    },
    {
     "name": "stderr",
     "output_type": "stream",
     "text": [
      "C:\\Users\\mateu\\AppData\\Local\\Packages\\PythonSoftwareFoundation.Python.3.11_qbz5n2kfra8p0\\LocalCache\\local-packages\\Python311\\site-packages\\sklearn\\model_selection\\_search.py:320: UserWarning: The total space of parameters 4 is smaller than n_iter=20. Running 4 iterations. For exhaustive searches, use GridSearchCV.\n",
      "  warnings.warn(\n"
     ]
    },
    {
     "name": "stdout",
     "output_type": "stream",
     "text": [
      "      ✅ Best score: 0.9836\n",
      "      📈 Mean score: 0.9828\n",
      "    📊 Metric: roc_auc\n"
     ]
    },
    {
     "name": "stderr",
     "output_type": "stream",
     "text": [
      "C:\\Users\\mateu\\AppData\\Local\\Packages\\PythonSoftwareFoundation.Python.3.11_qbz5n2kfra8p0\\LocalCache\\local-packages\\Python311\\site-packages\\sklearn\\model_selection\\_search.py:320: UserWarning: The total space of parameters 4 is smaller than n_iter=20. Running 4 iterations. For exhaustive searches, use GridSearchCV.\n",
      "  warnings.warn(\n"
     ]
    },
    {
     "name": "stdout",
     "output_type": "stream",
     "text": [
      "      ✅ Best score: 0.9996\n",
      "      📈 Mean score: 0.9996\n",
      " 🔍 Model: XGB\n",
      "    📊 Metric: precision\n"
     ]
    },
    {
     "name": "stderr",
     "output_type": "stream",
     "text": [
      "C:\\Users\\mateu\\AppData\\Local\\Packages\\PythonSoftwareFoundation.Python.3.11_qbz5n2kfra8p0\\LocalCache\\local-packages\\Python311\\site-packages\\sklearn\\model_selection\\_search.py:320: UserWarning: The total space of parameters 8 is smaller than n_iter=20. Running 8 iterations. For exhaustive searches, use GridSearchCV.\n",
      "  warnings.warn(\n"
     ]
    },
    {
     "name": "stdout",
     "output_type": "stream",
     "text": [
      "      ✅ Best score: 0.9812\n",
      "      📈 Mean score: 0.9731\n",
      "    📊 Metric: accuracy\n"
     ]
    },
    {
     "name": "stderr",
     "output_type": "stream",
     "text": [
      "C:\\Users\\mateu\\AppData\\Local\\Packages\\PythonSoftwareFoundation.Python.3.11_qbz5n2kfra8p0\\LocalCache\\local-packages\\Python311\\site-packages\\sklearn\\model_selection\\_search.py:320: UserWarning: The total space of parameters 8 is smaller than n_iter=20. Running 8 iterations. For exhaustive searches, use GridSearchCV.\n",
      "  warnings.warn(\n"
     ]
    },
    {
     "name": "stdout",
     "output_type": "stream",
     "text": [
      "      ✅ Best score: 0.9867\n",
      "      📈 Mean score: 0.9825\n",
      "    📊 Metric: f1-score\n"
     ]
    },
    {
     "name": "stderr",
     "output_type": "stream",
     "text": [
      "C:\\Users\\mateu\\AppData\\Local\\Packages\\PythonSoftwareFoundation.Python.3.11_qbz5n2kfra8p0\\LocalCache\\local-packages\\Python311\\site-packages\\sklearn\\model_selection\\_search.py:320: UserWarning: The total space of parameters 8 is smaller than n_iter=20. Running 8 iterations. For exhaustive searches, use GridSearchCV.\n",
      "  warnings.warn(\n"
     ]
    },
    {
     "name": "stdout",
     "output_type": "stream",
     "text": [
      "      ✅ Best score: 0.9869\n",
      "      📈 Mean score: 0.9828\n",
      "    📊 Metric: roc_auc\n"
     ]
    },
    {
     "name": "stderr",
     "output_type": "stream",
     "text": [
      "C:\\Users\\mateu\\AppData\\Local\\Packages\\PythonSoftwareFoundation.Python.3.11_qbz5n2kfra8p0\\LocalCache\\local-packages\\Python311\\site-packages\\sklearn\\model_selection\\_search.py:320: UserWarning: The total space of parameters 8 is smaller than n_iter=20. Running 8 iterations. For exhaustive searches, use GridSearchCV.\n",
      "  warnings.warn(\n"
     ]
    },
    {
     "name": "stdout",
     "output_type": "stream",
     "text": [
      "      ✅ Best score: 0.9947\n",
      "      📈 Mean score: 0.9941\n",
      " 🔍 Model: XGBRF\n",
      "    📊 Metric: precision\n"
     ]
    },
    {
     "name": "stderr",
     "output_type": "stream",
     "text": [
      "C:\\Users\\mateu\\AppData\\Local\\Packages\\PythonSoftwareFoundation.Python.3.11_qbz5n2kfra8p0\\LocalCache\\local-packages\\Python311\\site-packages\\sklearn\\model_selection\\_search.py:320: UserWarning: The total space of parameters 4 is smaller than n_iter=20. Running 4 iterations. For exhaustive searches, use GridSearchCV.\n",
      "  warnings.warn(\n"
     ]
    },
    {
     "name": "stdout",
     "output_type": "stream",
     "text": [
      "      ✅ Best score: 0.9812\n",
      "      📈 Mean score: 0.9763\n",
      "    📊 Metric: accuracy\n"
     ]
    },
    {
     "name": "stderr",
     "output_type": "stream",
     "text": [
      "C:\\Users\\mateu\\AppData\\Local\\Packages\\PythonSoftwareFoundation.Python.3.11_qbz5n2kfra8p0\\LocalCache\\local-packages\\Python311\\site-packages\\sklearn\\model_selection\\_search.py:320: UserWarning: The total space of parameters 4 is smaller than n_iter=20. Running 4 iterations. For exhaustive searches, use GridSearchCV.\n",
      "  warnings.warn(\n"
     ]
    },
    {
     "name": "stdout",
     "output_type": "stream",
     "text": [
      "      ✅ Best score: 0.9867\n",
      "      📈 Mean score: 0.9842\n",
      "    📊 Metric: f1-score\n"
     ]
    },
    {
     "name": "stderr",
     "output_type": "stream",
     "text": [
      "C:\\Users\\mateu\\AppData\\Local\\Packages\\PythonSoftwareFoundation.Python.3.11_qbz5n2kfra8p0\\LocalCache\\local-packages\\Python311\\site-packages\\sklearn\\model_selection\\_search.py:320: UserWarning: The total space of parameters 4 is smaller than n_iter=20. Running 4 iterations. For exhaustive searches, use GridSearchCV.\n",
      "  warnings.warn(\n"
     ]
    },
    {
     "name": "stdout",
     "output_type": "stream",
     "text": [
      "      ✅ Best score: 0.9869\n",
      "      📈 Mean score: 0.9845\n",
      "    📊 Metric: roc_auc\n"
     ]
    },
    {
     "name": "stderr",
     "output_type": "stream",
     "text": [
      "C:\\Users\\mateu\\AppData\\Local\\Packages\\PythonSoftwareFoundation.Python.3.11_qbz5n2kfra8p0\\LocalCache\\local-packages\\Python311\\site-packages\\sklearn\\model_selection\\_search.py:320: UserWarning: The total space of parameters 4 is smaller than n_iter=20. Running 4 iterations. For exhaustive searches, use GridSearchCV.\n",
      "  warnings.warn(\n"
     ]
    },
    {
     "name": "stdout",
     "output_type": "stream",
     "text": [
      "      ✅ Best score: 0.9960\n",
      "      📈 Mean score: 0.9949\n",
      "\n",
      "🟦 Dataset: KM_SCAN_NN\n",
      " 🔍 Model: DT\n",
      "    📊 Metric: precision\n",
      "      ✅ Best score: 0.9938\n",
      "      📈 Mean score: 0.9858\n",
      "    📊 Metric: accuracy\n"
     ]
    },
    {
     "name": "stderr",
     "output_type": "stream",
     "text": [
      "C:\\Users\\mateu\\AppData\\Local\\Packages\\PythonSoftwareFoundation.Python.3.11_qbz5n2kfra8p0\\LocalCache\\local-packages\\Python311\\site-packages\\sklearn\\model_selection\\_search.py:320: UserWarning: The total space of parameters 4 is smaller than n_iter=20. Running 4 iterations. For exhaustive searches, use GridSearchCV.\n",
      "  warnings.warn(\n",
      "C:\\Users\\mateu\\AppData\\Local\\Packages\\PythonSoftwareFoundation.Python.3.11_qbz5n2kfra8p0\\LocalCache\\local-packages\\Python311\\site-packages\\sklearn\\model_selection\\_search.py:320: UserWarning: The total space of parameters 4 is smaller than n_iter=20. Running 4 iterations. For exhaustive searches, use GridSearchCV.\n",
      "  warnings.warn(\n"
     ]
    },
    {
     "name": "stdout",
     "output_type": "stream",
     "text": [
      "      ✅ Best score: 0.9900\n",
      "      📈 Mean score: 0.9867\n",
      "    📊 Metric: f1-score\n",
      "      ✅ Best score: 0.9896\n",
      "      📈 Mean score: 0.9865\n",
      "    📊 Metric: roc_auc\n",
      "      ✅ Best score: 0.9929\n",
      "      📈 Mean score: 0.9873\n",
      " 🔍 Model: RF\n",
      "    📊 Metric: precision\n"
     ]
    },
    {
     "name": "stderr",
     "output_type": "stream",
     "text": [
      "C:\\Users\\mateu\\AppData\\Local\\Packages\\PythonSoftwareFoundation.Python.3.11_qbz5n2kfra8p0\\LocalCache\\local-packages\\Python311\\site-packages\\sklearn\\model_selection\\_search.py:320: UserWarning: The total space of parameters 4 is smaller than n_iter=20. Running 4 iterations. For exhaustive searches, use GridSearchCV.\n",
      "  warnings.warn(\n",
      "C:\\Users\\mateu\\AppData\\Local\\Packages\\PythonSoftwareFoundation.Python.3.11_qbz5n2kfra8p0\\LocalCache\\local-packages\\Python311\\site-packages\\sklearn\\model_selection\\_search.py:320: UserWarning: The total space of parameters 4 is smaller than n_iter=20. Running 4 iterations. For exhaustive searches, use GridSearchCV.\n",
      "  warnings.warn(\n",
      "C:\\Users\\mateu\\AppData\\Local\\Packages\\PythonSoftwareFoundation.Python.3.11_qbz5n2kfra8p0\\LocalCache\\local-packages\\Python311\\site-packages\\sklearn\\model_selection\\_search.py:320: UserWarning: The total space of parameters 4 is smaller than n_iter=20. Running 4 iterations. For exhaustive searches, use GridSearchCV.\n",
      "  warnings.warn(\n"
     ]
    },
    {
     "name": "stdout",
     "output_type": "stream",
     "text": [
      "      ✅ Best score: 0.9812\n",
      "      📈 Mean score: 0.9812\n",
      "    📊 Metric: accuracy\n"
     ]
    },
    {
     "name": "stderr",
     "output_type": "stream",
     "text": [
      "C:\\Users\\mateu\\AppData\\Local\\Packages\\PythonSoftwareFoundation.Python.3.11_qbz5n2kfra8p0\\LocalCache\\local-packages\\Python311\\site-packages\\sklearn\\model_selection\\_search.py:320: UserWarning: The total space of parameters 4 is smaller than n_iter=20. Running 4 iterations. For exhaustive searches, use GridSearchCV.\n",
      "  warnings.warn(\n"
     ]
    },
    {
     "name": "stdout",
     "output_type": "stream",
     "text": [
      "      ✅ Best score: 0.9867\n",
      "      📈 Mean score: 0.9858\n",
      "    📊 Metric: f1-score\n"
     ]
    },
    {
     "name": "stderr",
     "output_type": "stream",
     "text": [
      "C:\\Users\\mateu\\AppData\\Local\\Packages\\PythonSoftwareFoundation.Python.3.11_qbz5n2kfra8p0\\LocalCache\\local-packages\\Python311\\site-packages\\sklearn\\model_selection\\_search.py:320: UserWarning: The total space of parameters 4 is smaller than n_iter=20. Running 4 iterations. For exhaustive searches, use GridSearchCV.\n",
      "  warnings.warn(\n"
     ]
    },
    {
     "name": "stdout",
     "output_type": "stream",
     "text": [
      "      ✅ Best score: 0.9869\n",
      "      📈 Mean score: 0.9860\n",
      "    📊 Metric: roc_auc\n"
     ]
    },
    {
     "name": "stderr",
     "output_type": "stream",
     "text": [
      "C:\\Users\\mateu\\AppData\\Local\\Packages\\PythonSoftwareFoundation.Python.3.11_qbz5n2kfra8p0\\LocalCache\\local-packages\\Python311\\site-packages\\sklearn\\model_selection\\_search.py:320: UserWarning: The total space of parameters 4 is smaller than n_iter=20. Running 4 iterations. For exhaustive searches, use GridSearchCV.\n",
      "  warnings.warn(\n"
     ]
    },
    {
     "name": "stdout",
     "output_type": "stream",
     "text": [
      "      ✅ Best score: 0.9991\n",
      "      📈 Mean score: 0.9989\n",
      " 🔍 Model: XGB\n",
      "    📊 Metric: precision\n"
     ]
    },
    {
     "name": "stderr",
     "output_type": "stream",
     "text": [
      "C:\\Users\\mateu\\AppData\\Local\\Packages\\PythonSoftwareFoundation.Python.3.11_qbz5n2kfra8p0\\LocalCache\\local-packages\\Python311\\site-packages\\sklearn\\model_selection\\_search.py:320: UserWarning: The total space of parameters 8 is smaller than n_iter=20. Running 8 iterations. For exhaustive searches, use GridSearchCV.\n",
      "  warnings.warn(\n"
     ]
    },
    {
     "name": "stdout",
     "output_type": "stream",
     "text": [
      "      ✅ Best score: 0.9812\n",
      "      📈 Mean score: 0.9731\n",
      "    📊 Metric: accuracy\n"
     ]
    },
    {
     "name": "stderr",
     "output_type": "stream",
     "text": [
      "C:\\Users\\mateu\\AppData\\Local\\Packages\\PythonSoftwareFoundation.Python.3.11_qbz5n2kfra8p0\\LocalCache\\local-packages\\Python311\\site-packages\\sklearn\\model_selection\\_search.py:320: UserWarning: The total space of parameters 8 is smaller than n_iter=20. Running 8 iterations. For exhaustive searches, use GridSearchCV.\n",
      "  warnings.warn(\n"
     ]
    },
    {
     "name": "stdout",
     "output_type": "stream",
     "text": [
      "      ✅ Best score: 0.9867\n",
      "      📈 Mean score: 0.9825\n",
      "    📊 Metric: f1-score\n"
     ]
    },
    {
     "name": "stderr",
     "output_type": "stream",
     "text": [
      "C:\\Users\\mateu\\AppData\\Local\\Packages\\PythonSoftwareFoundation.Python.3.11_qbz5n2kfra8p0\\LocalCache\\local-packages\\Python311\\site-packages\\sklearn\\model_selection\\_search.py:320: UserWarning: The total space of parameters 8 is smaller than n_iter=20. Running 8 iterations. For exhaustive searches, use GridSearchCV.\n",
      "  warnings.warn(\n"
     ]
    },
    {
     "name": "stdout",
     "output_type": "stream",
     "text": [
      "      ✅ Best score: 0.9869\n",
      "      📈 Mean score: 0.9828\n",
      "    📊 Metric: roc_auc\n"
     ]
    },
    {
     "name": "stderr",
     "output_type": "stream",
     "text": [
      "C:\\Users\\mateu\\AppData\\Local\\Packages\\PythonSoftwareFoundation.Python.3.11_qbz5n2kfra8p0\\LocalCache\\local-packages\\Python311\\site-packages\\sklearn\\model_selection\\_search.py:320: UserWarning: The total space of parameters 8 is smaller than n_iter=20. Running 8 iterations. For exhaustive searches, use GridSearchCV.\n",
      "  warnings.warn(\n"
     ]
    },
    {
     "name": "stdout",
     "output_type": "stream",
     "text": [
      "      ✅ Best score: 0.9960\n",
      "      📈 Mean score: 0.9951\n",
      " 🔍 Model: XGBRF\n",
      "    📊 Metric: precision\n"
     ]
    },
    {
     "name": "stderr",
     "output_type": "stream",
     "text": [
      "C:\\Users\\mateu\\AppData\\Local\\Packages\\PythonSoftwareFoundation.Python.3.11_qbz5n2kfra8p0\\LocalCache\\local-packages\\Python311\\site-packages\\sklearn\\model_selection\\_search.py:320: UserWarning: The total space of parameters 4 is smaller than n_iter=20. Running 4 iterations. For exhaustive searches, use GridSearchCV.\n",
      "  warnings.warn(\n"
     ]
    },
    {
     "name": "stdout",
     "output_type": "stream",
     "text": [
      "      ✅ Best score: 0.9812\n",
      "      📈 Mean score: 0.9779\n",
      "    📊 Metric: accuracy\n"
     ]
    },
    {
     "name": "stderr",
     "output_type": "stream",
     "text": [
      "C:\\Users\\mateu\\AppData\\Local\\Packages\\PythonSoftwareFoundation.Python.3.11_qbz5n2kfra8p0\\LocalCache\\local-packages\\Python311\\site-packages\\sklearn\\model_selection\\_search.py:320: UserWarning: The total space of parameters 4 is smaller than n_iter=20. Running 4 iterations. For exhaustive searches, use GridSearchCV.\n",
      "  warnings.warn(\n"
     ]
    },
    {
     "name": "stdout",
     "output_type": "stream",
     "text": [
      "      ✅ Best score: 0.9867\n",
      "      📈 Mean score: 0.9850\n",
      "    📊 Metric: f1-score\n"
     ]
    },
    {
     "name": "stderr",
     "output_type": "stream",
     "text": [
      "C:\\Users\\mateu\\AppData\\Local\\Packages\\PythonSoftwareFoundation.Python.3.11_qbz5n2kfra8p0\\LocalCache\\local-packages\\Python311\\site-packages\\sklearn\\model_selection\\_search.py:320: UserWarning: The total space of parameters 4 is smaller than n_iter=20. Running 4 iterations. For exhaustive searches, use GridSearchCV.\n",
      "  warnings.warn(\n"
     ]
    },
    {
     "name": "stdout",
     "output_type": "stream",
     "text": [
      "      ✅ Best score: 0.9869\n",
      "      📈 Mean score: 0.9853\n",
      "    📊 Metric: roc_auc\n"
     ]
    },
    {
     "name": "stderr",
     "output_type": "stream",
     "text": [
      "C:\\Users\\mateu\\AppData\\Local\\Packages\\PythonSoftwareFoundation.Python.3.11_qbz5n2kfra8p0\\LocalCache\\local-packages\\Python311\\site-packages\\sklearn\\model_selection\\_search.py:320: UserWarning: The total space of parameters 4 is smaller than n_iter=20. Running 4 iterations. For exhaustive searches, use GridSearchCV.\n",
      "  warnings.warn(\n"
     ]
    },
    {
     "name": "stdout",
     "output_type": "stream",
     "text": [
      "      ✅ Best score: 0.9960\n",
      "      📈 Mean score: 0.9954\n",
      "\n",
      "🟦 Dataset: KM_SCAN_COS\n",
      " 🔍 Model: DT\n",
      "    📊 Metric: precision\n",
      "      ✅ Best score: 0.9871\n",
      "      📈 Mean score: 0.9819\n",
      "    📊 Metric: accuracy\n",
      "      ✅ Best score: 0.9833\n",
      "      📈 Mean score: 0.9792\n",
      "    📊 Metric: f1-score\n"
     ]
    },
    {
     "name": "stderr",
     "output_type": "stream",
     "text": [
      "C:\\Users\\mateu\\AppData\\Local\\Packages\\PythonSoftwareFoundation.Python.3.11_qbz5n2kfra8p0\\LocalCache\\local-packages\\Python311\\site-packages\\sklearn\\model_selection\\_search.py:320: UserWarning: The total space of parameters 4 is smaller than n_iter=20. Running 4 iterations. For exhaustive searches, use GridSearchCV.\n",
      "  warnings.warn(\n",
      "C:\\Users\\mateu\\AppData\\Local\\Packages\\PythonSoftwareFoundation.Python.3.11_qbz5n2kfra8p0\\LocalCache\\local-packages\\Python311\\site-packages\\sklearn\\model_selection\\_search.py:320: UserWarning: The total space of parameters 4 is smaller than n_iter=20. Running 4 iterations. For exhaustive searches, use GridSearchCV.\n",
      "  warnings.warn(\n",
      "C:\\Users\\mateu\\AppData\\Local\\Packages\\PythonSoftwareFoundation.Python.3.11_qbz5n2kfra8p0\\LocalCache\\local-packages\\Python311\\site-packages\\sklearn\\model_selection\\_search.py:320: UserWarning: The total space of parameters 4 is smaller than n_iter=20. Running 4 iterations. For exhaustive searches, use GridSearchCV.\n",
      "  warnings.warn(\n"
     ]
    },
    {
     "name": "stdout",
     "output_type": "stream",
     "text": [
      "      ✅ Best score: 0.9830\n",
      "      📈 Mean score: 0.9787\n",
      "    📊 Metric: roc_auc\n",
      "      ✅ Best score: 0.9924\n",
      "      📈 Mean score: 0.9829\n",
      " 🔍 Model: RF\n",
      "    📊 Metric: precision\n"
     ]
    },
    {
     "name": "stderr",
     "output_type": "stream",
     "text": [
      "C:\\Users\\mateu\\AppData\\Local\\Packages\\PythonSoftwareFoundation.Python.3.11_qbz5n2kfra8p0\\LocalCache\\local-packages\\Python311\\site-packages\\sklearn\\model_selection\\_search.py:320: UserWarning: The total space of parameters 4 is smaller than n_iter=20. Running 4 iterations. For exhaustive searches, use GridSearchCV.\n",
      "  warnings.warn(\n",
      "C:\\Users\\mateu\\AppData\\Local\\Packages\\PythonSoftwareFoundation.Python.3.11_qbz5n2kfra8p0\\LocalCache\\local-packages\\Python311\\site-packages\\sklearn\\model_selection\\_search.py:320: UserWarning: The total space of parameters 4 is smaller than n_iter=20. Running 4 iterations. For exhaustive searches, use GridSearchCV.\n",
      "  warnings.warn(\n"
     ]
    },
    {
     "name": "stdout",
     "output_type": "stream",
     "text": [
      "      ✅ Best score: 0.9812\n",
      "      📈 Mean score: 0.9740\n",
      "    📊 Metric: accuracy\n"
     ]
    },
    {
     "name": "stderr",
     "output_type": "stream",
     "text": [
      "C:\\Users\\mateu\\AppData\\Local\\Packages\\PythonSoftwareFoundation.Python.3.11_qbz5n2kfra8p0\\LocalCache\\local-packages\\Python311\\site-packages\\sklearn\\model_selection\\_search.py:320: UserWarning: The total space of parameters 4 is smaller than n_iter=20. Running 4 iterations. For exhaustive searches, use GridSearchCV.\n",
      "  warnings.warn(\n"
     ]
    },
    {
     "name": "stdout",
     "output_type": "stream",
     "text": [
      "      ✅ Best score: 0.9833\n",
      "      📈 Mean score: 0.9792\n",
      "    📊 Metric: f1-score\n"
     ]
    },
    {
     "name": "stderr",
     "output_type": "stream",
     "text": [
      "C:\\Users\\mateu\\AppData\\Local\\Packages\\PythonSoftwareFoundation.Python.3.11_qbz5n2kfra8p0\\LocalCache\\local-packages\\Python311\\site-packages\\sklearn\\model_selection\\_search.py:320: UserWarning: The total space of parameters 4 is smaller than n_iter=20. Running 4 iterations. For exhaustive searches, use GridSearchCV.\n",
      "  warnings.warn(\n"
     ]
    },
    {
     "name": "stdout",
     "output_type": "stream",
     "text": [
      "      ✅ Best score: 0.9832\n",
      "      📈 Mean score: 0.9793\n",
      "    📊 Metric: roc_auc\n"
     ]
    },
    {
     "name": "stderr",
     "output_type": "stream",
     "text": [
      "C:\\Users\\mateu\\AppData\\Local\\Packages\\PythonSoftwareFoundation.Python.3.11_qbz5n2kfra8p0\\LocalCache\\local-packages\\Python311\\site-packages\\sklearn\\model_selection\\_search.py:320: UserWarning: The total space of parameters 4 is smaller than n_iter=20. Running 4 iterations. For exhaustive searches, use GridSearchCV.\n",
      "  warnings.warn(\n"
     ]
    },
    {
     "name": "stdout",
     "output_type": "stream",
     "text": [
      "      ✅ Best score: 1.0000\n",
      "      📈 Mean score: 0.9998\n",
      " 🔍 Model: XGB\n",
      "    📊 Metric: precision\n"
     ]
    },
    {
     "name": "stderr",
     "output_type": "stream",
     "text": [
      "C:\\Users\\mateu\\AppData\\Local\\Packages\\PythonSoftwareFoundation.Python.3.11_qbz5n2kfra8p0\\LocalCache\\local-packages\\Python311\\site-packages\\sklearn\\model_selection\\_search.py:320: UserWarning: The total space of parameters 8 is smaller than n_iter=20. Running 8 iterations. For exhaustive searches, use GridSearchCV.\n",
      "  warnings.warn(\n"
     ]
    },
    {
     "name": "stdout",
     "output_type": "stream",
     "text": [
      "      ✅ Best score: 0.9746\n",
      "      📈 Mean score: 0.9715\n",
      "    📊 Metric: accuracy\n"
     ]
    },
    {
     "name": "stderr",
     "output_type": "stream",
     "text": [
      "C:\\Users\\mateu\\AppData\\Local\\Packages\\PythonSoftwareFoundation.Python.3.11_qbz5n2kfra8p0\\LocalCache\\local-packages\\Python311\\site-packages\\sklearn\\model_selection\\_search.py:320: UserWarning: The total space of parameters 8 is smaller than n_iter=20. Running 8 iterations. For exhaustive searches, use GridSearchCV.\n",
      "  warnings.warn(\n"
     ]
    },
    {
     "name": "stdout",
     "output_type": "stream",
     "text": [
      "      ✅ Best score: 0.9833\n",
      "      📈 Mean score: 0.9817\n",
      "    📊 Metric: f1-score\n"
     ]
    },
    {
     "name": "stderr",
     "output_type": "stream",
     "text": [
      "C:\\Users\\mateu\\AppData\\Local\\Packages\\PythonSoftwareFoundation.Python.3.11_qbz5n2kfra8p0\\LocalCache\\local-packages\\Python311\\site-packages\\sklearn\\model_selection\\_search.py:320: UserWarning: The total space of parameters 8 is smaller than n_iter=20. Running 8 iterations. For exhaustive searches, use GridSearchCV.\n",
      "  warnings.warn(\n"
     ]
    },
    {
     "name": "stdout",
     "output_type": "stream",
     "text": [
      "      ✅ Best score: 0.9837\n",
      "      📈 Mean score: 0.9820\n",
      "    📊 Metric: roc_auc\n"
     ]
    },
    {
     "name": "stderr",
     "output_type": "stream",
     "text": [
      "C:\\Users\\mateu\\AppData\\Local\\Packages\\PythonSoftwareFoundation.Python.3.11_qbz5n2kfra8p0\\LocalCache\\local-packages\\Python311\\site-packages\\sklearn\\model_selection\\_search.py:320: UserWarning: The total space of parameters 8 is smaller than n_iter=20. Running 8 iterations. For exhaustive searches, use GridSearchCV.\n",
      "  warnings.warn(\n"
     ]
    },
    {
     "name": "stdout",
     "output_type": "stream",
     "text": [
      "      ✅ Best score: 0.9956\n",
      "      📈 Mean score: 0.9938\n",
      " 🔍 Model: XGBRF\n",
      "    📊 Metric: precision\n"
     ]
    },
    {
     "name": "stderr",
     "output_type": "stream",
     "text": [
      "C:\\Users\\mateu\\AppData\\Local\\Packages\\PythonSoftwareFoundation.Python.3.11_qbz5n2kfra8p0\\LocalCache\\local-packages\\Python311\\site-packages\\sklearn\\model_selection\\_search.py:320: UserWarning: The total space of parameters 4 is smaller than n_iter=20. Running 4 iterations. For exhaustive searches, use GridSearchCV.\n",
      "  warnings.warn(\n"
     ]
    },
    {
     "name": "stdout",
     "output_type": "stream",
     "text": [
      "      ✅ Best score: 0.9812\n",
      "      📈 Mean score: 0.9763\n",
      "    📊 Metric: accuracy\n"
     ]
    },
    {
     "name": "stderr",
     "output_type": "stream",
     "text": [
      "C:\\Users\\mateu\\AppData\\Local\\Packages\\PythonSoftwareFoundation.Python.3.11_qbz5n2kfra8p0\\LocalCache\\local-packages\\Python311\\site-packages\\sklearn\\model_selection\\_search.py:320: UserWarning: The total space of parameters 4 is smaller than n_iter=20. Running 4 iterations. For exhaustive searches, use GridSearchCV.\n",
      "  warnings.warn(\n"
     ]
    },
    {
     "name": "stdout",
     "output_type": "stream",
     "text": [
      "      ✅ Best score: 0.9867\n",
      "      📈 Mean score: 0.9842\n",
      "    📊 Metric: f1-score\n"
     ]
    },
    {
     "name": "stderr",
     "output_type": "stream",
     "text": [
      "C:\\Users\\mateu\\AppData\\Local\\Packages\\PythonSoftwareFoundation.Python.3.11_qbz5n2kfra8p0\\LocalCache\\local-packages\\Python311\\site-packages\\sklearn\\model_selection\\_search.py:320: UserWarning: The total space of parameters 4 is smaller than n_iter=20. Running 4 iterations. For exhaustive searches, use GridSearchCV.\n",
      "  warnings.warn(\n"
     ]
    },
    {
     "name": "stdout",
     "output_type": "stream",
     "text": [
      "      ✅ Best score: 0.9869\n",
      "      📈 Mean score: 0.9845\n",
      "    📊 Metric: roc_auc\n"
     ]
    },
    {
     "name": "stderr",
     "output_type": "stream",
     "text": [
      "C:\\Users\\mateu\\AppData\\Local\\Packages\\PythonSoftwareFoundation.Python.3.11_qbz5n2kfra8p0\\LocalCache\\local-packages\\Python311\\site-packages\\sklearn\\model_selection\\_search.py:320: UserWarning: The total space of parameters 4 is smaller than n_iter=20. Running 4 iterations. For exhaustive searches, use GridSearchCV.\n",
      "  warnings.warn(\n"
     ]
    },
    {
     "name": "stdout",
     "output_type": "stream",
     "text": [
      "      ✅ Best score: 0.9960\n",
      "      📈 Mean score: 0.9950\n",
      "\n",
      "🟦 Dataset: KM_SCAN_COS_MAHA\n",
      " 🔍 Model: DT\n",
      "    📊 Metric: precision\n",
      "      ✅ Best score: 0.9875\n",
      "      📈 Mean score: 0.9777\n",
      "    📊 Metric: accuracy\n",
      "      ✅ Best score: 0.9833\n",
      "      📈 Mean score: 0.9775\n",
      "    📊 Metric: f1-score\n"
     ]
    },
    {
     "name": "stderr",
     "output_type": "stream",
     "text": [
      "C:\\Users\\mateu\\AppData\\Local\\Packages\\PythonSoftwareFoundation.Python.3.11_qbz5n2kfra8p0\\LocalCache\\local-packages\\Python311\\site-packages\\sklearn\\model_selection\\_search.py:320: UserWarning: The total space of parameters 4 is smaller than n_iter=20. Running 4 iterations. For exhaustive searches, use GridSearchCV.\n",
      "  warnings.warn(\n",
      "C:\\Users\\mateu\\AppData\\Local\\Packages\\PythonSoftwareFoundation.Python.3.11_qbz5n2kfra8p0\\LocalCache\\local-packages\\Python311\\site-packages\\sklearn\\model_selection\\_search.py:320: UserWarning: The total space of parameters 4 is smaller than n_iter=20. Running 4 iterations. For exhaustive searches, use GridSearchCV.\n",
      "  warnings.warn(\n",
      "C:\\Users\\mateu\\AppData\\Local\\Packages\\PythonSoftwareFoundation.Python.3.11_qbz5n2kfra8p0\\LocalCache\\local-packages\\Python311\\site-packages\\sklearn\\model_selection\\_search.py:320: UserWarning: The total space of parameters 4 is smaller than n_iter=20. Running 4 iterations. For exhaustive searches, use GridSearchCV.\n",
      "  warnings.warn(\n"
     ]
    },
    {
     "name": "stdout",
     "output_type": "stream",
     "text": [
      "      ✅ Best score: 0.9830\n",
      "      📈 Mean score: 0.9773\n",
      "    📊 Metric: roc_auc\n",
      "      ✅ Best score: 0.9891\n",
      "      📈 Mean score: 0.9821\n",
      " 🔍 Model: RF\n",
      "    📊 Metric: precision\n"
     ]
    },
    {
     "name": "stderr",
     "output_type": "stream",
     "text": [
      "C:\\Users\\mateu\\AppData\\Local\\Packages\\PythonSoftwareFoundation.Python.3.11_qbz5n2kfra8p0\\LocalCache\\local-packages\\Python311\\site-packages\\sklearn\\model_selection\\_search.py:320: UserWarning: The total space of parameters 4 is smaller than n_iter=20. Running 4 iterations. For exhaustive searches, use GridSearchCV.\n",
      "  warnings.warn(\n",
      "C:\\Users\\mateu\\AppData\\Local\\Packages\\PythonSoftwareFoundation.Python.3.11_qbz5n2kfra8p0\\LocalCache\\local-packages\\Python311\\site-packages\\sklearn\\model_selection\\_search.py:320: UserWarning: The total space of parameters 4 is smaller than n_iter=20. Running 4 iterations. For exhaustive searches, use GridSearchCV.\n",
      "  warnings.warn(\n"
     ]
    },
    {
     "name": "stdout",
     "output_type": "stream",
     "text": [
      "      ✅ Best score: 0.9741\n",
      "      📈 Mean score: 0.9702\n",
      "    📊 Metric: accuracy\n"
     ]
    },
    {
     "name": "stderr",
     "output_type": "stream",
     "text": [
      "C:\\Users\\mateu\\AppData\\Local\\Packages\\PythonSoftwareFoundation.Python.3.11_qbz5n2kfra8p0\\LocalCache\\local-packages\\Python311\\site-packages\\sklearn\\model_selection\\_search.py:320: UserWarning: The total space of parameters 4 is smaller than n_iter=20. Running 4 iterations. For exhaustive searches, use GridSearchCV.\n",
      "  warnings.warn(\n"
     ]
    },
    {
     "name": "stdout",
     "output_type": "stream",
     "text": [
      "      ✅ Best score: 0.9767\n",
      "      📈 Mean score: 0.9725\n",
      "    📊 Metric: f1-score\n"
     ]
    },
    {
     "name": "stderr",
     "output_type": "stream",
     "text": [
      "C:\\Users\\mateu\\AppData\\Local\\Packages\\PythonSoftwareFoundation.Python.3.11_qbz5n2kfra8p0\\LocalCache\\local-packages\\Python311\\site-packages\\sklearn\\model_selection\\_search.py:320: UserWarning: The total space of parameters 4 is smaller than n_iter=20. Running 4 iterations. For exhaustive searches, use GridSearchCV.\n",
      "  warnings.warn(\n"
     ]
    },
    {
     "name": "stdout",
     "output_type": "stream",
     "text": [
      "      ✅ Best score: 0.9769\n",
      "      📈 Mean score: 0.9722\n",
      "    📊 Metric: roc_auc\n"
     ]
    },
    {
     "name": "stderr",
     "output_type": "stream",
     "text": [
      "C:\\Users\\mateu\\AppData\\Local\\Packages\\PythonSoftwareFoundation.Python.3.11_qbz5n2kfra8p0\\LocalCache\\local-packages\\Python311\\site-packages\\sklearn\\model_selection\\_search.py:320: UserWarning: The total space of parameters 4 is smaller than n_iter=20. Running 4 iterations. For exhaustive searches, use GridSearchCV.\n",
      "  warnings.warn(\n"
     ]
    },
    {
     "name": "stdout",
     "output_type": "stream",
     "text": [
      "      ✅ Best score: 0.9987\n",
      "      📈 Mean score: 0.9980\n",
      " 🔍 Model: XGB\n",
      "    📊 Metric: precision\n"
     ]
    },
    {
     "name": "stderr",
     "output_type": "stream",
     "text": [
      "C:\\Users\\mateu\\AppData\\Local\\Packages\\PythonSoftwareFoundation.Python.3.11_qbz5n2kfra8p0\\LocalCache\\local-packages\\Python311\\site-packages\\sklearn\\model_selection\\_search.py:320: UserWarning: The total space of parameters 8 is smaller than n_iter=20. Running 8 iterations. For exhaustive searches, use GridSearchCV.\n",
      "  warnings.warn(\n"
     ]
    },
    {
     "name": "stdout",
     "output_type": "stream",
     "text": [
      "      ✅ Best score: 0.9746\n",
      "      📈 Mean score: 0.9715\n",
      "    📊 Metric: accuracy\n"
     ]
    },
    {
     "name": "stderr",
     "output_type": "stream",
     "text": [
      "C:\\Users\\mateu\\AppData\\Local\\Packages\\PythonSoftwareFoundation.Python.3.11_qbz5n2kfra8p0\\LocalCache\\local-packages\\Python311\\site-packages\\sklearn\\model_selection\\_search.py:320: UserWarning: The total space of parameters 8 is smaller than n_iter=20. Running 8 iterations. For exhaustive searches, use GridSearchCV.\n",
      "  warnings.warn(\n"
     ]
    },
    {
     "name": "stdout",
     "output_type": "stream",
     "text": [
      "      ✅ Best score: 0.9833\n",
      "      📈 Mean score: 0.9817\n",
      "    📊 Metric: f1-score\n"
     ]
    },
    {
     "name": "stderr",
     "output_type": "stream",
     "text": [
      "C:\\Users\\mateu\\AppData\\Local\\Packages\\PythonSoftwareFoundation.Python.3.11_qbz5n2kfra8p0\\LocalCache\\local-packages\\Python311\\site-packages\\sklearn\\model_selection\\_search.py:320: UserWarning: The total space of parameters 8 is smaller than n_iter=20. Running 8 iterations. For exhaustive searches, use GridSearchCV.\n",
      "  warnings.warn(\n"
     ]
    },
    {
     "name": "stdout",
     "output_type": "stream",
     "text": [
      "      ✅ Best score: 0.9837\n",
      "      📈 Mean score: 0.9820\n",
      "    📊 Metric: roc_auc\n"
     ]
    },
    {
     "name": "stderr",
     "output_type": "stream",
     "text": [
      "C:\\Users\\mateu\\AppData\\Local\\Packages\\PythonSoftwareFoundation.Python.3.11_qbz5n2kfra8p0\\LocalCache\\local-packages\\Python311\\site-packages\\sklearn\\model_selection\\_search.py:320: UserWarning: The total space of parameters 8 is smaller than n_iter=20. Running 8 iterations. For exhaustive searches, use GridSearchCV.\n",
      "  warnings.warn(\n"
     ]
    },
    {
     "name": "stdout",
     "output_type": "stream",
     "text": [
      "      ✅ Best score: 0.9962\n",
      "      📈 Mean score: 0.9943\n",
      " 🔍 Model: XGBRF\n",
      "    📊 Metric: precision\n"
     ]
    },
    {
     "name": "stderr",
     "output_type": "stream",
     "text": [
      "C:\\Users\\mateu\\AppData\\Local\\Packages\\PythonSoftwareFoundation.Python.3.11_qbz5n2kfra8p0\\LocalCache\\local-packages\\Python311\\site-packages\\sklearn\\model_selection\\_search.py:320: UserWarning: The total space of parameters 4 is smaller than n_iter=20. Running 4 iterations. For exhaustive searches, use GridSearchCV.\n",
      "  warnings.warn(\n"
     ]
    },
    {
     "name": "stdout",
     "output_type": "stream",
     "text": [
      "      ✅ Best score: 0.9812\n",
      "      📈 Mean score: 0.9779\n",
      "    📊 Metric: accuracy\n"
     ]
    },
    {
     "name": "stderr",
     "output_type": "stream",
     "text": [
      "C:\\Users\\mateu\\AppData\\Local\\Packages\\PythonSoftwareFoundation.Python.3.11_qbz5n2kfra8p0\\LocalCache\\local-packages\\Python311\\site-packages\\sklearn\\model_selection\\_search.py:320: UserWarning: The total space of parameters 4 is smaller than n_iter=20. Running 4 iterations. For exhaustive searches, use GridSearchCV.\n",
      "  warnings.warn(\n"
     ]
    },
    {
     "name": "stdout",
     "output_type": "stream",
     "text": [
      "      ✅ Best score: 0.9867\n",
      "      📈 Mean score: 0.9850\n",
      "    📊 Metric: f1-score\n"
     ]
    },
    {
     "name": "stderr",
     "output_type": "stream",
     "text": [
      "C:\\Users\\mateu\\AppData\\Local\\Packages\\PythonSoftwareFoundation.Python.3.11_qbz5n2kfra8p0\\LocalCache\\local-packages\\Python311\\site-packages\\sklearn\\model_selection\\_search.py:320: UserWarning: The total space of parameters 4 is smaller than n_iter=20. Running 4 iterations. For exhaustive searches, use GridSearchCV.\n",
      "  warnings.warn(\n"
     ]
    },
    {
     "name": "stdout",
     "output_type": "stream",
     "text": [
      "      ✅ Best score: 0.9869\n",
      "      📈 Mean score: 0.9853\n",
      "    📊 Metric: roc_auc\n"
     ]
    },
    {
     "name": "stderr",
     "output_type": "stream",
     "text": [
      "C:\\Users\\mateu\\AppData\\Local\\Packages\\PythonSoftwareFoundation.Python.3.11_qbz5n2kfra8p0\\LocalCache\\local-packages\\Python311\\site-packages\\sklearn\\model_selection\\_search.py:320: UserWarning: The total space of parameters 4 is smaller than n_iter=20. Running 4 iterations. For exhaustive searches, use GridSearchCV.\n",
      "  warnings.warn(\n"
     ]
    },
    {
     "name": "stdout",
     "output_type": "stream",
     "text": [
      "      ✅ Best score: 0.9973\n",
      "      📈 Mean score: 0.9966\n"
     ]
    }
   ],
   "source": [
    "params_ = {\n",
    "    \"DT\": {\n",
    "        'max_depth': [4, 8],\n",
    "        'min_samples_leaf': [1, 2],\n",
    "        'random_state': [0]\n",
    "    },\n",
    "    \"RF\": {\n",
    "        'n_estimators': [40, 80],\n",
    "        'max_depth': [8, 12],\n",
    "        'min_samples_leaf': [1],\n",
    "        'random_state': [0]\n",
    "    },\n",
    "    \"XGB\": {\n",
    "        'max_depth': [8, 12],\n",
    "        'learning_rate': [0.01, 0.1],\n",
    "        'subsample': [0.7, 1]\n",
    "    },\n",
    "    \"XGBRF\": {\n",
    "        'n_estimators': [40, 80],\n",
    "        'max_depth': [8],\n",
    "        'subsample': [0.7, 1],\n",
    "        'random_state': [0]\n",
    "    }\n",
    "}\n",
    "\n",
    "models_ = {\n",
    "    \"DT\": DecisionTreeClassifier(),\n",
    "    \"RF\": RandomForestClassifier(),\n",
    "    \"XGB\": XGBClassifier(verbosity=0, use_label_encoder=False),\n",
    "    \"XGBRF\": XGBClassifier(booster='gbtree', grow_policy='depthwise', importance_type='gain', tree_method='auto', verbosity=0, use_label_encoder=False)\n",
    "}\n",
    "\n",
    "results_ = {}\n",
    "\n",
    "n_iter = 30\n",
    "\n",
    "scoring_metrics = {\n",
    "    'precision': 'precision',\n",
    "    'accuracy': 'accuracy',\n",
    "    'f1-score': 'f1',\n",
    "    'roc_auc': 'roc_auc'\n",
    "}\n",
    "\n",
    "\n",
    "for name, (X, y) in data.items():\n",
    "    print(f\"\\n🟦 Dataset: {name}\")\n",
    "    results_[name] = {}\n",
    "\n",
    "    for model_name in models_.keys():\n",
    "        print(f\" 🔍 Model: {model_name}\")\n",
    "        model = models_[model_name]\n",
    "        param_dist = params_[model_name]\n",
    "\n",
    "        results_[name][model_name] = {}\n",
    "\n",
    "        for metric_name, metric in scoring_metrics.items():\n",
    "            print(f\"    📊 Metric: {metric_name}\")\n",
    "            search = RandomizedSearchCV(\n",
    "                estimator=model,\n",
    "                param_distributions=param_dist,\n",
    "                n_iter=20,\n",
    "                scoring=metric,\n",
    "                cv=10,\n",
    "                n_jobs=-1,\n",
    "                verbose=0,\n",
    "                random_state=42,\n",
    "                return_train_score=False\n",
    "            )\n",
    "\n",
    "            search.fit(X, y)\n",
    "\n",
    "            results_[name][model_name][metric_name] = {\n",
    "                'best_score': search.best_score_,\n",
    "                'mean_test_score': np.mean(search.cv_results_['mean_test_score']),\n",
    "                'best_params': search.best_params_\n",
    "            }\n",
    "\n",
    "            print(f\"      ✅ Best score: {search.best_score_:.4f}\")\n",
    "            print(f\"      📈 Mean score: {np.mean(search.cv_results_['mean_test_score']):.4f}\")\n",
    "            \n",
    "            \n",
    "summary = []\n",
    "\n",
    "for dataset_name in results_:\n",
    "    for model_name in results_[dataset_name]:\n",
    "        for metric_name in results_[dataset_name][model_name]:\n",
    "            entry = results_[dataset_name][model_name][metric_name]\n",
    "            summary.append({\n",
    "                \"Dataset\": dataset_name,\n",
    "                \"Model\": model_name,\n",
    "                \"Metric\": metric_name,\n",
    "                \"Best Score\": entry[\"best_score\"],\n",
    "                \"Mean Score\": entry[\"mean_test_score\"],\n",
    "                \"Best Params\": entry[\"best_params\"]\n",
    "            })\n",
    "\n",
    "df_results = pd.DataFrame(summary)\n",
    "df_results.to_csv(\"D:\\\\ml\\\\undersampling_data\\\\reports\\\\ssh\\\\grid_search\\\\results_summary.csv\", index=False)"
   ]
  },
  {
   "cell_type": "markdown",
   "id": "040cca86",
   "metadata": {},
   "source": [
    "### Learning Models"
   ]
  },
  {
   "cell_type": "code",
   "execution_count": null,
   "id": "b4ba5da8",
   "metadata": {},
   "outputs": [
    {
     "name": "stdout",
     "output_type": "stream",
     "text": [
      "Learn: accuracy and model DT\n",
      "Learn: accuracy and model DT_KM_C\n",
      "Learn: accuracy and model DT_KM_NN\n",
      "Learn: accuracy and model DT_KM_COS\n",
      "Learn: accuracy and model DT_KM_COS_MAHA\n",
      "Learn: accuracy and model DT_HDBSCAN_NN\n",
      "Learn: accuracy and model DT_HDBSCAN_COS\n",
      "Learn: accuracy and model DT_KM_SCAN_NN\n",
      "Learn: accuracy and model DT_KM_SCAN_COS\n",
      "Learn: accuracy and model DT_KM_SCAN_COS_MAHA\n",
      "Learn: accuracy and model RF\n",
      "Learn: accuracy and model RF_KM_C\n",
      "Learn: accuracy and model RF_KM_NN\n",
      "Learn: accuracy and model RF_KM_COS\n",
      "Learn: accuracy and model RF_KM_COS_MAHA\n",
      "Learn: accuracy and model RF_HDBSCAN_NN\n",
      "Learn: accuracy and model RF_HDBSCAN_COS\n",
      "Learn: accuracy and model RF_KM_SCAN_NN\n",
      "Learn: accuracy and model RF_KM_SCAN_COS\n",
      "Learn: accuracy and model RF_KM_SCAN_COS_MAHA\n",
      "Learn: accuracy and model XGB\n",
      "Learn: accuracy and model XGB_KM_C\n",
      "Learn: accuracy and model XGB_KM_NN\n",
      "Learn: accuracy and model XGB_KM_COS\n",
      "Learn: accuracy and model XGB_KM_COS_MAHA\n",
      "Learn: accuracy and model XGB_HDBSCAN_NN\n",
      "Learn: accuracy and model XGB_HDBSCAN_COS\n",
      "Learn: accuracy and model XGB_KM_SCAN_NN\n",
      "Learn: accuracy and model XGB_KM_SCAN_COS\n",
      "Learn: accuracy and model XGB_KM_SCAN_COS_MAHA\n",
      "Learn: accuracy and model XGBRF\n",
      "Learn: accuracy and model XGBRF_KM_C\n",
      "Learn: accuracy and model XGBRF_KM_NN\n",
      "Learn: accuracy and model XGBRF_KM_COS\n",
      "Learn: accuracy and model XGBRF_KM_COS_MAHA\n",
      "Learn: accuracy and model XGBRF_HDBSCAN_NN\n",
      "Learn: accuracy and model XGBRF_HDBSCAN_COS\n",
      "Learn: accuracy and model XGBRF_KM_SCAN_NN\n",
      "Learn: accuracy and model XGBRF_KM_SCAN_COS\n",
      "Learn: accuracy and model XGBRF_KM_SCAN_COS_MAHA\n",
      "Learn: precision and model DT\n",
      "Learn: precision and model DT_KM_C\n",
      "Learn: precision and model DT_KM_NN\n",
      "Learn: precision and model DT_KM_COS\n",
      "Learn: precision and model DT_KM_COS_MAHA\n",
      "Learn: precision and model DT_HDBSCAN_NN\n",
      "Learn: precision and model DT_HDBSCAN_COS\n",
      "Learn: precision and model DT_KM_SCAN_NN\n",
      "Learn: precision and model DT_KM_SCAN_COS\n",
      "Learn: precision and model DT_KM_SCAN_COS_MAHA\n",
      "Learn: precision and model RF\n",
      "Learn: precision and model RF_KM_C\n",
      "Learn: precision and model RF_KM_NN\n",
      "Learn: precision and model RF_KM_COS\n",
      "Learn: precision and model RF_KM_COS_MAHA\n",
      "Learn: precision and model RF_HDBSCAN_NN\n",
      "Learn: precision and model RF_HDBSCAN_COS\n",
      "Learn: precision and model RF_KM_SCAN_NN\n",
      "Learn: precision and model RF_KM_SCAN_COS\n",
      "Learn: precision and model RF_KM_SCAN_COS_MAHA\n",
      "Learn: precision and model XGB\n",
      "Learn: precision and model XGB_KM_C\n",
      "Learn: precision and model XGB_KM_NN\n",
      "Learn: precision and model XGB_KM_COS\n",
      "Learn: precision and model XGB_KM_COS_MAHA\n",
      "Learn: precision and model XGB_HDBSCAN_NN\n",
      "Learn: precision and model XGB_HDBSCAN_COS\n",
      "Learn: precision and model XGB_KM_SCAN_NN\n",
      "Learn: precision and model XGB_KM_SCAN_COS\n",
      "Learn: precision and model XGB_KM_SCAN_COS_MAHA\n",
      "Learn: precision and model XGBRF\n",
      "Learn: precision and model XGBRF_KM_C\n",
      "Learn: precision and model XGBRF_KM_NN\n",
      "Learn: precision and model XGBRF_KM_COS\n",
      "Learn: precision and model XGBRF_KM_COS_MAHA\n",
      "Learn: precision and model XGBRF_HDBSCAN_NN\n",
      "Learn: precision and model XGBRF_HDBSCAN_COS\n",
      "Learn: precision and model XGBRF_KM_SCAN_NN\n",
      "Learn: precision and model XGBRF_KM_SCAN_COS\n",
      "Learn: precision and model XGBRF_KM_SCAN_COS_MAHA\n",
      "Learn: f1 and model DT\n",
      "Learn: f1 and model DT_KM_C\n",
      "Learn: f1 and model DT_KM_NN\n",
      "Learn: f1 and model DT_KM_COS\n",
      "Learn: f1 and model DT_KM_COS_MAHA\n",
      "Learn: f1 and model DT_HDBSCAN_NN\n",
      "Learn: f1 and model DT_HDBSCAN_COS\n",
      "Learn: f1 and model DT_KM_SCAN_NN\n",
      "Learn: f1 and model DT_KM_SCAN_COS\n",
      "Learn: f1 and model DT_KM_SCAN_COS_MAHA\n",
      "Learn: f1 and model RF\n",
      "Learn: f1 and model RF_KM_C\n",
      "Learn: f1 and model RF_KM_NN\n",
      "Learn: f1 and model RF_KM_COS\n",
      "Learn: f1 and model RF_KM_COS_MAHA\n",
      "Learn: f1 and model RF_HDBSCAN_NN\n",
      "Learn: f1 and model RF_HDBSCAN_COS\n",
      "Learn: f1 and model RF_KM_SCAN_NN\n",
      "Learn: f1 and model RF_KM_SCAN_COS\n",
      "Learn: f1 and model RF_KM_SCAN_COS_MAHA\n",
      "Learn: f1 and model XGB\n",
      "Learn: f1 and model XGB_KM_C\n",
      "Learn: f1 and model XGB_KM_NN\n",
      "Learn: f1 and model XGB_KM_COS\n",
      "Learn: f1 and model XGB_KM_COS_MAHA\n",
      "Learn: f1 and model XGB_HDBSCAN_NN\n",
      "Learn: f1 and model XGB_HDBSCAN_COS\n",
      "Learn: f1 and model XGB_KM_SCAN_NN\n",
      "Learn: f1 and model XGB_KM_SCAN_COS\n",
      "Learn: f1 and model XGB_KM_SCAN_COS_MAHA\n",
      "Learn: f1 and model XGBRF\n",
      "Learn: f1 and model XGBRF_KM_C\n",
      "Learn: f1 and model XGBRF_KM_NN\n",
      "Learn: f1 and model XGBRF_KM_COS\n",
      "Learn: f1 and model XGBRF_KM_COS_MAHA\n",
      "Learn: f1 and model XGBRF_HDBSCAN_NN\n",
      "Learn: f1 and model XGBRF_HDBSCAN_COS\n",
      "Learn: f1 and model XGBRF_KM_SCAN_NN\n",
      "Learn: f1 and model XGBRF_KM_SCAN_COS\n",
      "Learn: f1 and model XGBRF_KM_SCAN_COS_MAHA\n",
      "Learn: recall and model DT\n",
      "Learn: recall and model DT_KM_C\n",
      "Learn: recall and model DT_KM_NN\n",
      "Learn: recall and model DT_KM_COS\n",
      "Learn: recall and model DT_KM_COS_MAHA\n",
      "Learn: recall and model DT_HDBSCAN_NN\n",
      "Learn: recall and model DT_HDBSCAN_COS\n",
      "Learn: recall and model DT_KM_SCAN_NN\n",
      "Learn: recall and model DT_KM_SCAN_COS\n",
      "Learn: recall and model DT_KM_SCAN_COS_MAHA\n",
      "Learn: recall and model RF\n",
      "Learn: recall and model RF_KM_C\n",
      "Learn: recall and model RF_KM_NN\n",
      "Learn: recall and model RF_KM_COS\n",
      "Learn: recall and model RF_KM_COS_MAHA\n",
      "Learn: recall and model RF_HDBSCAN_NN\n",
      "Learn: recall and model RF_HDBSCAN_COS\n",
      "Learn: recall and model RF_KM_SCAN_NN\n",
      "Learn: recall and model RF_KM_SCAN_COS\n",
      "Learn: recall and model RF_KM_SCAN_COS_MAHA\n",
      "Learn: recall and model XGB\n",
      "Learn: recall and model XGB_KM_C\n",
      "Learn: recall and model XGB_KM_NN\n",
      "Learn: recall and model XGB_KM_COS\n",
      "Learn: recall and model XGB_KM_COS_MAHA\n",
      "Learn: recall and model XGB_HDBSCAN_NN\n",
      "Learn: recall and model XGB_HDBSCAN_COS\n",
      "Learn: recall and model XGB_KM_SCAN_NN\n",
      "Learn: recall and model XGB_KM_SCAN_COS\n",
      "Learn: recall and model XGB_KM_SCAN_COS_MAHA\n",
      "Learn: recall and model XGBRF\n",
      "Learn: recall and model XGBRF_KM_C\n",
      "Learn: recall and model XGBRF_KM_NN\n",
      "Learn: recall and model XGBRF_KM_COS\n",
      "Learn: recall and model XGBRF_KM_COS_MAHA\n",
      "Learn: recall and model XGBRF_HDBSCAN_NN\n",
      "Learn: recall and model XGBRF_HDBSCAN_COS\n",
      "Learn: recall and model XGBRF_KM_SCAN_NN\n",
      "Learn: recall and model XGBRF_KM_SCAN_COS\n",
      "Learn: recall and model XGBRF_KM_SCAN_COS_MAHA\n"
     ]
    },
    {
     "ename": "ImportError",
     "evalue": "Missing optional dependency 'openpyxl'.  Use pip or conda to install openpyxl.",
     "output_type": "error",
     "traceback": [
      "\u001b[1;31m---------------------------------------------------------------------------\u001b[0m",
      "\u001b[1;31mModuleNotFoundError\u001b[0m                       Traceback (most recent call last)",
      "File \u001b[1;32m~\\AppData\\Local\\Packages\\PythonSoftwareFoundation.Python.3.11_qbz5n2kfra8p0\\LocalCache\\local-packages\\Python311\\site-packages\\pandas\\compat\\_optional.py:135\u001b[0m, in \u001b[0;36mimport_optional_dependency\u001b[1;34m(name, extra, errors, min_version)\u001b[0m\n\u001b[0;32m    134\u001b[0m \u001b[38;5;28;01mtry\u001b[39;00m:\n\u001b[1;32m--> 135\u001b[0m     module \u001b[38;5;241m=\u001b[39m \u001b[43mimportlib\u001b[49m\u001b[38;5;241;43m.\u001b[39;49m\u001b[43mimport_module\u001b[49m\u001b[43m(\u001b[49m\u001b[43mname\u001b[49m\u001b[43m)\u001b[49m\n\u001b[0;32m    136\u001b[0m \u001b[38;5;28;01mexcept\u001b[39;00m \u001b[38;5;167;01mImportError\u001b[39;00m:\n",
      "File \u001b[1;32mC:\\Program Files\\WindowsApps\\PythonSoftwareFoundation.Python.3.11_3.11.2544.0_x64__qbz5n2kfra8p0\\Lib\\importlib\\__init__.py:126\u001b[0m, in \u001b[0;36mimport_module\u001b[1;34m(name, package)\u001b[0m\n\u001b[0;32m    125\u001b[0m         level \u001b[38;5;241m+\u001b[39m\u001b[38;5;241m=\u001b[39m \u001b[38;5;241m1\u001b[39m\n\u001b[1;32m--> 126\u001b[0m \u001b[38;5;28;01mreturn\u001b[39;00m \u001b[43m_bootstrap\u001b[49m\u001b[38;5;241;43m.\u001b[39;49m\u001b[43m_gcd_import\u001b[49m\u001b[43m(\u001b[49m\u001b[43mname\u001b[49m\u001b[43m[\u001b[49m\u001b[43mlevel\u001b[49m\u001b[43m:\u001b[49m\u001b[43m]\u001b[49m\u001b[43m,\u001b[49m\u001b[43m \u001b[49m\u001b[43mpackage\u001b[49m\u001b[43m,\u001b[49m\u001b[43m \u001b[49m\u001b[43mlevel\u001b[49m\u001b[43m)\u001b[49m\n",
      "File \u001b[1;32m<frozen importlib._bootstrap>:1204\u001b[0m, in \u001b[0;36m_gcd_import\u001b[1;34m(name, package, level)\u001b[0m\n",
      "File \u001b[1;32m<frozen importlib._bootstrap>:1176\u001b[0m, in \u001b[0;36m_find_and_load\u001b[1;34m(name, import_)\u001b[0m\n",
      "File \u001b[1;32m<frozen importlib._bootstrap>:1140\u001b[0m, in \u001b[0;36m_find_and_load_unlocked\u001b[1;34m(name, import_)\u001b[0m\n",
      "\u001b[1;31mModuleNotFoundError\u001b[0m: No module named 'openpyxl'",
      "\nDuring handling of the above exception, another exception occurred:\n",
      "\u001b[1;31mImportError\u001b[0m                               Traceback (most recent call last)",
      "Cell \u001b[1;32mIn[12], line 53\u001b[0m\n\u001b[0;32m     50\u001b[0m df_save_under_mean \u001b[38;5;241m=\u001b[39m df_results_cross_under_mean\u001b[38;5;241m.\u001b[39mpivot(index\u001b[38;5;241m=\u001b[39m\u001b[38;5;124m\"\u001b[39m\u001b[38;5;124mMetric\u001b[39m\u001b[38;5;124m\"\u001b[39m, columns\u001b[38;5;241m=\u001b[39m\u001b[38;5;124m\"\u001b[39m\u001b[38;5;124mModel\u001b[39m\u001b[38;5;124m\"\u001b[39m, values\u001b[38;5;241m=\u001b[39m\u001b[38;5;124m\"\u001b[39m\u001b[38;5;124mResult\u001b[39m\u001b[38;5;124m\"\u001b[39m)\n\u001b[0;32m     51\u001b[0m df_save_under_std \u001b[38;5;241m=\u001b[39m df_results_cross_under_std\u001b[38;5;241m.\u001b[39mpivot(index\u001b[38;5;241m=\u001b[39m\u001b[38;5;124m\"\u001b[39m\u001b[38;5;124mMetric\u001b[39m\u001b[38;5;124m\"\u001b[39m, columns\u001b[38;5;241m=\u001b[39m\u001b[38;5;124m\"\u001b[39m\u001b[38;5;124mModel\u001b[39m\u001b[38;5;124m\"\u001b[39m, values\u001b[38;5;241m=\u001b[39m\u001b[38;5;124m\"\u001b[39m\u001b[38;5;124mStd\u001b[39m\u001b[38;5;124m\"\u001b[39m)\n\u001b[1;32m---> 53\u001b[0m \u001b[38;5;28;01mwith\u001b[39;00m \u001b[43mpd\u001b[49m\u001b[38;5;241;43m.\u001b[39;49m\u001b[43mExcelFile\u001b[49m\u001b[43m(\u001b[49m\u001b[43mexcel_file_cross\u001b[49m\u001b[43m)\u001b[49m \u001b[38;5;28;01mas\u001b[39;00m w:\n\u001b[0;32m     54\u001b[0m     df_save_under_mean\u001b[38;5;241m.\u001b[39mto_excel(w, sheet_name\u001b[38;5;241m=\u001b[39mname_sheet1)\n\u001b[0;32m     55\u001b[0m \u001b[38;5;28;01mwith\u001b[39;00m pd\u001b[38;5;241m.\u001b[39mExcelFile(excel_file_cross2) \u001b[38;5;28;01mas\u001b[39;00m w1:\n",
      "File \u001b[1;32m~\\AppData\\Local\\Packages\\PythonSoftwareFoundation.Python.3.11_qbz5n2kfra8p0\\LocalCache\\local-packages\\Python311\\site-packages\\pandas\\io\\excel\\_base.py:1567\u001b[0m, in \u001b[0;36mExcelFile.__init__\u001b[1;34m(self, path_or_buffer, engine, storage_options, engine_kwargs)\u001b[0m\n\u001b[0;32m   1564\u001b[0m \u001b[38;5;28mself\u001b[39m\u001b[38;5;241m.\u001b[39mengine \u001b[38;5;241m=\u001b[39m engine\n\u001b[0;32m   1565\u001b[0m \u001b[38;5;28mself\u001b[39m\u001b[38;5;241m.\u001b[39mstorage_options \u001b[38;5;241m=\u001b[39m storage_options\n\u001b[1;32m-> 1567\u001b[0m \u001b[38;5;28mself\u001b[39m\u001b[38;5;241m.\u001b[39m_reader \u001b[38;5;241m=\u001b[39m \u001b[38;5;28;43mself\u001b[39;49m\u001b[38;5;241;43m.\u001b[39;49m\u001b[43m_engines\u001b[49m\u001b[43m[\u001b[49m\u001b[43mengine\u001b[49m\u001b[43m]\u001b[49m\u001b[43m(\u001b[49m\n\u001b[0;32m   1568\u001b[0m \u001b[43m    \u001b[49m\u001b[38;5;28;43mself\u001b[39;49m\u001b[38;5;241;43m.\u001b[39;49m\u001b[43m_io\u001b[49m\u001b[43m,\u001b[49m\n\u001b[0;32m   1569\u001b[0m \u001b[43m    \u001b[49m\u001b[43mstorage_options\u001b[49m\u001b[38;5;241;43m=\u001b[39;49m\u001b[43mstorage_options\u001b[49m\u001b[43m,\u001b[49m\n\u001b[0;32m   1570\u001b[0m \u001b[43m    \u001b[49m\u001b[43mengine_kwargs\u001b[49m\u001b[38;5;241;43m=\u001b[39;49m\u001b[43mengine_kwargs\u001b[49m\u001b[43m,\u001b[49m\n\u001b[0;32m   1571\u001b[0m \u001b[43m\u001b[49m\u001b[43m)\u001b[49m\n",
      "File \u001b[1;32m~\\AppData\\Local\\Packages\\PythonSoftwareFoundation.Python.3.11_qbz5n2kfra8p0\\LocalCache\\local-packages\\Python311\\site-packages\\pandas\\io\\excel\\_openpyxl.py:552\u001b[0m, in \u001b[0;36mOpenpyxlReader.__init__\u001b[1;34m(self, filepath_or_buffer, storage_options, engine_kwargs)\u001b[0m\n\u001b[0;32m    534\u001b[0m \u001b[38;5;129m@doc\u001b[39m(storage_options\u001b[38;5;241m=\u001b[39m_shared_docs[\u001b[38;5;124m\"\u001b[39m\u001b[38;5;124mstorage_options\u001b[39m\u001b[38;5;124m\"\u001b[39m])\n\u001b[0;32m    535\u001b[0m \u001b[38;5;28;01mdef\u001b[39;00m \u001b[38;5;21m__init__\u001b[39m(\n\u001b[0;32m    536\u001b[0m     \u001b[38;5;28mself\u001b[39m,\n\u001b[1;32m   (...)\u001b[0m\n\u001b[0;32m    539\u001b[0m     engine_kwargs: \u001b[38;5;28mdict\u001b[39m \u001b[38;5;241m|\u001b[39m \u001b[38;5;28;01mNone\u001b[39;00m \u001b[38;5;241m=\u001b[39m \u001b[38;5;28;01mNone\u001b[39;00m,\n\u001b[0;32m    540\u001b[0m ) \u001b[38;5;241m-\u001b[39m\u001b[38;5;241m>\u001b[39m \u001b[38;5;28;01mNone\u001b[39;00m:\n\u001b[0;32m    541\u001b[0m \u001b[38;5;250m    \u001b[39m\u001b[38;5;124;03m\"\"\"\u001b[39;00m\n\u001b[0;32m    542\u001b[0m \u001b[38;5;124;03m    Reader using openpyxl engine.\u001b[39;00m\n\u001b[0;32m    543\u001b[0m \n\u001b[1;32m   (...)\u001b[0m\n\u001b[0;32m    550\u001b[0m \u001b[38;5;124;03m        Arbitrary keyword arguments passed to excel engine.\u001b[39;00m\n\u001b[0;32m    551\u001b[0m \u001b[38;5;124;03m    \"\"\"\u001b[39;00m\n\u001b[1;32m--> 552\u001b[0m     \u001b[43mimport_optional_dependency\u001b[49m\u001b[43m(\u001b[49m\u001b[38;5;124;43m\"\u001b[39;49m\u001b[38;5;124;43mopenpyxl\u001b[39;49m\u001b[38;5;124;43m\"\u001b[39;49m\u001b[43m)\u001b[49m\n\u001b[0;32m    553\u001b[0m     \u001b[38;5;28msuper\u001b[39m()\u001b[38;5;241m.\u001b[39m\u001b[38;5;21m__init__\u001b[39m(\n\u001b[0;32m    554\u001b[0m         filepath_or_buffer,\n\u001b[0;32m    555\u001b[0m         storage_options\u001b[38;5;241m=\u001b[39mstorage_options,\n\u001b[0;32m    556\u001b[0m         engine_kwargs\u001b[38;5;241m=\u001b[39mengine_kwargs,\n\u001b[0;32m    557\u001b[0m     )\n",
      "File \u001b[1;32m~\\AppData\\Local\\Packages\\PythonSoftwareFoundation.Python.3.11_qbz5n2kfra8p0\\LocalCache\\local-packages\\Python311\\site-packages\\pandas\\compat\\_optional.py:138\u001b[0m, in \u001b[0;36mimport_optional_dependency\u001b[1;34m(name, extra, errors, min_version)\u001b[0m\n\u001b[0;32m    136\u001b[0m \u001b[38;5;28;01mexcept\u001b[39;00m \u001b[38;5;167;01mImportError\u001b[39;00m:\n\u001b[0;32m    137\u001b[0m     \u001b[38;5;28;01mif\u001b[39;00m errors \u001b[38;5;241m==\u001b[39m \u001b[38;5;124m\"\u001b[39m\u001b[38;5;124mraise\u001b[39m\u001b[38;5;124m\"\u001b[39m:\n\u001b[1;32m--> 138\u001b[0m         \u001b[38;5;28;01mraise\u001b[39;00m \u001b[38;5;167;01mImportError\u001b[39;00m(msg)\n\u001b[0;32m    139\u001b[0m     \u001b[38;5;28;01mreturn\u001b[39;00m \u001b[38;5;28;01mNone\u001b[39;00m\n\u001b[0;32m    141\u001b[0m \u001b[38;5;66;03m# Handle submodules: if we have submodule, grab parent module from sys.modules\u001b[39;00m\n",
      "\u001b[1;31mImportError\u001b[0m: Missing optional dependency 'openpyxl'.  Use pip or conda to install openpyxl."
     ]
    }
   ],
   "source": [
    "# Variables\n",
    "cv = RepeatedStratifiedKFold(n_splits=10, n_repeats=10, random_state=42)\n",
    "results_cross_mean_under=[]\n",
    "results_cross_std_under=[]\n",
    "goal = ['accuracy', 'precision','f1','recall']\n",
    "path_files = [\"D:\\\\ml\\\\undersampling_data\\\\reports\\\\ssh\\\\results\\\\accuracy_metrics.txt\",\n",
    "              \"D:\\\\ml\\\\undersampling_data\\\\reports\\\\ssh\\\\results\\\\precision_metrics.txt\", \n",
    "              \"D:\\\\ml\\\\undersampling_data\\\\reports\\\\ssh\\\\results\\\\f1_metrics.txt\", \n",
    "              \"D:\\\\ml\\\\undersampling_data\\\\reports\\\\ssh\\\\results\\\\recall_metrics.txt\"]\n",
    "\n",
    "excel_file_cross = \"D:\\\\ml\\\\undersampling_data\\\\reports\\\\ssh\\\\results\\\\cross.xlsx\"\n",
    "excel_file_cross2 = \"D:\\\\ml\\\\undersampling_data\\\\reports\\\\ssh\\\\results\\\\cross_std.xlsx\"\n",
    "name_sheet1 = \"Arkusz1\"\n",
    "\n",
    "# Loop 10x10 cross validation for all models and all datasets\n",
    "for metrix1, path_file in zip(goal, path_files):\n",
    "    for model_key, (X_train, y_train) in data.items():\n",
    "        model = models[model_key]\n",
    "        \n",
    "        # Cross validation\n",
    "        cross_val_results = cross_val_score(model, X_train, y_train, cv=cv, scoring=metrix1, n_jobs=1)\n",
    "        print(f\"Learn: {metrix1} and model {model_key}\")\n",
    "        \n",
    "        # Save results to file\n",
    "        with open(path_file, \"a+\") as f:\n",
    "            # Zapis wyników do pliku\n",
    "            print(f'{model_key} Cross-Validation Results {metrix1}:\\n {cross_val_results}', file=f)\n",
    "            print(f'Mean {metrix1}: {cross_val_results.mean()}', file=f)\n",
    "            print(f'Dev: {cross_val_results.std()}', file=f)\n",
    "            print(\"\\n\", file=f)\n",
    "        \n",
    "        # Collect results for DataFrame\n",
    "        results_cross_mean_under.append({\n",
    "        \"Model\": model_key,\n",
    "        \"Metric\": metrix1,\n",
    "        \"Result\": cross_val_results.mean()})\n",
    "        results_cross_std_under.append({\n",
    "        \"Model\": model_key,\n",
    "        \"Metric\": metrix1,\n",
    "        \"Std\": cross_val_results.std()})\n",
    "        \n",
    "        model.fit(X_train, y_train)\n",
    "        with open(f\"D:\\\\ml\\\\undersampling_data\\\\models\\\\ssh\\\\{model_key}_{metrix1}_model.pkl\", \"wb\") as f:\n",
    "            pickle.dump(model, f)\n",
    "            \n",
    "# Create DataFrames and save to Excel           \n",
    "df_results_cross_under_mean = pd.DataFrame(results_cross_mean_under)\n",
    "df_results_cross_under_std = pd.DataFrame(results_cross_std_under)\n",
    "\n",
    "df_save_under_mean = df_results_cross_under_mean.pivot(index=\"Metric\", columns=\"Model\", values=\"Result\")\n",
    "df_save_under_std = df_results_cross_under_std.pivot(index=\"Metric\", columns=\"Model\", values=\"Std\")\n",
    "        \n"
   ]
  },
  {
   "cell_type": "code",
   "execution_count": 68,
   "id": "6b0450b0",
   "metadata": {},
   "outputs": [
    {
     "data": {
      "image/png": "[encoded data removed]",
      "text/plain": [
       "<Figure size 1000x500 with 1 Axes>"
      ]
     },
     "metadata": {},
     "output_type": "display_data"
    },
    {
     "data": {
      "image/png": "[encoded data removed]",
      "text/plain": [
       "<Figure size 1000x500 with 1 Axes>"
      ]
     },
     "metadata": {},
     "output_type": "display_data"
    },
    {
     "data": {
      "image/png": "[encoded data removed]",
      "text/plain": [
       "<Figure size 1000x500 with 1 Axes>"
      ]
     },
     "metadata": {},
     "output_type": "display_data"
    },
    {
     "data": {
      "image/png": "[encoded data removed]",
      "text/plain": [
       "<Figure size 1000x500 with 1 Axes>"
      ]
     },
     "metadata": {},
     "output_type": "display_data"
    }
   ],
   "source": [
    "\"\"\" with pd.ExcelFile(excel_file_cross) as w:\n",
    "    df_save_under_mean.to_excel(w, sheet_name=name_sheet1)\n",
    "with pd.ExcelFile(excel_file_cross2) as w1:\n",
    "    df_save_under_std.to_excel(w1, sheet_name=name_sheet1)\n",
    " \"\"\"\n",
    "# Visualization results for all models and all datasets\n",
    "for metric in goal:\n",
    "    # Choose metric\n",
    "    df_metric_mean = df_save_under_mean.loc[metric]   # mean\n",
    "    df_metric_std = df_save_under_std.loc[metric]     # std\n",
    "    \n",
    "    max_std = df_metric_std.max()\n",
    "    min_mean = df_metric_mean.min()\n",
    "    ymin = round((min_mean - (max_std + 0.05)),1)\n",
    "\n",
    "    plt.figure(figsize=(10,5))\n",
    "    plt.errorbar(\n",
    "        df_metric_mean.index,                # X: modele\n",
    "        df_metric_mean.values,               # Y: mean\n",
    "        yerr=df_metric_std.values,           # std\n",
    "        fmt=\"o\",                             # marker\n",
    "        ecolor=\"red\", capsize=3,             # color and capsize for error bars\n",
    "        color=\"blue\", label=metric\n",
    "    )\n",
    "\n",
    "    plt.title(f\"Cross-validation mean scores ± std for {metric} metric\")\n",
    "    plt.ylim(ymin, 1)\n",
    "    plt.ylabel(\"Score\")\n",
    "    plt.xticks(rotation=90)\n",
    "    plt.legend()\n",
    "    plt.grid(True, linestyle=\"--\", alpha=0.7)\n",
    "    plt.tight_layout()\n",
    "    plt.savefig(f\"D:\\\\ml\\\\undersampling_data\\\\reports\\\\ssh\\\\results\\\\{metric}_chart.png\", dpi=300)\n",
    "    plt.show()"
   ]
  }
 ],
 "metadata": {
  "kernelspec": {
   "display_name": "Python 3",
   "language": "python",
   "name": "python3"
  },
  "language_info": {
   "codemirror_mode": {
    "name": "ipython",
    "version": 3
   },
   "file_extension": ".py",
   "mimetype": "text/x-python",
   "name": "python",
   "nbconvert_exporter": "python",
   "pygments_lexer": "ipython3",
   "version": "3.11.9"
  }
 },
 "nbformat": 4,
 "nbformat_minor": 5
}
