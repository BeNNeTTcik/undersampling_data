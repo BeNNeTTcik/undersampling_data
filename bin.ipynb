{
 "cells": [
  {
   "cell_type": "code",
   "execution_count": null,
   "metadata": {
    "vscode": {
     "languageId": "plaintext"
    }
   },
   "outputs": [],
   "source": [
    "def cross_validation(model, X_train, y_train):\n",
    "    cv = RepeatedStratifiedKFold(n_splits=10, n_repeats=10, random_state=42)\n",
    "    goal = ['precision','f1','recall','accuracy']\n",
    "    path_files = [\"D:\\\\ml\\\\undersampling_data\\\\reports\\\\ssh\\\\precision_metrics.txt\", \n",
    "                  \"D:\\\\ml\\\\undersampling_data\\\\reports\\\\ssh\\\\f1_metrics.txt\", \n",
    "                  \"D:\\\\ml\\\\undersampling_data\\\\reports\\\\ssh\\\\recall_metrics.txt\", \n",
    "                  \"D:\\\\ml\\\\undersampling_data\\\\reports\\\\ssh\\\\accuracy_metrics.txt\"]\n",
    "    results_mean = []\n",
    "    results_std = []\n",
    "\n",
    "    for metrix1, path_file in zip(goal, path_files):\n",
    "        with open(path_file, \"a+\") as f:\n",
    "            #cross_validation\n",
    "            cross_val_results = cross_val_score(model, X_train, y_train, cv=cv, scoring=metrix1, n_jobs=1)\n",
    "            #push results to list\n",
    "            results_mean.append(cross_val_results.mean())\n",
    "            results_std.append(cross_val_results.std())\n",
    "            print(f\"{metrix1} mean: {cross_val_results.mean()}\")\n",
    "            print(f\"{metrix1} std: {cross_val_results.std()}\")\n",
    "                \n",
    "            # Zapis wyników do pliku\n",
    "            print(f'Cross-Validation Results {metrix1}:\\n {cross_val_results}', file=f)\n",
    "            print(f'Mean {metrix1}: {cross_val_results.mean()}', file=f)\n",
    "            print(f'Dev: {cross_val_results.std()}', file=f)\n",
    "            print(\"\\n\", file=f)\n",
    "\n",
    "    return results_mean, results_std"
   ]
  }
 ],
 "metadata": {
  "language_info": {
   "name": "python"
  }
 },
 "nbformat": 4,
 "nbformat_minor": 2
}
